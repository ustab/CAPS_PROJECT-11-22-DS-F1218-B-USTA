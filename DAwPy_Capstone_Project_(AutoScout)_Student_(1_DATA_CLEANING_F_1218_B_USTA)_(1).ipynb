{
  "cells": [
    {
      "cell_type": "markdown",
      "metadata": {
        "id": "view-in-github",
        "colab_type": "text"
      },
      "source": [
        "<a href=\"https://colab.research.google.com/github/ustab/CAPS_PROJECT-11-22-DS-F1218-B-USTA/blob/main/DAwPy_Capstone_Project_(AutoScout)_Student_(1_DATA_CLEANING_F_1218_B_USTA)_(1).ipynb\" target=\"_parent\"><img src=\"https://colab.research.google.com/assets/colab-badge.svg\" alt=\"Open In Colab\"/></a>"
      ]
    },
    {
      "cell_type": "markdown",
      "metadata": {
        "id": "Bv1I7_aas1L3"
      },
      "source": [
        "___\n",
        "\n",
        "<p style=\"text-align: center;\"><img src=\"https://docs.google.com/uc?id=1lY0Uj5R04yMY3-ZppPWxqCr5pvBLYPnV\" class=\"img-fluid\" \n",
        "alt=\"CLRSWY\"></p>\n",
        "\n",
        "## <p style=\"background-color:#FDFEFE; font-family:newtimeroman; color:#9d4f8c; font-size:100%; text-align:center; border-radius:10px 10px;\">WAY TO REINVENT YOURSELF</p>"
      ]
    },
    {
      "cell_type": "markdown",
      "metadata": {
        "id": "Bkw3_pB0s1L-"
      },
      "source": [
        "<img src=https://i.ibb.co/wJW61Y2/Used-cars.jpg width=\"700\" height=\"200\">\n",
        "\n",
        "## <p style=\"background-color:#FDFEFE; font-family:newtimeroman; color:#060108; font-size:200%; text-align:center; border-radius:10px 10px;\">The Capstone Project of Data Analytics Module</p>\n",
        "\n",
        "## <p style=\"background-color:#FDFEFE; font-family:newtimeroman; color:#060108; font-size:150%; text-align:center; border-radius:10px 10px;\">Car Price Prediction EDA</p>"
      ]
    },
    {
      "cell_type": "markdown",
      "metadata": {
        "id": "_eK4qWzyYySi"
      },
      "source": [
        "# PART- 1 ( Data Cleaning )"
      ]
    },
    {
      "cell_type": "markdown",
      "metadata": {
        "id": "Z_oWczxZs1MA"
      },
      "source": [
        "## Introduction\n",
        "Welcome to \"***AutoScout Data Analysis Project***\". This is the capstone project of ***Data Analysis*** Module. **Auto Scout** data which using for this project, scraped from the on-line car trading company in 2019, contains many features of 9 different car models. In this project, you will have the opportunity to apply many commonly used algorithms for Data Cleaning and Exploratory Data Analysis by using many Python libraries such as Numpy, Pandas, Matplotlib, Seaborn, Scipy you will analyze clean dataset.\n",
        "\n",
        "### Some Reminders on Exploratory data analysis (EDA)\n",
        "\n",
        "Exploratory data analysis (EDA) is an especially important activity in the routine of a data analyst or scientist. It enables an in depth understanding of the dataset, define or discard hypotheses and create predictive models on a solid basis. It uses data manipulation techniques and several statistical tools to describe and understand the relationship between variables and how these can impact business. By means of EDA, we can obtain meaningful insights that can impact analysis under the following questions (If a checklist is good enough for pilots to use every flight, it’s good enough for data scientists to use with every dataset).\n",
        "1. What question are you trying to solve (or prove wrong)?\n",
        "2. What kind of data do you have?\n",
        "3. What’s missing from the data?\n",
        "4. Where are the outliers?\n",
        "5. How can you add, change or remove features to get more out of your data?\n",
        "\n",
        "**``Exploratory data analysis (EDA)``** is often an **iterative brainstorming process** where you pose a question, review the data, and develop further questions to investigate before beginning model development work. The image below shows how the brainstorming phase is connected with that of understanding the variables and how this in turn is connected again with the brainstorming phase.<br>\n",
        "\n",
        "<img src=https://i.ibb.co/k0MC950/EDA-Process.png width=\"300\" height=\"100\">\n",
        "\n",
        "[Image Credit: Andrew D.](https://towardsdatascience.com/exploratory-data-analysis-in-python-a-step-by-step-process-d0dfa6bf94ee)\n",
        "\n",
        "**``In this context, the project consists of 3 parts in general:``**\n",
        "* **The first part** is related to 'Data Cleaning'. It deals with Incorrect Headers, Incorrect Format, Anomalies, and Dropping useless columns.\n",
        "* **The second part** is related to 'Filling Data', in other words 'Imputation'. It deals with Missing Values. Categorical to numeric transformation is done as well.\n",
        "* **The third part** is related to 'Handling Outliers of Data' via Visualization libraries. So, some insights will be extracted.\n",
        "\n",
        "**``NOTE:``**  However, you are free to create your own style. You do NOT have to stick to the steps above. We, the DA & DV instructors, recommend you study each part separately to create a source notebook for each part title for your further studies. "
      ]
    },
    {
      "cell_type": "code",
      "execution_count": 199,
      "metadata": {
        "colab": {
          "base_uri": "https://localhost:8080/"
        },
        "id": "bkTMM16bSQ49",
        "outputId": "7c93175d-7241-48cc-a1f3-84142a4f97a8"
      },
      "outputs": [
        {
          "output_type": "stream",
          "name": "stdout",
          "text": [
            "Looking in indexes: https://pypi.org/simple, https://us-python.pkg.dev/colab-wheels/public/simple/\n",
            "Requirement already satisfied: skimpy in /root/.local/lib/python3.7/site-packages (0.0.5)\n",
            "Requirement already satisfied: click==7.1.2 in /usr/local/lib/python3.7/dist-packages (from skimpy) (7.1.2)\n",
            "Requirement already satisfied: typeguard<3.0.0,>=2.12.1 in /root/.local/lib/python3.7/site-packages (from skimpy) (2.13.3)\n",
            "Requirement already satisfied: Pygments<3.0.0,>=2.10.0 in /root/.local/lib/python3.7/site-packages (from skimpy) (2.12.0)\n",
            "Requirement already satisfied: pandas<2.0.0,>=1.3.2 in /usr/local/lib/python3.7/dist-packages (from skimpy) (1.3.5)\n",
            "Requirement already satisfied: rich<11.0.0,>=10.9.0 in /root/.local/lib/python3.7/site-packages (from skimpy) (10.16.2)\n",
            "Requirement already satisfied: pytz>=2017.3 in /usr/local/lib/python3.7/dist-packages (from pandas<2.0.0,>=1.3.2->skimpy) (2022.1)\n",
            "Requirement already satisfied: numpy>=1.17.3 in /usr/local/lib/python3.7/dist-packages (from pandas<2.0.0,>=1.3.2->skimpy) (1.21.6)\n",
            "Requirement already satisfied: python-dateutil>=2.7.3 in /usr/local/lib/python3.7/dist-packages (from pandas<2.0.0,>=1.3.2->skimpy) (2.8.2)\n",
            "Requirement already satisfied: six>=1.5 in /usr/local/lib/python3.7/dist-packages (from python-dateutil>=2.7.3->pandas<2.0.0,>=1.3.2->skimpy) (1.15.0)\n",
            "Requirement already satisfied: colorama<0.5.0,>=0.4.0 in /root/.local/lib/python3.7/site-packages (from rich<11.0.0,>=10.9.0->skimpy) (0.4.5)\n",
            "Requirement already satisfied: typing-extensions<5.0,>=3.7.4 in /usr/local/lib/python3.7/dist-packages (from rich<11.0.0,>=10.9.0->skimpy) (4.1.1)\n",
            "Requirement already satisfied: commonmark<0.10.0,>=0.9.0 in /root/.local/lib/python3.7/site-packages (from rich<11.0.0,>=10.9.0->skimpy) (0.9.1)\n"
          ]
        }
      ],
      "source": [
        "pip install skimpy --user"
      ]
    },
    {
      "cell_type": "code",
      "execution_count": 200,
      "metadata": {
        "id": "jhfS0ndbU-OX"
      },
      "outputs": [],
      "source": [
        "import numpy as np\n",
        "import pandas as pd\n",
        "import seaborn as sns \n",
        "import matplotlib.pyplot as plt\n",
        "import warnings\n",
        "warnings.filterwarnings(\"ignore\")\n",
        "warnings.warn(\"this will not show\")\n",
        "%matplotlib inline\n",
        "plt.rcParams[\"figure.figsize\"] = (10,6)\n",
        "sns.set_style(\"darkgrid\")\n",
        "pd.set_option('display.float_format', lambda x: '%.2f' % x)\n",
        "pd.options.display.max_rows = 100\n",
        "pd.options.display.max_columns = 100"
      ]
    },
    {
      "cell_type": "code",
      "source": [
        ""
      ],
      "metadata": {
        "id": "I-M9A-_Ba_uF"
      },
      "execution_count": 200,
      "outputs": []
    },
    {
      "cell_type": "code",
      "source": [
        "from google.colab import drive\n",
        "drive.mount('/content/drive')"
      ],
      "metadata": {
        "colab": {
          "base_uri": "https://localhost:8080/"
        },
        "id": "rcrw8KOmbCnf",
        "outputId": "691ec4c6-7955-4ce8-84c2-70aa0cf31864"
      },
      "execution_count": 201,
      "outputs": [
        {
          "output_type": "stream",
          "name": "stdout",
          "text": [
            "Mounted at /content/drive\n"
          ]
        }
      ]
    },
    {
      "cell_type": "code",
      "source": [
        "import numpy as np\n",
        "import pandas as pd\n",
        "import seaborn as sns\n",
        "import matplotlib as plt\n",
        "import json\n",
        "%matplotlib inline"
      ],
      "metadata": {
        "id": "JNRTvygkccln"
      },
      "execution_count": 202,
      "outputs": []
    },
    {
      "cell_type": "code",
      "execution_count": 203,
      "metadata": {
        "colab": {
          "base_uri": "https://localhost:8080/",
          "height": 756
        },
        "id": "NVMrDXDZVZCy",
        "outputId": "72c95969-21d7-488f-9b4b-0a52ba93096f"
      },
      "outputs": [
        {
          "output_type": "execute_result",
          "data": {
            "text/plain": [
              "                                                 url make_model  \\\n",
              "0  https://www.autoscout24.com//offers/audi-a1-sp...    Audi A1   \n",
              "1  https://www.autoscout24.com//offers/audi-a1-1-...    Audi A1   \n",
              "2  https://www.autoscout24.com//offers/audi-a1-sp...    Audi A1   \n",
              "3  https://www.autoscout24.com//offers/audi-a1-1-...    Audi A1   \n",
              "4  https://www.autoscout24.com//offers/audi-a1-sp...    Audi A1   \n",
              "\n",
              "                                   short_description body_type  price  \\\n",
              "0        Sportback 1.4 TDI S-tronic Xenon Navi Klima    Sedans  15770   \n",
              "1                                     1.8 TFSI sport    Sedans  14500   \n",
              "2  Sportback 1.6 TDI S tronic Einparkhilfe plus+m...    Sedans  14640   \n",
              "3                            1.4 TDi Design S tronic    Sedans  14500   \n",
              "4  Sportback 1.4 TDI S-Tronic S-Line Ext. admired...    Sedans  16790   \n",
              "\n",
              "                vat         km registration         prev_owner  kW      hp  \\\n",
              "0    VAT deductible  56,013 km      01/2016  2 previous owners NaN   66 kW   \n",
              "1  Price negotiable  80,000 km      03/2017               None NaN  141 kW   \n",
              "2    VAT deductible  83,450 km      02/2016   1 previous owner NaN   85 kW   \n",
              "3              None  73,000 km      08/2016   1 previous owner NaN   66 kW   \n",
              "4              None  16,200 km      05/2016   1 previous owner NaN   66 kW   \n",
              "\n",
              "                                      Type Previous Owners  \\\n",
              "0  [, Used, , Diesel (Particulate Filter)]           \\n2\\n   \n",
              "1                     [, Used, , Gasoline]             NaN   \n",
              "2  [, Used, , Diesel (Particulate Filter)]           \\n1\\n   \n",
              "3  [, Used, , Diesel (Particulate Filter)]           \\n1\\n   \n",
              "4  [, Used, , Diesel (Particulate Filter)]           \\n1\\n   \n",
              "\n",
              "                         Next Inspection                      Inspection new  \\\n",
              "0  [\\n06/2021\\n, \\n99 g CO2/km (comb)\\n]               [\\nYes\\n, \\nEuro 6\\n]   \n",
              "1                                    NaN                                 NaN   \n",
              "2                                    NaN                                 NaN   \n",
              "3                                    NaN                                 NaN   \n",
              "4                                    NaN  [\\nYes\\n, \\n109 g CO2/km (comb)\\n]   \n",
              "\n",
              "                           Warranty                      Full Service  \\\n",
              "0           [\\n, \\n, \\n4 (Green)\\n]                          [\\n, \\n]   \n",
              "1                               NaN                               NaN   \n",
              "2  [\\n, \\n, \\n99 g CO2/km (comb)\\n]                               NaN   \n",
              "3                               NaN  [\\n, \\n, \\n99 g CO2/km (comb)\\n]   \n",
              "4              [\\n, \\n, \\nEuro 6\\n]           [\\n, \\n, \\n4 (Green)\\n]   \n",
              "\n",
              "    Non-smoking Vehicle null      Make         Model     Offer Number  \\\n",
              "0              [\\n, \\n]   []  \\nAudi\\n  [\\n, A1, \\n]  [\\nLR-062483\\n]   \n",
              "1                   NaN   []  \\nAudi\\n  [\\n, A1, \\n]              NaN   \n",
              "2                   NaN   []  \\nAudi\\n  [\\n, A1, \\n]   [\\nAM-95365\\n]   \n",
              "3  [\\n, \\n, \\nEuro 6\\n]   []  \\nAudi\\n  [\\n, A1, \\n]              NaN   \n",
              "4              [\\n, \\n]   []  \\nAudi\\n  [\\n, A1, \\n]      [\\nC1626\\n]   \n",
              "\n",
              "  First Registration       Body Color      Paint Type  \\\n",
              "0     [\\n, 2016, \\n]  [\\n, Black, \\n]  [\\nMetallic\\n]   \n",
              "1     [\\n, 2017, \\n]    [\\n, Red, \\n]             NaN   \n",
              "2     [\\n, 2016, \\n]  [\\n, Black, \\n]  [\\nMetallic\\n]   \n",
              "3     [\\n, 2016, \\n]  [\\n, Brown, \\n]  [\\nMetallic\\n]   \n",
              "4     [\\n, 2016, \\n]  [\\n, Black, \\n]  [\\nMetallic\\n]   \n",
              "\n",
              "            Body Color Original          Upholstery              Body  \\\n",
              "0           [\\nMythosschwarz\\n]  [\\nCloth, Black\\n]  [\\n, Sedans, \\n]   \n",
              "1                           NaN   [\\nCloth, Grey\\n]  [\\n, Sedans, \\n]   \n",
              "2  [\\nmythosschwarz metallic\\n]  [\\nCloth, Black\\n]  [\\n, Sedans, \\n]   \n",
              "3                           NaN                 NaN  [\\n, Sedans, \\n]   \n",
              "4  [\\nMythosschwarz Metallic\\n]  [\\nCloth, Black\\n]  [\\n, Sedans, \\n]   \n",
              "\n",
              "  Nr. of Doors Nr. of Seats      Model Code         Gearing Type  \\\n",
              "0      [\\n5\\n]      [\\n5\\n]  [\\n0588/BDF\\n]  [\\n, Automatic, \\n]   \n",
              "1      [\\n3\\n]      [\\n4\\n]  [\\n0588/BCY\\n]  [\\n, Automatic, \\n]   \n",
              "2      [\\n4\\n]      [\\n4\\n]             NaN  [\\n, Automatic, \\n]   \n",
              "3      [\\n3\\n]      [\\n4\\n]             NaN  [\\n, Automatic, \\n]   \n",
              "4      [\\n5\\n]      [\\n5\\n]  [\\n0588/BDF\\n]  [\\n, Automatic, \\n]   \n",
              "\n",
              "     Displacement Cylinders          Weight  Drive chain  \\\n",
              "0  [\\n1,422 cc\\n]   [\\n3\\n]  [\\n1,220 kg\\n]  [\\nfront\\n]   \n",
              "1  [\\n1,798 cc\\n]   [\\n4\\n]  [\\n1,255 kg\\n]  [\\nfront\\n]   \n",
              "2  [\\n1,598 cc\\n]       NaN             NaN  [\\nfront\\n]   \n",
              "3  [\\n1,422 cc\\n]   [\\n3\\n]  [\\n1,195 kg\\n]          NaN   \n",
              "4  [\\n1,422 cc\\n]   [\\n3\\n]             NaN  [\\nfront\\n]   \n",
              "\n",
              "                                    Fuel  \\\n",
              "0  [\\n, Diesel (Particulate Filter), \\n]   \n",
              "1                     [\\n, Gasoline, \\n]   \n",
              "2  [\\n, Diesel (Particulate Filter), \\n]   \n",
              "3  [\\n, Diesel (Particulate Filter), \\n]   \n",
              "4  [\\n, Diesel (Particulate Filter), \\n]   \n",
              "\n",
              "                                         Consumption  \\\n",
              "0  [[3.8 l/100 km (comb)], [4.3 l/100 km (city)],...   \n",
              "1  [[5.6 l/100 km (comb)], [7.1 l/100 km (city)],...   \n",
              "2  [[3.8 l/100 km (comb)], [4.4 l/100 km (city)],...   \n",
              "3  [[3.8 l/100 km (comb)], [4.3 l/100 km (city)],...   \n",
              "4  [[4.1 l/100 km (comb)], [4.6 l/100 km (city)],...   \n",
              "\n",
              "                CO2 Emission Emission Class  \\\n",
              "0   [\\n99 g CO2/km (comb)\\n]   [\\nEuro 6\\n]   \n",
              "1  [\\n129 g CO2/km (comb)\\n]   [\\nEuro 6\\n]   \n",
              "2   [\\n99 g CO2/km (comb)\\n]   [\\nEuro 6\\n]   \n",
              "3   [\\n99 g CO2/km (comb)\\n]   [\\nEuro 6\\n]   \n",
              "4  [\\n109 g CO2/km (comb)\\n]   [\\nEuro 6\\n]   \n",
              "\n",
              "                           \\nComfort & Convenience\\n  \\\n",
              "0  [Air conditioning, Armrest, Automatic climate ...   \n",
              "1  [Air conditioning, Automatic climate control, ...   \n",
              "2  [Air conditioning, Cruise control, Electrical ...   \n",
              "3  [Air suspension, Armrest, Auxiliary heating, E...   \n",
              "4  [Air conditioning, Armrest, Automatic climate ...   \n",
              "\n",
              "                           \\nEntertainment & Media\\n  \\\n",
              "0  [Bluetooth, Hands-free equipment, On-board com...   \n",
              "1  [Bluetooth, Hands-free equipment, On-board com...   \n",
              "2                           [MP3, On-board computer]   \n",
              "3  [Bluetooth, CD player, Hands-free equipment, M...   \n",
              "4  [Bluetooth, CD player, Hands-free equipment, M...   \n",
              "\n",
              "                                          \\nExtras\\n  \\\n",
              "0  [Alloy wheels, Catalytic Converter, Voice Cont...   \n",
              "1  [Alloy wheels, Sport seats, Sport suspension, ...   \n",
              "2                      [Alloy wheels, Voice Control]   \n",
              "3         [Alloy wheels, Sport seats, Voice Control]   \n",
              "4  [Alloy wheels, Sport package, Sport suspension...   \n",
              "\n",
              "                               \\nSafety & Security\\n  \\\n",
              "0  [ABS, Central door lock, Daytime running light...   \n",
              "1  [ABS, Central door lock, Central door lock wit...   \n",
              "2  [ABS, Central door lock, Daytime running light...   \n",
              "3  [ABS, Alarm system, Central door lock with rem...   \n",
              "4  [ABS, Central door lock, Driver-side airbag, E...   \n",
              "\n",
              "                                         description   Emission Label  \\\n",
              "0  [\\n, Sicherheit:,  , Deaktivierung für Beifahr...              NaN   \n",
              "1  [\\nLangstreckenfahrzeug daher die hohe Kilomet...  [\\n4 (Green)\\n]   \n",
              "2  [\\n, Fahrzeug-Nummer: AM-95365,  , Ehem. UPE 2...  [\\n4 (Green)\\n]   \n",
              "3  [\\nAudi A1: , - 1e eigenaar , - Perfecte staat...              NaN   \n",
              "4  [\\n, Technik & Sicherheit:, Xenon plus, Klimaa...              NaN   \n",
              "\n",
              "     Gears Country version Electricity consumption Last Service Date  \\\n",
              "0      NaN             NaN                     NaN               NaN   \n",
              "1  [\\n7\\n]             NaN                     NaN               NaN   \n",
              "2      NaN             NaN                     NaN               NaN   \n",
              "3  [\\n6\\n]             NaN                     NaN               NaN   \n",
              "4      NaN   [\\nGermany\\n]                     NaN               NaN   \n",
              "\n",
              "  Other Fuel Types Availability Last Timing Belt Service Date Available from  \n",
              "0              NaN          NaN                           NaN            NaN  \n",
              "1              NaN          NaN                           NaN            NaN  \n",
              "2              NaN          NaN                           NaN            NaN  \n",
              "3              NaN          NaN                           NaN            NaN  \n",
              "4              NaN          NaN                           NaN            NaN  "
            ],
            "text/html": [
              "\n",
              "  <div id=\"df-6dcf6468-1b3c-4bce-bb7d-83876727e645\">\n",
              "    <div class=\"colab-df-container\">\n",
              "      <div>\n",
              "<style scoped>\n",
              "    .dataframe tbody tr th:only-of-type {\n",
              "        vertical-align: middle;\n",
              "    }\n",
              "\n",
              "    .dataframe tbody tr th {\n",
              "        vertical-align: top;\n",
              "    }\n",
              "\n",
              "    .dataframe thead th {\n",
              "        text-align: right;\n",
              "    }\n",
              "</style>\n",
              "<table border=\"1\" class=\"dataframe\">\n",
              "  <thead>\n",
              "    <tr style=\"text-align: right;\">\n",
              "      <th></th>\n",
              "      <th>url</th>\n",
              "      <th>make_model</th>\n",
              "      <th>short_description</th>\n",
              "      <th>body_type</th>\n",
              "      <th>price</th>\n",
              "      <th>vat</th>\n",
              "      <th>km</th>\n",
              "      <th>registration</th>\n",
              "      <th>prev_owner</th>\n",
              "      <th>kW</th>\n",
              "      <th>hp</th>\n",
              "      <th>Type</th>\n",
              "      <th>Previous Owners</th>\n",
              "      <th>Next Inspection</th>\n",
              "      <th>Inspection new</th>\n",
              "      <th>Warranty</th>\n",
              "      <th>Full Service</th>\n",
              "      <th>Non-smoking Vehicle</th>\n",
              "      <th>null</th>\n",
              "      <th>Make</th>\n",
              "      <th>Model</th>\n",
              "      <th>Offer Number</th>\n",
              "      <th>First Registration</th>\n",
              "      <th>Body Color</th>\n",
              "      <th>Paint Type</th>\n",
              "      <th>Body Color Original</th>\n",
              "      <th>Upholstery</th>\n",
              "      <th>Body</th>\n",
              "      <th>Nr. of Doors</th>\n",
              "      <th>Nr. of Seats</th>\n",
              "      <th>Model Code</th>\n",
              "      <th>Gearing Type</th>\n",
              "      <th>Displacement</th>\n",
              "      <th>Cylinders</th>\n",
              "      <th>Weight</th>\n",
              "      <th>Drive chain</th>\n",
              "      <th>Fuel</th>\n",
              "      <th>Consumption</th>\n",
              "      <th>CO2 Emission</th>\n",
              "      <th>Emission Class</th>\n",
              "      <th>\\nComfort &amp; Convenience\\n</th>\n",
              "      <th>\\nEntertainment &amp; Media\\n</th>\n",
              "      <th>\\nExtras\\n</th>\n",
              "      <th>\\nSafety &amp; Security\\n</th>\n",
              "      <th>description</th>\n",
              "      <th>Emission Label</th>\n",
              "      <th>Gears</th>\n",
              "      <th>Country version</th>\n",
              "      <th>Electricity consumption</th>\n",
              "      <th>Last Service Date</th>\n",
              "      <th>Other Fuel Types</th>\n",
              "      <th>Availability</th>\n",
              "      <th>Last Timing Belt Service Date</th>\n",
              "      <th>Available from</th>\n",
              "    </tr>\n",
              "  </thead>\n",
              "  <tbody>\n",
              "    <tr>\n",
              "      <th>0</th>\n",
              "      <td>https://www.autoscout24.com//offers/audi-a1-sp...</td>\n",
              "      <td>Audi A1</td>\n",
              "      <td>Sportback 1.4 TDI S-tronic Xenon Navi Klima</td>\n",
              "      <td>Sedans</td>\n",
              "      <td>15770</td>\n",
              "      <td>VAT deductible</td>\n",
              "      <td>56,013 km</td>\n",
              "      <td>01/2016</td>\n",
              "      <td>2 previous owners</td>\n",
              "      <td>NaN</td>\n",
              "      <td>66 kW</td>\n",
              "      <td>[, Used, , Diesel (Particulate Filter)]</td>\n",
              "      <td>\\n2\\n</td>\n",
              "      <td>[\\n06/2021\\n, \\n99 g CO2/km (comb)\\n]</td>\n",
              "      <td>[\\nYes\\n, \\nEuro 6\\n]</td>\n",
              "      <td>[\\n, \\n, \\n4 (Green)\\n]</td>\n",
              "      <td>[\\n, \\n]</td>\n",
              "      <td>[\\n, \\n]</td>\n",
              "      <td>[]</td>\n",
              "      <td>\\nAudi\\n</td>\n",
              "      <td>[\\n, A1, \\n]</td>\n",
              "      <td>[\\nLR-062483\\n]</td>\n",
              "      <td>[\\n, 2016, \\n]</td>\n",
              "      <td>[\\n, Black, \\n]</td>\n",
              "      <td>[\\nMetallic\\n]</td>\n",
              "      <td>[\\nMythosschwarz\\n]</td>\n",
              "      <td>[\\nCloth, Black\\n]</td>\n",
              "      <td>[\\n, Sedans, \\n]</td>\n",
              "      <td>[\\n5\\n]</td>\n",
              "      <td>[\\n5\\n]</td>\n",
              "      <td>[\\n0588/BDF\\n]</td>\n",
              "      <td>[\\n, Automatic, \\n]</td>\n",
              "      <td>[\\n1,422 cc\\n]</td>\n",
              "      <td>[\\n3\\n]</td>\n",
              "      <td>[\\n1,220 kg\\n]</td>\n",
              "      <td>[\\nfront\\n]</td>\n",
              "      <td>[\\n, Diesel (Particulate Filter), \\n]</td>\n",
              "      <td>[[3.8 l/100 km (comb)], [4.3 l/100 km (city)],...</td>\n",
              "      <td>[\\n99 g CO2/km (comb)\\n]</td>\n",
              "      <td>[\\nEuro 6\\n]</td>\n",
              "      <td>[Air conditioning, Armrest, Automatic climate ...</td>\n",
              "      <td>[Bluetooth, Hands-free equipment, On-board com...</td>\n",
              "      <td>[Alloy wheels, Catalytic Converter, Voice Cont...</td>\n",
              "      <td>[ABS, Central door lock, Daytime running light...</td>\n",
              "      <td>[\\n, Sicherheit:,  , Deaktivierung für Beifahr...</td>\n",
              "      <td>NaN</td>\n",
              "      <td>NaN</td>\n",
              "      <td>NaN</td>\n",
              "      <td>NaN</td>\n",
              "      <td>NaN</td>\n",
              "      <td>NaN</td>\n",
              "      <td>NaN</td>\n",
              "      <td>NaN</td>\n",
              "      <td>NaN</td>\n",
              "    </tr>\n",
              "    <tr>\n",
              "      <th>1</th>\n",
              "      <td>https://www.autoscout24.com//offers/audi-a1-1-...</td>\n",
              "      <td>Audi A1</td>\n",
              "      <td>1.8 TFSI sport</td>\n",
              "      <td>Sedans</td>\n",
              "      <td>14500</td>\n",
              "      <td>Price negotiable</td>\n",
              "      <td>80,000 km</td>\n",
              "      <td>03/2017</td>\n",
              "      <td>None</td>\n",
              "      <td>NaN</td>\n",
              "      <td>141 kW</td>\n",
              "      <td>[, Used, , Gasoline]</td>\n",
              "      <td>NaN</td>\n",
              "      <td>NaN</td>\n",
              "      <td>NaN</td>\n",
              "      <td>NaN</td>\n",
              "      <td>NaN</td>\n",
              "      <td>NaN</td>\n",
              "      <td>[]</td>\n",
              "      <td>\\nAudi\\n</td>\n",
              "      <td>[\\n, A1, \\n]</td>\n",
              "      <td>NaN</td>\n",
              "      <td>[\\n, 2017, \\n]</td>\n",
              "      <td>[\\n, Red, \\n]</td>\n",
              "      <td>NaN</td>\n",
              "      <td>NaN</td>\n",
              "      <td>[\\nCloth, Grey\\n]</td>\n",
              "      <td>[\\n, Sedans, \\n]</td>\n",
              "      <td>[\\n3\\n]</td>\n",
              "      <td>[\\n4\\n]</td>\n",
              "      <td>[\\n0588/BCY\\n]</td>\n",
              "      <td>[\\n, Automatic, \\n]</td>\n",
              "      <td>[\\n1,798 cc\\n]</td>\n",
              "      <td>[\\n4\\n]</td>\n",
              "      <td>[\\n1,255 kg\\n]</td>\n",
              "      <td>[\\nfront\\n]</td>\n",
              "      <td>[\\n, Gasoline, \\n]</td>\n",
              "      <td>[[5.6 l/100 km (comb)], [7.1 l/100 km (city)],...</td>\n",
              "      <td>[\\n129 g CO2/km (comb)\\n]</td>\n",
              "      <td>[\\nEuro 6\\n]</td>\n",
              "      <td>[Air conditioning, Automatic climate control, ...</td>\n",
              "      <td>[Bluetooth, Hands-free equipment, On-board com...</td>\n",
              "      <td>[Alloy wheels, Sport seats, Sport suspension, ...</td>\n",
              "      <td>[ABS, Central door lock, Central door lock wit...</td>\n",
              "      <td>[\\nLangstreckenfahrzeug daher die hohe Kilomet...</td>\n",
              "      <td>[\\n4 (Green)\\n]</td>\n",
              "      <td>[\\n7\\n]</td>\n",
              "      <td>NaN</td>\n",
              "      <td>NaN</td>\n",
              "      <td>NaN</td>\n",
              "      <td>NaN</td>\n",
              "      <td>NaN</td>\n",
              "      <td>NaN</td>\n",
              "      <td>NaN</td>\n",
              "    </tr>\n",
              "    <tr>\n",
              "      <th>2</th>\n",
              "      <td>https://www.autoscout24.com//offers/audi-a1-sp...</td>\n",
              "      <td>Audi A1</td>\n",
              "      <td>Sportback 1.6 TDI S tronic Einparkhilfe plus+m...</td>\n",
              "      <td>Sedans</td>\n",
              "      <td>14640</td>\n",
              "      <td>VAT deductible</td>\n",
              "      <td>83,450 km</td>\n",
              "      <td>02/2016</td>\n",
              "      <td>1 previous owner</td>\n",
              "      <td>NaN</td>\n",
              "      <td>85 kW</td>\n",
              "      <td>[, Used, , Diesel (Particulate Filter)]</td>\n",
              "      <td>\\n1\\n</td>\n",
              "      <td>NaN</td>\n",
              "      <td>NaN</td>\n",
              "      <td>[\\n, \\n, \\n99 g CO2/km (comb)\\n]</td>\n",
              "      <td>NaN</td>\n",
              "      <td>NaN</td>\n",
              "      <td>[]</td>\n",
              "      <td>\\nAudi\\n</td>\n",
              "      <td>[\\n, A1, \\n]</td>\n",
              "      <td>[\\nAM-95365\\n]</td>\n",
              "      <td>[\\n, 2016, \\n]</td>\n",
              "      <td>[\\n, Black, \\n]</td>\n",
              "      <td>[\\nMetallic\\n]</td>\n",
              "      <td>[\\nmythosschwarz metallic\\n]</td>\n",
              "      <td>[\\nCloth, Black\\n]</td>\n",
              "      <td>[\\n, Sedans, \\n]</td>\n",
              "      <td>[\\n4\\n]</td>\n",
              "      <td>[\\n4\\n]</td>\n",
              "      <td>NaN</td>\n",
              "      <td>[\\n, Automatic, \\n]</td>\n",
              "      <td>[\\n1,598 cc\\n]</td>\n",
              "      <td>NaN</td>\n",
              "      <td>NaN</td>\n",
              "      <td>[\\nfront\\n]</td>\n",
              "      <td>[\\n, Diesel (Particulate Filter), \\n]</td>\n",
              "      <td>[[3.8 l/100 km (comb)], [4.4 l/100 km (city)],...</td>\n",
              "      <td>[\\n99 g CO2/km (comb)\\n]</td>\n",
              "      <td>[\\nEuro 6\\n]</td>\n",
              "      <td>[Air conditioning, Cruise control, Electrical ...</td>\n",
              "      <td>[MP3, On-board computer]</td>\n",
              "      <td>[Alloy wheels, Voice Control]</td>\n",
              "      <td>[ABS, Central door lock, Daytime running light...</td>\n",
              "      <td>[\\n, Fahrzeug-Nummer: AM-95365,  , Ehem. UPE 2...</td>\n",
              "      <td>[\\n4 (Green)\\n]</td>\n",
              "      <td>NaN</td>\n",
              "      <td>NaN</td>\n",
              "      <td>NaN</td>\n",
              "      <td>NaN</td>\n",
              "      <td>NaN</td>\n",
              "      <td>NaN</td>\n",
              "      <td>NaN</td>\n",
              "      <td>NaN</td>\n",
              "    </tr>\n",
              "    <tr>\n",
              "      <th>3</th>\n",
              "      <td>https://www.autoscout24.com//offers/audi-a1-1-...</td>\n",
              "      <td>Audi A1</td>\n",
              "      <td>1.4 TDi Design S tronic</td>\n",
              "      <td>Sedans</td>\n",
              "      <td>14500</td>\n",
              "      <td>None</td>\n",
              "      <td>73,000 km</td>\n",
              "      <td>08/2016</td>\n",
              "      <td>1 previous owner</td>\n",
              "      <td>NaN</td>\n",
              "      <td>66 kW</td>\n",
              "      <td>[, Used, , Diesel (Particulate Filter)]</td>\n",
              "      <td>\\n1\\n</td>\n",
              "      <td>NaN</td>\n",
              "      <td>NaN</td>\n",
              "      <td>NaN</td>\n",
              "      <td>[\\n, \\n, \\n99 g CO2/km (comb)\\n]</td>\n",
              "      <td>[\\n, \\n, \\nEuro 6\\n]</td>\n",
              "      <td>[]</td>\n",
              "      <td>\\nAudi\\n</td>\n",
              "      <td>[\\n, A1, \\n]</td>\n",
              "      <td>NaN</td>\n",
              "      <td>[\\n, 2016, \\n]</td>\n",
              "      <td>[\\n, Brown, \\n]</td>\n",
              "      <td>[\\nMetallic\\n]</td>\n",
              "      <td>NaN</td>\n",
              "      <td>NaN</td>\n",
              "      <td>[\\n, Sedans, \\n]</td>\n",
              "      <td>[\\n3\\n]</td>\n",
              "      <td>[\\n4\\n]</td>\n",
              "      <td>NaN</td>\n",
              "      <td>[\\n, Automatic, \\n]</td>\n",
              "      <td>[\\n1,422 cc\\n]</td>\n",
              "      <td>[\\n3\\n]</td>\n",
              "      <td>[\\n1,195 kg\\n]</td>\n",
              "      <td>NaN</td>\n",
              "      <td>[\\n, Diesel (Particulate Filter), \\n]</td>\n",
              "      <td>[[3.8 l/100 km (comb)], [4.3 l/100 km (city)],...</td>\n",
              "      <td>[\\n99 g CO2/km (comb)\\n]</td>\n",
              "      <td>[\\nEuro 6\\n]</td>\n",
              "      <td>[Air suspension, Armrest, Auxiliary heating, E...</td>\n",
              "      <td>[Bluetooth, CD player, Hands-free equipment, M...</td>\n",
              "      <td>[Alloy wheels, Sport seats, Voice Control]</td>\n",
              "      <td>[ABS, Alarm system, Central door lock with rem...</td>\n",
              "      <td>[\\nAudi A1: , - 1e eigenaar , - Perfecte staat...</td>\n",
              "      <td>NaN</td>\n",
              "      <td>[\\n6\\n]</td>\n",
              "      <td>NaN</td>\n",
              "      <td>NaN</td>\n",
              "      <td>NaN</td>\n",
              "      <td>NaN</td>\n",
              "      <td>NaN</td>\n",
              "      <td>NaN</td>\n",
              "      <td>NaN</td>\n",
              "    </tr>\n",
              "    <tr>\n",
              "      <th>4</th>\n",
              "      <td>https://www.autoscout24.com//offers/audi-a1-sp...</td>\n",
              "      <td>Audi A1</td>\n",
              "      <td>Sportback 1.4 TDI S-Tronic S-Line Ext. admired...</td>\n",
              "      <td>Sedans</td>\n",
              "      <td>16790</td>\n",
              "      <td>None</td>\n",
              "      <td>16,200 km</td>\n",
              "      <td>05/2016</td>\n",
              "      <td>1 previous owner</td>\n",
              "      <td>NaN</td>\n",
              "      <td>66 kW</td>\n",
              "      <td>[, Used, , Diesel (Particulate Filter)]</td>\n",
              "      <td>\\n1\\n</td>\n",
              "      <td>NaN</td>\n",
              "      <td>[\\nYes\\n, \\n109 g CO2/km (comb)\\n]</td>\n",
              "      <td>[\\n, \\n, \\nEuro 6\\n]</td>\n",
              "      <td>[\\n, \\n, \\n4 (Green)\\n]</td>\n",
              "      <td>[\\n, \\n]</td>\n",
              "      <td>[]</td>\n",
              "      <td>\\nAudi\\n</td>\n",
              "      <td>[\\n, A1, \\n]</td>\n",
              "      <td>[\\nC1626\\n]</td>\n",
              "      <td>[\\n, 2016, \\n]</td>\n",
              "      <td>[\\n, Black, \\n]</td>\n",
              "      <td>[\\nMetallic\\n]</td>\n",
              "      <td>[\\nMythosschwarz Metallic\\n]</td>\n",
              "      <td>[\\nCloth, Black\\n]</td>\n",
              "      <td>[\\n, Sedans, \\n]</td>\n",
              "      <td>[\\n5\\n]</td>\n",
              "      <td>[\\n5\\n]</td>\n",
              "      <td>[\\n0588/BDF\\n]</td>\n",
              "      <td>[\\n, Automatic, \\n]</td>\n",
              "      <td>[\\n1,422 cc\\n]</td>\n",
              "      <td>[\\n3\\n]</td>\n",
              "      <td>NaN</td>\n",
              "      <td>[\\nfront\\n]</td>\n",
              "      <td>[\\n, Diesel (Particulate Filter), \\n]</td>\n",
              "      <td>[[4.1 l/100 km (comb)], [4.6 l/100 km (city)],...</td>\n",
              "      <td>[\\n109 g CO2/km (comb)\\n]</td>\n",
              "      <td>[\\nEuro 6\\n]</td>\n",
              "      <td>[Air conditioning, Armrest, Automatic climate ...</td>\n",
              "      <td>[Bluetooth, CD player, Hands-free equipment, M...</td>\n",
              "      <td>[Alloy wheels, Sport package, Sport suspension...</td>\n",
              "      <td>[ABS, Central door lock, Driver-side airbag, E...</td>\n",
              "      <td>[\\n, Technik &amp; Sicherheit:, Xenon plus, Klimaa...</td>\n",
              "      <td>NaN</td>\n",
              "      <td>NaN</td>\n",
              "      <td>[\\nGermany\\n]</td>\n",
              "      <td>NaN</td>\n",
              "      <td>NaN</td>\n",
              "      <td>NaN</td>\n",
              "      <td>NaN</td>\n",
              "      <td>NaN</td>\n",
              "      <td>NaN</td>\n",
              "    </tr>\n",
              "  </tbody>\n",
              "</table>\n",
              "</div>\n",
              "      <button class=\"colab-df-convert\" onclick=\"convertToInteractive('df-6dcf6468-1b3c-4bce-bb7d-83876727e645')\"\n",
              "              title=\"Convert this dataframe to an interactive table.\"\n",
              "              style=\"display:none;\">\n",
              "        \n",
              "  <svg xmlns=\"http://www.w3.org/2000/svg\" height=\"24px\"viewBox=\"0 0 24 24\"\n",
              "       width=\"24px\">\n",
              "    <path d=\"M0 0h24v24H0V0z\" fill=\"none\"/>\n",
              "    <path d=\"M18.56 5.44l.94 2.06.94-2.06 2.06-.94-2.06-.94-.94-2.06-.94 2.06-2.06.94zm-11 1L8.5 8.5l.94-2.06 2.06-.94-2.06-.94L8.5 2.5l-.94 2.06-2.06.94zm10 10l.94 2.06.94-2.06 2.06-.94-2.06-.94-.94-2.06-.94 2.06-2.06.94z\"/><path d=\"M17.41 7.96l-1.37-1.37c-.4-.4-.92-.59-1.43-.59-.52 0-1.04.2-1.43.59L10.3 9.45l-7.72 7.72c-.78.78-.78 2.05 0 2.83L4 21.41c.39.39.9.59 1.41.59.51 0 1.02-.2 1.41-.59l7.78-7.78 2.81-2.81c.8-.78.8-2.07 0-2.86zM5.41 20L4 18.59l7.72-7.72 1.47 1.35L5.41 20z\"/>\n",
              "  </svg>\n",
              "      </button>\n",
              "      \n",
              "  <style>\n",
              "    .colab-df-container {\n",
              "      display:flex;\n",
              "      flex-wrap:wrap;\n",
              "      gap: 12px;\n",
              "    }\n",
              "\n",
              "    .colab-df-convert {\n",
              "      background-color: #E8F0FE;\n",
              "      border: none;\n",
              "      border-radius: 50%;\n",
              "      cursor: pointer;\n",
              "      display: none;\n",
              "      fill: #1967D2;\n",
              "      height: 32px;\n",
              "      padding: 0 0 0 0;\n",
              "      width: 32px;\n",
              "    }\n",
              "\n",
              "    .colab-df-convert:hover {\n",
              "      background-color: #E2EBFA;\n",
              "      box-shadow: 0px 1px 2px rgba(60, 64, 67, 0.3), 0px 1px 3px 1px rgba(60, 64, 67, 0.15);\n",
              "      fill: #174EA6;\n",
              "    }\n",
              "\n",
              "    [theme=dark] .colab-df-convert {\n",
              "      background-color: #3B4455;\n",
              "      fill: #D2E3FC;\n",
              "    }\n",
              "\n",
              "    [theme=dark] .colab-df-convert:hover {\n",
              "      background-color: #434B5C;\n",
              "      box-shadow: 0px 1px 3px 1px rgba(0, 0, 0, 0.15);\n",
              "      filter: drop-shadow(0px 1px 2px rgba(0, 0, 0, 0.3));\n",
              "      fill: #FFFFFF;\n",
              "    }\n",
              "  </style>\n",
              "\n",
              "      <script>\n",
              "        const buttonEl =\n",
              "          document.querySelector('#df-6dcf6468-1b3c-4bce-bb7d-83876727e645 button.colab-df-convert');\n",
              "        buttonEl.style.display =\n",
              "          google.colab.kernel.accessAllowed ? 'block' : 'none';\n",
              "\n",
              "        async function convertToInteractive(key) {\n",
              "          const element = document.querySelector('#df-6dcf6468-1b3c-4bce-bb7d-83876727e645');\n",
              "          const dataTable =\n",
              "            await google.colab.kernel.invokeFunction('convertToInteractive',\n",
              "                                                     [key], {});\n",
              "          if (!dataTable) return;\n",
              "\n",
              "          const docLinkHtml = 'Like what you see? Visit the ' +\n",
              "            '<a target=\"_blank\" href=https://colab.research.google.com/notebooks/data_table.ipynb>data table notebook</a>'\n",
              "            + ' to learn more about interactive tables.';\n",
              "          element.innerHTML = '';\n",
              "          dataTable['output_type'] = 'display_data';\n",
              "          await google.colab.output.renderOutput(dataTable, element);\n",
              "          const docLink = document.createElement('div');\n",
              "          docLink.innerHTML = docLinkHtml;\n",
              "          element.appendChild(docLink);\n",
              "        }\n",
              "      </script>\n",
              "    </div>\n",
              "  </div>\n",
              "  "
            ]
          },
          "metadata": {},
          "execution_count": 203
        }
      ],
      "source": [
        "df=pd.read_json('/content/scout_car.json', lines=True)\n",
        "df.head()"
      ]
    },
    {
      "cell_type": "code",
      "execution_count": 204,
      "metadata": {
        "colab": {
          "base_uri": "https://localhost:8080/"
        },
        "id": "A7oSVI-MXa2v",
        "outputId": "505ef12e-c695-42e9-f14e-288718feb862"
      },
      "outputs": [
        {
          "output_type": "stream",
          "name": "stdout",
          "text": [
            "<class 'pandas.core.frame.DataFrame'>\n",
            "RangeIndex: 15919 entries, 0 to 15918\n",
            "Data columns (total 54 columns):\n",
            " #   Column                         Non-Null Count  Dtype  \n",
            "---  ------                         --------------  -----  \n",
            " 0   url                            15919 non-null  object \n",
            " 1   make_model                     15919 non-null  object \n",
            " 2   short_description              15873 non-null  object \n",
            " 3   body_type                      15859 non-null  object \n",
            " 4   price                          15919 non-null  int64  \n",
            " 5   vat                            11406 non-null  object \n",
            " 6   km                             15919 non-null  object \n",
            " 7   registration                   15919 non-null  object \n",
            " 8   prev_owner                     9091 non-null   object \n",
            " 9   kW                             0 non-null      float64\n",
            " 10  hp                             15919 non-null  object \n",
            " 11  Type                           15917 non-null  object \n",
            " 12  Previous Owners                9279 non-null   object \n",
            " 13  Next Inspection                3535 non-null   object \n",
            " 14  Inspection new                 3932 non-null   object \n",
            " 15  Warranty                       10499 non-null  object \n",
            " 16  Full Service                   8215 non-null   object \n",
            " 17  Non-smoking Vehicle            7177 non-null   object \n",
            " 18  null                           15919 non-null  object \n",
            " 19  Make                           15919 non-null  object \n",
            " 20  Model                          15919 non-null  object \n",
            " 21  Offer Number                   12744 non-null  object \n",
            " 22  First Registration             14322 non-null  object \n",
            " 23  Body Color                     15322 non-null  object \n",
            " 24  Paint Type                     10147 non-null  object \n",
            " 25  Body Color Original            12160 non-null  object \n",
            " 26  Upholstery                     12199 non-null  object \n",
            " 27  Body                           15859 non-null  object \n",
            " 28  Nr. of Doors                   15707 non-null  object \n",
            " 29  Nr. of Seats                   14942 non-null  object \n",
            " 30  Model Code                     4978 non-null   object \n",
            " 31  Gearing Type                   15919 non-null  object \n",
            " 32  Displacement                   15423 non-null  object \n",
            " 33  Cylinders                      10239 non-null  object \n",
            " 34  Weight                         8945 non-null   object \n",
            " 35  Drive chain                    9061 non-null   object \n",
            " 36  Fuel                           15919 non-null  object \n",
            " 37  Consumption                    14013 non-null  object \n",
            " 38  CO2 Emission                   14111 non-null  object \n",
            " 39  Emission Class                 12898 non-null  object \n",
            " 40  \n",
            "Comfort & Convenience\n",
            "        14999 non-null  object \n",
            " 41  \n",
            "Entertainment & Media\n",
            "        14545 non-null  object \n",
            " 42  \n",
            "Extras\n",
            "                       12957 non-null  object \n",
            " 43  \n",
            "Safety & Security\n",
            "            14937 non-null  object \n",
            " 44  description                    15919 non-null  object \n",
            " 45  Emission Label                 3985 non-null   object \n",
            " 46  Gears                          11207 non-null  object \n",
            " 47  Country version                7586 non-null   object \n",
            " 48  Electricity consumption        137 non-null    object \n",
            " 49  Last Service Date              566 non-null    object \n",
            " 50  Other Fuel Types               880 non-null    object \n",
            " 51  Availability                   635 non-null    object \n",
            " 52  Last Timing Belt Service Date  16 non-null     object \n",
            " 53  Available from                 272 non-null    object \n",
            "dtypes: float64(1), int64(1), object(52)\n",
            "memory usage: 6.6+ MB\n"
          ]
        }
      ],
      "source": [
        "df.info()"
      ]
    },
    {
      "cell_type": "code",
      "execution_count": 205,
      "metadata": {
        "colab": {
          "base_uri": "https://localhost:8080/"
        },
        "id": "WkFYBBfBaqpv",
        "outputId": "5fff73bd-602d-42c4-829c-b6f2d5a71521"
      },
      "outputs": [
        {
          "output_type": "execute_result",
          "data": {
            "text/plain": [
              "Index(['url', 'make_model', 'short_description', 'body_type', 'price', 'vat',\n",
              "       'km', 'registration', 'prev_owner', 'kW', 'hp', 'Type',\n",
              "       'Previous Owners', 'Next Inspection', 'Inspection new', 'Warranty',\n",
              "       'Full Service', 'Non-smoking Vehicle', 'null', 'Make', 'Model',\n",
              "       'Offer Number', 'First Registration', 'Body Color', 'Paint Type',\n",
              "       'Body Color Original', 'Upholstery', 'Body', 'Nr. of Doors',\n",
              "       'Nr. of Seats', 'Model Code', 'Gearing Type', 'Displacement',\n",
              "       'Cylinders', 'Weight', 'Drive chain', 'Fuel', 'Consumption',\n",
              "       'CO2 Emission', 'Emission Class', '\\nComfort & Convenience\\n',\n",
              "       '\\nEntertainment & Media\\n', '\\nExtras\\n', '\\nSafety & Security\\n',\n",
              "       'description', 'Emission Label', 'Gears', 'Country version',\n",
              "       'Electricity consumption', 'Last Service Date', 'Other Fuel Types',\n",
              "       'Availability', 'Last Timing Belt Service Date', 'Available from'],\n",
              "      dtype='object')"
            ]
          },
          "metadata": {},
          "execution_count": 205
        }
      ],
      "source": [
        "columns=df.columns\n",
        "columns"
      ]
    },
    {
      "cell_type": "markdown",
      "metadata": {
        "id": "sswvd74cemM3"
      },
      "source": [
        ""
      ]
    },
    {
      "cell_type": "markdown",
      "metadata": {
        "id": "or-Pj_-Sdje0"
      },
      "source": [
        "#correcting columns's names:"
      ]
    },
    {
      "cell_type": "code",
      "execution_count": 206,
      "metadata": {
        "id": "lXNnn5rdjFyZ",
        "colab": {
          "base_uri": "https://localhost:8080/"
        },
        "outputId": "c7b79631-481a-4c45-875b-59523ab37ac2"
      },
      "outputs": [
        {
          "output_type": "execute_result",
          "data": {
            "text/plain": [
              "Index(['url', 'make_model', 'short_description', 'body_type', 'price', 'vat',\n",
              "       'km', 'registration', 'prev_owner', 'kW', 'hp', 'Type',\n",
              "       'Previous Owners', 'Next Inspection', 'Inspection new', 'Warranty',\n",
              "       'Full Service', 'Non-smoking Vehicle', 'null', 'Make', 'Model',\n",
              "       'Offer Number', 'First Registration', 'Body Color', 'Paint Type',\n",
              "       'Body Color Original', 'Upholstery', 'Body', 'Nr. of Doors',\n",
              "       'Nr. of Seats', 'Model Code', 'Gearing Type', 'Displacement',\n",
              "       'Cylinders', 'Weight', 'Drive chain', 'Fuel', 'Consumption',\n",
              "       'CO2 Emission', 'Emission Class', '\\nComfort & Convenience\\n',\n",
              "       '\\nEntertainment & Media\\n', '\\nExtras\\n', '\\nSafety & Security\\n',\n",
              "       'description', 'Emission Label', 'Gears', 'Country version',\n",
              "       'Electricity consumption', 'Last Service Date', 'Other Fuel Types',\n",
              "       'Availability', 'Last Timing Belt Service Date', 'Available from'],\n",
              "      dtype='object')"
            ]
          },
          "metadata": {},
          "execution_count": 206
        }
      ],
      "source": [
        "df.rename(columns={\"\\nComfort & Convenience\\n\": \"Comfort_Convenience\",\n",
        "                   \"\\nEntertainment & Media\\n\":\"Entertainment_Media\",\n",
        "                   \"\\nExtras\\n\":\"Extras\",\n",
        "                   \"\\nSafety & Security\\n\":\"Safety_Security\"}, inplace=True)\n",
        "\n",
        "columns"
      ]
    },
    {
      "cell_type": "markdown",
      "metadata": {
        "id": "-4xSW_6CzAXK"
      },
      "source": [
        "first one is not working, so I used next one."
      ]
    },
    {
      "cell_type": "code",
      "execution_count": 207,
      "metadata": {
        "id": "xbxZqSnctEPa",
        "colab": {
          "base_uri": "https://localhost:8080/"
        },
        "outputId": "125a958f-cf39-495f-c7c0-77454d12bd5f"
      },
      "outputs": [
        {
          "output_type": "execute_result",
          "data": {
            "text/plain": [
              "Index(['url', 'make_model', 'short_description', 'body_type', 'price', 'vat',\n",
              "       'km', 'registration', 'prev_owner', 'kW', 'hp', 'Type',\n",
              "       'Previous_Owners', 'Next_Inspection', 'Inspection_new', 'Warranty',\n",
              "       'Full-Service', 'Non_smoking_Vehicle', 'null', 'Make', 'Model',\n",
              "       'Offer_Number', 'First_Registration', 'Body_Color', 'Paint_Type',\n",
              "       'Body_Color_Original', 'Upholstery', 'Body', 'Nr._of_Doors',\n",
              "       'Nr._of_Seats', 'Model_Code', 'Gearing_Type', 'Displacement',\n",
              "       'Cylinders', 'Weight', 'Drive_chain', 'Fuel', 'Consumption',\n",
              "       'CO2_Emission', 'Emission_Class', 'Comfort_Convenience',\n",
              "       'Entertainment_Media', 'Extras', 'Safety_Security', 'description',\n",
              "       'Emission_Label', 'Gears', 'Country_version', 'Electricity_consumption',\n",
              "       'Last_Service_Date', 'Other_Fuel_Types', 'Availability',\n",
              "       'Last_Timing_Belt_Service_Date', 'Available_from'],\n",
              "      dtype='object')"
            ]
          },
          "metadata": {},
          "execution_count": 207
        }
      ],
      "source": [
        "df.rename(columns={'Previous Owners':'Previous_Owners', 'Next Inspection':'Next_Inspection', 'Inspection new':'Inspection_new','Full Service':'Full-Service', 'Non-smoking Vehicle':'Non_smoking_Vehicle',\n",
        "       'Offer Number':'Offer_Number', 'First Registration': 'First_Registration', 'Body Color':'Body_Color', 'Paint Type':'Paint_Type',\n",
        "       'Body Color Original': 'Body_Color_Original', 'Nr. of Doors':'Nr._of_Doors', 'Nr. of Seats': 'Nr._of_Seats', 'Model Code':'Model_Code', 'Gearing Type': 'Gearing_Type','Drive chain':'Drive_chain', 'CO2 Emission':'CO2_Emission',\n",
        "      'Emission Class':'Emission_Class', 'Emission Label':'Emission_Label', 'Country version':'Country_version', 'Electricity consumption':'Electricity_consumption',\n",
        "       'Last Service Date':'Last_Service_Date', 'Other Fuel Types':'Other_Fuel_Types', 'Last Timing Belt Service Date':'Last_Timing_Belt_Service_Date', 'Available from':'Available_from'}, inplace=True)\n",
        "\n",
        "df.columns\n"
      ]
    },
    {
      "cell_type": "code",
      "execution_count": 208,
      "metadata": {
        "colab": {
          "base_uri": "https://localhost:8080/",
          "height": 1000
        },
        "id": "TQ0CerV41Rlm",
        "outputId": "bec446cc-450d-46ba-fa05-0011efcb2d9d"
      },
      "outputs": [
        {
          "output_type": "execute_result",
          "data": {
            "text/plain": [
              "                                                                               0  \\\n",
              "url                            https://www.autoscout24.com//offers/audi-a1-sp...   \n",
              "make_model                                                               Audi A1   \n",
              "short_description                    Sportback 1.4 TDI S-tronic Xenon Navi Klima   \n",
              "body_type                                                                 Sedans   \n",
              "price                                                                      15770   \n",
              "vat                                                               VAT deductible   \n",
              "km                                                                     56,013 km   \n",
              "registration                                                             01/2016   \n",
              "prev_owner                                                     2 previous owners   \n",
              "kW                                                                           NaN   \n",
              "hp                                                                         66 kW   \n",
              "Type                                     [, Used, , Diesel (Particulate Filter)]   \n",
              "Previous_Owners                                                            \\n2\\n   \n",
              "Next_Inspection                            [\\n06/2021\\n, \\n99 g CO2/km (comb)\\n]   \n",
              "Inspection_new                                             [\\nYes\\n, \\nEuro 6\\n]   \n",
              "Warranty                                                 [\\n, \\n, \\n4 (Green)\\n]   \n",
              "Full-Service                                                            [\\n, \\n]   \n",
              "Non_smoking_Vehicle                                                     [\\n, \\n]   \n",
              "null                                                                          []   \n",
              "Make                                                                    \\nAudi\\n   \n",
              "Model                                                               [\\n, A1, \\n]   \n",
              "Offer_Number                                                     [\\nLR-062483\\n]   \n",
              "First_Registration                                                [\\n, 2016, \\n]   \n",
              "Body_Color                                                       [\\n, Black, \\n]   \n",
              "Paint_Type                                                        [\\nMetallic\\n]   \n",
              "Body_Color_Original                                          [\\nMythosschwarz\\n]   \n",
              "Upholstery                                                    [\\nCloth, Black\\n]   \n",
              "Body                                                            [\\n, Sedans, \\n]   \n",
              "Nr._of_Doors                                                             [\\n5\\n]   \n",
              "Nr._of_Seats                                                             [\\n5\\n]   \n",
              "Model_Code                                                        [\\n0588/BDF\\n]   \n",
              "Gearing_Type                                                 [\\n, Automatic, \\n]   \n",
              "Displacement                                                      [\\n1,422 cc\\n]   \n",
              "Cylinders                                                                [\\n3\\n]   \n",
              "Weight                                                            [\\n1,220 kg\\n]   \n",
              "Drive_chain                                                          [\\nfront\\n]   \n",
              "Fuel                                       [\\n, Diesel (Particulate Filter), \\n]   \n",
              "Consumption                    [[3.8 l/100 km (comb)], [4.3 l/100 km (city)],...   \n",
              "CO2_Emission                                            [\\n99 g CO2/km (comb)\\n]   \n",
              "Emission_Class                                                      [\\nEuro 6\\n]   \n",
              "Comfort_Convenience            [Air conditioning, Armrest, Automatic climate ...   \n",
              "Entertainment_Media            [Bluetooth, Hands-free equipment, On-board com...   \n",
              "Extras                         [Alloy wheels, Catalytic Converter, Voice Cont...   \n",
              "Safety_Security                [ABS, Central door lock, Daytime running light...   \n",
              "description                    [\\n, Sicherheit:,  , Deaktivierung für Beifahr...   \n",
              "Emission_Label                                                               NaN   \n",
              "Gears                                                                        NaN   \n",
              "Country_version                                                              NaN   \n",
              "Electricity_consumption                                                      NaN   \n",
              "Last_Service_Date                                                            NaN   \n",
              "Other_Fuel_Types                                                             NaN   \n",
              "Availability                                                                 NaN   \n",
              "Last_Timing_Belt_Service_Date                                                NaN   \n",
              "Available_from                                                               NaN   \n",
              "\n",
              "                                                                               1  \\\n",
              "url                            https://www.autoscout24.com//offers/audi-a1-1-...   \n",
              "make_model                                                               Audi A1   \n",
              "short_description                                                 1.8 TFSI sport   \n",
              "body_type                                                                 Sedans   \n",
              "price                                                                      14500   \n",
              "vat                                                             Price negotiable   \n",
              "km                                                                     80,000 km   \n",
              "registration                                                             03/2017   \n",
              "prev_owner                                                                  None   \n",
              "kW                                                                           NaN   \n",
              "hp                                                                        141 kW   \n",
              "Type                                                        [, Used, , Gasoline]   \n",
              "Previous_Owners                                                              NaN   \n",
              "Next_Inspection                                                              NaN   \n",
              "Inspection_new                                                               NaN   \n",
              "Warranty                                                                     NaN   \n",
              "Full-Service                                                                 NaN   \n",
              "Non_smoking_Vehicle                                                          NaN   \n",
              "null                                                                          []   \n",
              "Make                                                                    \\nAudi\\n   \n",
              "Model                                                               [\\n, A1, \\n]   \n",
              "Offer_Number                                                                 NaN   \n",
              "First_Registration                                                [\\n, 2017, \\n]   \n",
              "Body_Color                                                         [\\n, Red, \\n]   \n",
              "Paint_Type                                                                   NaN   \n",
              "Body_Color_Original                                                          NaN   \n",
              "Upholstery                                                     [\\nCloth, Grey\\n]   \n",
              "Body                                                            [\\n, Sedans, \\n]   \n",
              "Nr._of_Doors                                                             [\\n3\\n]   \n",
              "Nr._of_Seats                                                             [\\n4\\n]   \n",
              "Model_Code                                                        [\\n0588/BCY\\n]   \n",
              "Gearing_Type                                                 [\\n, Automatic, \\n]   \n",
              "Displacement                                                      [\\n1,798 cc\\n]   \n",
              "Cylinders                                                                [\\n4\\n]   \n",
              "Weight                                                            [\\n1,255 kg\\n]   \n",
              "Drive_chain                                                          [\\nfront\\n]   \n",
              "Fuel                                                          [\\n, Gasoline, \\n]   \n",
              "Consumption                    [[5.6 l/100 km (comb)], [7.1 l/100 km (city)],...   \n",
              "CO2_Emission                                           [\\n129 g CO2/km (comb)\\n]   \n",
              "Emission_Class                                                      [\\nEuro 6\\n]   \n",
              "Comfort_Convenience            [Air conditioning, Automatic climate control, ...   \n",
              "Entertainment_Media            [Bluetooth, Hands-free equipment, On-board com...   \n",
              "Extras                         [Alloy wheels, Sport seats, Sport suspension, ...   \n",
              "Safety_Security                [ABS, Central door lock, Central door lock wit...   \n",
              "description                    [\\nLangstreckenfahrzeug daher die hohe Kilomet...   \n",
              "Emission_Label                                                   [\\n4 (Green)\\n]   \n",
              "Gears                                                                    [\\n7\\n]   \n",
              "Country_version                                                              NaN   \n",
              "Electricity_consumption                                                      NaN   \n",
              "Last_Service_Date                                                            NaN   \n",
              "Other_Fuel_Types                                                             NaN   \n",
              "Availability                                                                 NaN   \n",
              "Last_Timing_Belt_Service_Date                                                NaN   \n",
              "Available_from                                                               NaN   \n",
              "\n",
              "                                                                               2  \\\n",
              "url                            https://www.autoscout24.com//offers/audi-a1-sp...   \n",
              "make_model                                                               Audi A1   \n",
              "short_description              Sportback 1.6 TDI S tronic Einparkhilfe plus+m...   \n",
              "body_type                                                                 Sedans   \n",
              "price                                                                      14640   \n",
              "vat                                                               VAT deductible   \n",
              "km                                                                     83,450 km   \n",
              "registration                                                             02/2016   \n",
              "prev_owner                                                      1 previous owner   \n",
              "kW                                                                           NaN   \n",
              "hp                                                                         85 kW   \n",
              "Type                                     [, Used, , Diesel (Particulate Filter)]   \n",
              "Previous_Owners                                                            \\n1\\n   \n",
              "Next_Inspection                                                              NaN   \n",
              "Inspection_new                                                               NaN   \n",
              "Warranty                                        [\\n, \\n, \\n99 g CO2/km (comb)\\n]   \n",
              "Full-Service                                                                 NaN   \n",
              "Non_smoking_Vehicle                                                          NaN   \n",
              "null                                                                          []   \n",
              "Make                                                                    \\nAudi\\n   \n",
              "Model                                                               [\\n, A1, \\n]   \n",
              "Offer_Number                                                      [\\nAM-95365\\n]   \n",
              "First_Registration                                                [\\n, 2016, \\n]   \n",
              "Body_Color                                                       [\\n, Black, \\n]   \n",
              "Paint_Type                                                        [\\nMetallic\\n]   \n",
              "Body_Color_Original                                 [\\nmythosschwarz metallic\\n]   \n",
              "Upholstery                                                    [\\nCloth, Black\\n]   \n",
              "Body                                                            [\\n, Sedans, \\n]   \n",
              "Nr._of_Doors                                                             [\\n4\\n]   \n",
              "Nr._of_Seats                                                             [\\n4\\n]   \n",
              "Model_Code                                                                   NaN   \n",
              "Gearing_Type                                                 [\\n, Automatic, \\n]   \n",
              "Displacement                                                      [\\n1,598 cc\\n]   \n",
              "Cylinders                                                                    NaN   \n",
              "Weight                                                                       NaN   \n",
              "Drive_chain                                                          [\\nfront\\n]   \n",
              "Fuel                                       [\\n, Diesel (Particulate Filter), \\n]   \n",
              "Consumption                    [[3.8 l/100 km (comb)], [4.4 l/100 km (city)],...   \n",
              "CO2_Emission                                            [\\n99 g CO2/km (comb)\\n]   \n",
              "Emission_Class                                                      [\\nEuro 6\\n]   \n",
              "Comfort_Convenience            [Air conditioning, Cruise control, Electrical ...   \n",
              "Entertainment_Media                                     [MP3, On-board computer]   \n",
              "Extras                                             [Alloy wheels, Voice Control]   \n",
              "Safety_Security                [ABS, Central door lock, Daytime running light...   \n",
              "description                    [\\n, Fahrzeug-Nummer: AM-95365,  , Ehem. UPE 2...   \n",
              "Emission_Label                                                   [\\n4 (Green)\\n]   \n",
              "Gears                                                                        NaN   \n",
              "Country_version                                                              NaN   \n",
              "Electricity_consumption                                                      NaN   \n",
              "Last_Service_Date                                                            NaN   \n",
              "Other_Fuel_Types                                                             NaN   \n",
              "Availability                                                                 NaN   \n",
              "Last_Timing_Belt_Service_Date                                                NaN   \n",
              "Available_from                                                               NaN   \n",
              "\n",
              "                                                                               3  \\\n",
              "url                            https://www.autoscout24.com//offers/audi-a1-1-...   \n",
              "make_model                                                               Audi A1   \n",
              "short_description                                        1.4 TDi Design S tronic   \n",
              "body_type                                                                 Sedans   \n",
              "price                                                                      14500   \n",
              "vat                                                                         None   \n",
              "km                                                                     73,000 km   \n",
              "registration                                                             08/2016   \n",
              "prev_owner                                                      1 previous owner   \n",
              "kW                                                                           NaN   \n",
              "hp                                                                         66 kW   \n",
              "Type                                     [, Used, , Diesel (Particulate Filter)]   \n",
              "Previous_Owners                                                            \\n1\\n   \n",
              "Next_Inspection                                                              NaN   \n",
              "Inspection_new                                                               NaN   \n",
              "Warranty                                                                     NaN   \n",
              "Full-Service                                    [\\n, \\n, \\n99 g CO2/km (comb)\\n]   \n",
              "Non_smoking_Vehicle                                         [\\n, \\n, \\nEuro 6\\n]   \n",
              "null                                                                          []   \n",
              "Make                                                                    \\nAudi\\n   \n",
              "Model                                                               [\\n, A1, \\n]   \n",
              "Offer_Number                                                                 NaN   \n",
              "First_Registration                                                [\\n, 2016, \\n]   \n",
              "Body_Color                                                       [\\n, Brown, \\n]   \n",
              "Paint_Type                                                        [\\nMetallic\\n]   \n",
              "Body_Color_Original                                                          NaN   \n",
              "Upholstery                                                                   NaN   \n",
              "Body                                                            [\\n, Sedans, \\n]   \n",
              "Nr._of_Doors                                                             [\\n3\\n]   \n",
              "Nr._of_Seats                                                             [\\n4\\n]   \n",
              "Model_Code                                                                   NaN   \n",
              "Gearing_Type                                                 [\\n, Automatic, \\n]   \n",
              "Displacement                                                      [\\n1,422 cc\\n]   \n",
              "Cylinders                                                                [\\n3\\n]   \n",
              "Weight                                                            [\\n1,195 kg\\n]   \n",
              "Drive_chain                                                                  NaN   \n",
              "Fuel                                       [\\n, Diesel (Particulate Filter), \\n]   \n",
              "Consumption                    [[3.8 l/100 km (comb)], [4.3 l/100 km (city)],...   \n",
              "CO2_Emission                                            [\\n99 g CO2/km (comb)\\n]   \n",
              "Emission_Class                                                      [\\nEuro 6\\n]   \n",
              "Comfort_Convenience            [Air suspension, Armrest, Auxiliary heating, E...   \n",
              "Entertainment_Media            [Bluetooth, CD player, Hands-free equipment, M...   \n",
              "Extras                                [Alloy wheels, Sport seats, Voice Control]   \n",
              "Safety_Security                [ABS, Alarm system, Central door lock with rem...   \n",
              "description                    [\\nAudi A1: , - 1e eigenaar , - Perfecte staat...   \n",
              "Emission_Label                                                               NaN   \n",
              "Gears                                                                    [\\n6\\n]   \n",
              "Country_version                                                              NaN   \n",
              "Electricity_consumption                                                      NaN   \n",
              "Last_Service_Date                                                            NaN   \n",
              "Other_Fuel_Types                                                             NaN   \n",
              "Availability                                                                 NaN   \n",
              "Last_Timing_Belt_Service_Date                                                NaN   \n",
              "Available_from                                                               NaN   \n",
              "\n",
              "                                                                               4  \n",
              "url                            https://www.autoscout24.com//offers/audi-a1-sp...  \n",
              "make_model                                                               Audi A1  \n",
              "short_description              Sportback 1.4 TDI S-Tronic S-Line Ext. admired...  \n",
              "body_type                                                                 Sedans  \n",
              "price                                                                      16790  \n",
              "vat                                                                         None  \n",
              "km                                                                     16,200 km  \n",
              "registration                                                             05/2016  \n",
              "prev_owner                                                      1 previous owner  \n",
              "kW                                                                           NaN  \n",
              "hp                                                                         66 kW  \n",
              "Type                                     [, Used, , Diesel (Particulate Filter)]  \n",
              "Previous_Owners                                                            \\n1\\n  \n",
              "Next_Inspection                                                              NaN  \n",
              "Inspection_new                                [\\nYes\\n, \\n109 g CO2/km (comb)\\n]  \n",
              "Warranty                                                    [\\n, \\n, \\nEuro 6\\n]  \n",
              "Full-Service                                             [\\n, \\n, \\n4 (Green)\\n]  \n",
              "Non_smoking_Vehicle                                                     [\\n, \\n]  \n",
              "null                                                                          []  \n",
              "Make                                                                    \\nAudi\\n  \n",
              "Model                                                               [\\n, A1, \\n]  \n",
              "Offer_Number                                                         [\\nC1626\\n]  \n",
              "First_Registration                                                [\\n, 2016, \\n]  \n",
              "Body_Color                                                       [\\n, Black, \\n]  \n",
              "Paint_Type                                                        [\\nMetallic\\n]  \n",
              "Body_Color_Original                                 [\\nMythosschwarz Metallic\\n]  \n",
              "Upholstery                                                    [\\nCloth, Black\\n]  \n",
              "Body                                                            [\\n, Sedans, \\n]  \n",
              "Nr._of_Doors                                                             [\\n5\\n]  \n",
              "Nr._of_Seats                                                             [\\n5\\n]  \n",
              "Model_Code                                                        [\\n0588/BDF\\n]  \n",
              "Gearing_Type                                                 [\\n, Automatic, \\n]  \n",
              "Displacement                                                      [\\n1,422 cc\\n]  \n",
              "Cylinders                                                                [\\n3\\n]  \n",
              "Weight                                                                       NaN  \n",
              "Drive_chain                                                          [\\nfront\\n]  \n",
              "Fuel                                       [\\n, Diesel (Particulate Filter), \\n]  \n",
              "Consumption                    [[4.1 l/100 km (comb)], [4.6 l/100 km (city)],...  \n",
              "CO2_Emission                                           [\\n109 g CO2/km (comb)\\n]  \n",
              "Emission_Class                                                      [\\nEuro 6\\n]  \n",
              "Comfort_Convenience            [Air conditioning, Armrest, Automatic climate ...  \n",
              "Entertainment_Media            [Bluetooth, CD player, Hands-free equipment, M...  \n",
              "Extras                         [Alloy wheels, Sport package, Sport suspension...  \n",
              "Safety_Security                [ABS, Central door lock, Driver-side airbag, E...  \n",
              "description                    [\\n, Technik & Sicherheit:, Xenon plus, Klimaa...  \n",
              "Emission_Label                                                               NaN  \n",
              "Gears                                                                        NaN  \n",
              "Country_version                                                    [\\nGermany\\n]  \n",
              "Electricity_consumption                                                      NaN  \n",
              "Last_Service_Date                                                            NaN  \n",
              "Other_Fuel_Types                                                             NaN  \n",
              "Availability                                                                 NaN  \n",
              "Last_Timing_Belt_Service_Date                                                NaN  \n",
              "Available_from                                                               NaN  "
            ],
            "text/html": [
              "\n",
              "  <div id=\"df-bd53a0ef-d1a5-4bbe-b92d-36edb068b649\">\n",
              "    <div class=\"colab-df-container\">\n",
              "      <div>\n",
              "<style scoped>\n",
              "    .dataframe tbody tr th:only-of-type {\n",
              "        vertical-align: middle;\n",
              "    }\n",
              "\n",
              "    .dataframe tbody tr th {\n",
              "        vertical-align: top;\n",
              "    }\n",
              "\n",
              "    .dataframe thead th {\n",
              "        text-align: right;\n",
              "    }\n",
              "</style>\n",
              "<table border=\"1\" class=\"dataframe\">\n",
              "  <thead>\n",
              "    <tr style=\"text-align: right;\">\n",
              "      <th></th>\n",
              "      <th>0</th>\n",
              "      <th>1</th>\n",
              "      <th>2</th>\n",
              "      <th>3</th>\n",
              "      <th>4</th>\n",
              "    </tr>\n",
              "  </thead>\n",
              "  <tbody>\n",
              "    <tr>\n",
              "      <th>url</th>\n",
              "      <td>https://www.autoscout24.com//offers/audi-a1-sp...</td>\n",
              "      <td>https://www.autoscout24.com//offers/audi-a1-1-...</td>\n",
              "      <td>https://www.autoscout24.com//offers/audi-a1-sp...</td>\n",
              "      <td>https://www.autoscout24.com//offers/audi-a1-1-...</td>\n",
              "      <td>https://www.autoscout24.com//offers/audi-a1-sp...</td>\n",
              "    </tr>\n",
              "    <tr>\n",
              "      <th>make_model</th>\n",
              "      <td>Audi A1</td>\n",
              "      <td>Audi A1</td>\n",
              "      <td>Audi A1</td>\n",
              "      <td>Audi A1</td>\n",
              "      <td>Audi A1</td>\n",
              "    </tr>\n",
              "    <tr>\n",
              "      <th>short_description</th>\n",
              "      <td>Sportback 1.4 TDI S-tronic Xenon Navi Klima</td>\n",
              "      <td>1.8 TFSI sport</td>\n",
              "      <td>Sportback 1.6 TDI S tronic Einparkhilfe plus+m...</td>\n",
              "      <td>1.4 TDi Design S tronic</td>\n",
              "      <td>Sportback 1.4 TDI S-Tronic S-Line Ext. admired...</td>\n",
              "    </tr>\n",
              "    <tr>\n",
              "      <th>body_type</th>\n",
              "      <td>Sedans</td>\n",
              "      <td>Sedans</td>\n",
              "      <td>Sedans</td>\n",
              "      <td>Sedans</td>\n",
              "      <td>Sedans</td>\n",
              "    </tr>\n",
              "    <tr>\n",
              "      <th>price</th>\n",
              "      <td>15770</td>\n",
              "      <td>14500</td>\n",
              "      <td>14640</td>\n",
              "      <td>14500</td>\n",
              "      <td>16790</td>\n",
              "    </tr>\n",
              "    <tr>\n",
              "      <th>vat</th>\n",
              "      <td>VAT deductible</td>\n",
              "      <td>Price negotiable</td>\n",
              "      <td>VAT deductible</td>\n",
              "      <td>None</td>\n",
              "      <td>None</td>\n",
              "    </tr>\n",
              "    <tr>\n",
              "      <th>km</th>\n",
              "      <td>56,013 km</td>\n",
              "      <td>80,000 km</td>\n",
              "      <td>83,450 km</td>\n",
              "      <td>73,000 km</td>\n",
              "      <td>16,200 km</td>\n",
              "    </tr>\n",
              "    <tr>\n",
              "      <th>registration</th>\n",
              "      <td>01/2016</td>\n",
              "      <td>03/2017</td>\n",
              "      <td>02/2016</td>\n",
              "      <td>08/2016</td>\n",
              "      <td>05/2016</td>\n",
              "    </tr>\n",
              "    <tr>\n",
              "      <th>prev_owner</th>\n",
              "      <td>2 previous owners</td>\n",
              "      <td>None</td>\n",
              "      <td>1 previous owner</td>\n",
              "      <td>1 previous owner</td>\n",
              "      <td>1 previous owner</td>\n",
              "    </tr>\n",
              "    <tr>\n",
              "      <th>kW</th>\n",
              "      <td>NaN</td>\n",
              "      <td>NaN</td>\n",
              "      <td>NaN</td>\n",
              "      <td>NaN</td>\n",
              "      <td>NaN</td>\n",
              "    </tr>\n",
              "    <tr>\n",
              "      <th>hp</th>\n",
              "      <td>66 kW</td>\n",
              "      <td>141 kW</td>\n",
              "      <td>85 kW</td>\n",
              "      <td>66 kW</td>\n",
              "      <td>66 kW</td>\n",
              "    </tr>\n",
              "    <tr>\n",
              "      <th>Type</th>\n",
              "      <td>[, Used, , Diesel (Particulate Filter)]</td>\n",
              "      <td>[, Used, , Gasoline]</td>\n",
              "      <td>[, Used, , Diesel (Particulate Filter)]</td>\n",
              "      <td>[, Used, , Diesel (Particulate Filter)]</td>\n",
              "      <td>[, Used, , Diesel (Particulate Filter)]</td>\n",
              "    </tr>\n",
              "    <tr>\n",
              "      <th>Previous_Owners</th>\n",
              "      <td>\\n2\\n</td>\n",
              "      <td>NaN</td>\n",
              "      <td>\\n1\\n</td>\n",
              "      <td>\\n1\\n</td>\n",
              "      <td>\\n1\\n</td>\n",
              "    </tr>\n",
              "    <tr>\n",
              "      <th>Next_Inspection</th>\n",
              "      <td>[\\n06/2021\\n, \\n99 g CO2/km (comb)\\n]</td>\n",
              "      <td>NaN</td>\n",
              "      <td>NaN</td>\n",
              "      <td>NaN</td>\n",
              "      <td>NaN</td>\n",
              "    </tr>\n",
              "    <tr>\n",
              "      <th>Inspection_new</th>\n",
              "      <td>[\\nYes\\n, \\nEuro 6\\n]</td>\n",
              "      <td>NaN</td>\n",
              "      <td>NaN</td>\n",
              "      <td>NaN</td>\n",
              "      <td>[\\nYes\\n, \\n109 g CO2/km (comb)\\n]</td>\n",
              "    </tr>\n",
              "    <tr>\n",
              "      <th>Warranty</th>\n",
              "      <td>[\\n, \\n, \\n4 (Green)\\n]</td>\n",
              "      <td>NaN</td>\n",
              "      <td>[\\n, \\n, \\n99 g CO2/km (comb)\\n]</td>\n",
              "      <td>NaN</td>\n",
              "      <td>[\\n, \\n, \\nEuro 6\\n]</td>\n",
              "    </tr>\n",
              "    <tr>\n",
              "      <th>Full-Service</th>\n",
              "      <td>[\\n, \\n]</td>\n",
              "      <td>NaN</td>\n",
              "      <td>NaN</td>\n",
              "      <td>[\\n, \\n, \\n99 g CO2/km (comb)\\n]</td>\n",
              "      <td>[\\n, \\n, \\n4 (Green)\\n]</td>\n",
              "    </tr>\n",
              "    <tr>\n",
              "      <th>Non_smoking_Vehicle</th>\n",
              "      <td>[\\n, \\n]</td>\n",
              "      <td>NaN</td>\n",
              "      <td>NaN</td>\n",
              "      <td>[\\n, \\n, \\nEuro 6\\n]</td>\n",
              "      <td>[\\n, \\n]</td>\n",
              "    </tr>\n",
              "    <tr>\n",
              "      <th>null</th>\n",
              "      <td>[]</td>\n",
              "      <td>[]</td>\n",
              "      <td>[]</td>\n",
              "      <td>[]</td>\n",
              "      <td>[]</td>\n",
              "    </tr>\n",
              "    <tr>\n",
              "      <th>Make</th>\n",
              "      <td>\\nAudi\\n</td>\n",
              "      <td>\\nAudi\\n</td>\n",
              "      <td>\\nAudi\\n</td>\n",
              "      <td>\\nAudi\\n</td>\n",
              "      <td>\\nAudi\\n</td>\n",
              "    </tr>\n",
              "    <tr>\n",
              "      <th>Model</th>\n",
              "      <td>[\\n, A1, \\n]</td>\n",
              "      <td>[\\n, A1, \\n]</td>\n",
              "      <td>[\\n, A1, \\n]</td>\n",
              "      <td>[\\n, A1, \\n]</td>\n",
              "      <td>[\\n, A1, \\n]</td>\n",
              "    </tr>\n",
              "    <tr>\n",
              "      <th>Offer_Number</th>\n",
              "      <td>[\\nLR-062483\\n]</td>\n",
              "      <td>NaN</td>\n",
              "      <td>[\\nAM-95365\\n]</td>\n",
              "      <td>NaN</td>\n",
              "      <td>[\\nC1626\\n]</td>\n",
              "    </tr>\n",
              "    <tr>\n",
              "      <th>First_Registration</th>\n",
              "      <td>[\\n, 2016, \\n]</td>\n",
              "      <td>[\\n, 2017, \\n]</td>\n",
              "      <td>[\\n, 2016, \\n]</td>\n",
              "      <td>[\\n, 2016, \\n]</td>\n",
              "      <td>[\\n, 2016, \\n]</td>\n",
              "    </tr>\n",
              "    <tr>\n",
              "      <th>Body_Color</th>\n",
              "      <td>[\\n, Black, \\n]</td>\n",
              "      <td>[\\n, Red, \\n]</td>\n",
              "      <td>[\\n, Black, \\n]</td>\n",
              "      <td>[\\n, Brown, \\n]</td>\n",
              "      <td>[\\n, Black, \\n]</td>\n",
              "    </tr>\n",
              "    <tr>\n",
              "      <th>Paint_Type</th>\n",
              "      <td>[\\nMetallic\\n]</td>\n",
              "      <td>NaN</td>\n",
              "      <td>[\\nMetallic\\n]</td>\n",
              "      <td>[\\nMetallic\\n]</td>\n",
              "      <td>[\\nMetallic\\n]</td>\n",
              "    </tr>\n",
              "    <tr>\n",
              "      <th>Body_Color_Original</th>\n",
              "      <td>[\\nMythosschwarz\\n]</td>\n",
              "      <td>NaN</td>\n",
              "      <td>[\\nmythosschwarz metallic\\n]</td>\n",
              "      <td>NaN</td>\n",
              "      <td>[\\nMythosschwarz Metallic\\n]</td>\n",
              "    </tr>\n",
              "    <tr>\n",
              "      <th>Upholstery</th>\n",
              "      <td>[\\nCloth, Black\\n]</td>\n",
              "      <td>[\\nCloth, Grey\\n]</td>\n",
              "      <td>[\\nCloth, Black\\n]</td>\n",
              "      <td>NaN</td>\n",
              "      <td>[\\nCloth, Black\\n]</td>\n",
              "    </tr>\n",
              "    <tr>\n",
              "      <th>Body</th>\n",
              "      <td>[\\n, Sedans, \\n]</td>\n",
              "      <td>[\\n, Sedans, \\n]</td>\n",
              "      <td>[\\n, Sedans, \\n]</td>\n",
              "      <td>[\\n, Sedans, \\n]</td>\n",
              "      <td>[\\n, Sedans, \\n]</td>\n",
              "    </tr>\n",
              "    <tr>\n",
              "      <th>Nr._of_Doors</th>\n",
              "      <td>[\\n5\\n]</td>\n",
              "      <td>[\\n3\\n]</td>\n",
              "      <td>[\\n4\\n]</td>\n",
              "      <td>[\\n3\\n]</td>\n",
              "      <td>[\\n5\\n]</td>\n",
              "    </tr>\n",
              "    <tr>\n",
              "      <th>Nr._of_Seats</th>\n",
              "      <td>[\\n5\\n]</td>\n",
              "      <td>[\\n4\\n]</td>\n",
              "      <td>[\\n4\\n]</td>\n",
              "      <td>[\\n4\\n]</td>\n",
              "      <td>[\\n5\\n]</td>\n",
              "    </tr>\n",
              "    <tr>\n",
              "      <th>Model_Code</th>\n",
              "      <td>[\\n0588/BDF\\n]</td>\n",
              "      <td>[\\n0588/BCY\\n]</td>\n",
              "      <td>NaN</td>\n",
              "      <td>NaN</td>\n",
              "      <td>[\\n0588/BDF\\n]</td>\n",
              "    </tr>\n",
              "    <tr>\n",
              "      <th>Gearing_Type</th>\n",
              "      <td>[\\n, Automatic, \\n]</td>\n",
              "      <td>[\\n, Automatic, \\n]</td>\n",
              "      <td>[\\n, Automatic, \\n]</td>\n",
              "      <td>[\\n, Automatic, \\n]</td>\n",
              "      <td>[\\n, Automatic, \\n]</td>\n",
              "    </tr>\n",
              "    <tr>\n",
              "      <th>Displacement</th>\n",
              "      <td>[\\n1,422 cc\\n]</td>\n",
              "      <td>[\\n1,798 cc\\n]</td>\n",
              "      <td>[\\n1,598 cc\\n]</td>\n",
              "      <td>[\\n1,422 cc\\n]</td>\n",
              "      <td>[\\n1,422 cc\\n]</td>\n",
              "    </tr>\n",
              "    <tr>\n",
              "      <th>Cylinders</th>\n",
              "      <td>[\\n3\\n]</td>\n",
              "      <td>[\\n4\\n]</td>\n",
              "      <td>NaN</td>\n",
              "      <td>[\\n3\\n]</td>\n",
              "      <td>[\\n3\\n]</td>\n",
              "    </tr>\n",
              "    <tr>\n",
              "      <th>Weight</th>\n",
              "      <td>[\\n1,220 kg\\n]</td>\n",
              "      <td>[\\n1,255 kg\\n]</td>\n",
              "      <td>NaN</td>\n",
              "      <td>[\\n1,195 kg\\n]</td>\n",
              "      <td>NaN</td>\n",
              "    </tr>\n",
              "    <tr>\n",
              "      <th>Drive_chain</th>\n",
              "      <td>[\\nfront\\n]</td>\n",
              "      <td>[\\nfront\\n]</td>\n",
              "      <td>[\\nfront\\n]</td>\n",
              "      <td>NaN</td>\n",
              "      <td>[\\nfront\\n]</td>\n",
              "    </tr>\n",
              "    <tr>\n",
              "      <th>Fuel</th>\n",
              "      <td>[\\n, Diesel (Particulate Filter), \\n]</td>\n",
              "      <td>[\\n, Gasoline, \\n]</td>\n",
              "      <td>[\\n, Diesel (Particulate Filter), \\n]</td>\n",
              "      <td>[\\n, Diesel (Particulate Filter), \\n]</td>\n",
              "      <td>[\\n, Diesel (Particulate Filter), \\n]</td>\n",
              "    </tr>\n",
              "    <tr>\n",
              "      <th>Consumption</th>\n",
              "      <td>[[3.8 l/100 km (comb)], [4.3 l/100 km (city)],...</td>\n",
              "      <td>[[5.6 l/100 km (comb)], [7.1 l/100 km (city)],...</td>\n",
              "      <td>[[3.8 l/100 km (comb)], [4.4 l/100 km (city)],...</td>\n",
              "      <td>[[3.8 l/100 km (comb)], [4.3 l/100 km (city)],...</td>\n",
              "      <td>[[4.1 l/100 km (comb)], [4.6 l/100 km (city)],...</td>\n",
              "    </tr>\n",
              "    <tr>\n",
              "      <th>CO2_Emission</th>\n",
              "      <td>[\\n99 g CO2/km (comb)\\n]</td>\n",
              "      <td>[\\n129 g CO2/km (comb)\\n]</td>\n",
              "      <td>[\\n99 g CO2/km (comb)\\n]</td>\n",
              "      <td>[\\n99 g CO2/km (comb)\\n]</td>\n",
              "      <td>[\\n109 g CO2/km (comb)\\n]</td>\n",
              "    </tr>\n",
              "    <tr>\n",
              "      <th>Emission_Class</th>\n",
              "      <td>[\\nEuro 6\\n]</td>\n",
              "      <td>[\\nEuro 6\\n]</td>\n",
              "      <td>[\\nEuro 6\\n]</td>\n",
              "      <td>[\\nEuro 6\\n]</td>\n",
              "      <td>[\\nEuro 6\\n]</td>\n",
              "    </tr>\n",
              "    <tr>\n",
              "      <th>Comfort_Convenience</th>\n",
              "      <td>[Air conditioning, Armrest, Automatic climate ...</td>\n",
              "      <td>[Air conditioning, Automatic climate control, ...</td>\n",
              "      <td>[Air conditioning, Cruise control, Electrical ...</td>\n",
              "      <td>[Air suspension, Armrest, Auxiliary heating, E...</td>\n",
              "      <td>[Air conditioning, Armrest, Automatic climate ...</td>\n",
              "    </tr>\n",
              "    <tr>\n",
              "      <th>Entertainment_Media</th>\n",
              "      <td>[Bluetooth, Hands-free equipment, On-board com...</td>\n",
              "      <td>[Bluetooth, Hands-free equipment, On-board com...</td>\n",
              "      <td>[MP3, On-board computer]</td>\n",
              "      <td>[Bluetooth, CD player, Hands-free equipment, M...</td>\n",
              "      <td>[Bluetooth, CD player, Hands-free equipment, M...</td>\n",
              "    </tr>\n",
              "    <tr>\n",
              "      <th>Extras</th>\n",
              "      <td>[Alloy wheels, Catalytic Converter, Voice Cont...</td>\n",
              "      <td>[Alloy wheels, Sport seats, Sport suspension, ...</td>\n",
              "      <td>[Alloy wheels, Voice Control]</td>\n",
              "      <td>[Alloy wheels, Sport seats, Voice Control]</td>\n",
              "      <td>[Alloy wheels, Sport package, Sport suspension...</td>\n",
              "    </tr>\n",
              "    <tr>\n",
              "      <th>Safety_Security</th>\n",
              "      <td>[ABS, Central door lock, Daytime running light...</td>\n",
              "      <td>[ABS, Central door lock, Central door lock wit...</td>\n",
              "      <td>[ABS, Central door lock, Daytime running light...</td>\n",
              "      <td>[ABS, Alarm system, Central door lock with rem...</td>\n",
              "      <td>[ABS, Central door lock, Driver-side airbag, E...</td>\n",
              "    </tr>\n",
              "    <tr>\n",
              "      <th>description</th>\n",
              "      <td>[\\n, Sicherheit:,  , Deaktivierung für Beifahr...</td>\n",
              "      <td>[\\nLangstreckenfahrzeug daher die hohe Kilomet...</td>\n",
              "      <td>[\\n, Fahrzeug-Nummer: AM-95365,  , Ehem. UPE 2...</td>\n",
              "      <td>[\\nAudi A1: , - 1e eigenaar , - Perfecte staat...</td>\n",
              "      <td>[\\n, Technik &amp; Sicherheit:, Xenon plus, Klimaa...</td>\n",
              "    </tr>\n",
              "    <tr>\n",
              "      <th>Emission_Label</th>\n",
              "      <td>NaN</td>\n",
              "      <td>[\\n4 (Green)\\n]</td>\n",
              "      <td>[\\n4 (Green)\\n]</td>\n",
              "      <td>NaN</td>\n",
              "      <td>NaN</td>\n",
              "    </tr>\n",
              "    <tr>\n",
              "      <th>Gears</th>\n",
              "      <td>NaN</td>\n",
              "      <td>[\\n7\\n]</td>\n",
              "      <td>NaN</td>\n",
              "      <td>[\\n6\\n]</td>\n",
              "      <td>NaN</td>\n",
              "    </tr>\n",
              "    <tr>\n",
              "      <th>Country_version</th>\n",
              "      <td>NaN</td>\n",
              "      <td>NaN</td>\n",
              "      <td>NaN</td>\n",
              "      <td>NaN</td>\n",
              "      <td>[\\nGermany\\n]</td>\n",
              "    </tr>\n",
              "    <tr>\n",
              "      <th>Electricity_consumption</th>\n",
              "      <td>NaN</td>\n",
              "      <td>NaN</td>\n",
              "      <td>NaN</td>\n",
              "      <td>NaN</td>\n",
              "      <td>NaN</td>\n",
              "    </tr>\n",
              "    <tr>\n",
              "      <th>Last_Service_Date</th>\n",
              "      <td>NaN</td>\n",
              "      <td>NaN</td>\n",
              "      <td>NaN</td>\n",
              "      <td>NaN</td>\n",
              "      <td>NaN</td>\n",
              "    </tr>\n",
              "    <tr>\n",
              "      <th>Other_Fuel_Types</th>\n",
              "      <td>NaN</td>\n",
              "      <td>NaN</td>\n",
              "      <td>NaN</td>\n",
              "      <td>NaN</td>\n",
              "      <td>NaN</td>\n",
              "    </tr>\n",
              "    <tr>\n",
              "      <th>Availability</th>\n",
              "      <td>NaN</td>\n",
              "      <td>NaN</td>\n",
              "      <td>NaN</td>\n",
              "      <td>NaN</td>\n",
              "      <td>NaN</td>\n",
              "    </tr>\n",
              "    <tr>\n",
              "      <th>Last_Timing_Belt_Service_Date</th>\n",
              "      <td>NaN</td>\n",
              "      <td>NaN</td>\n",
              "      <td>NaN</td>\n",
              "      <td>NaN</td>\n",
              "      <td>NaN</td>\n",
              "    </tr>\n",
              "    <tr>\n",
              "      <th>Available_from</th>\n",
              "      <td>NaN</td>\n",
              "      <td>NaN</td>\n",
              "      <td>NaN</td>\n",
              "      <td>NaN</td>\n",
              "      <td>NaN</td>\n",
              "    </tr>\n",
              "  </tbody>\n",
              "</table>\n",
              "</div>\n",
              "      <button class=\"colab-df-convert\" onclick=\"convertToInteractive('df-bd53a0ef-d1a5-4bbe-b92d-36edb068b649')\"\n",
              "              title=\"Convert this dataframe to an interactive table.\"\n",
              "              style=\"display:none;\">\n",
              "        \n",
              "  <svg xmlns=\"http://www.w3.org/2000/svg\" height=\"24px\"viewBox=\"0 0 24 24\"\n",
              "       width=\"24px\">\n",
              "    <path d=\"M0 0h24v24H0V0z\" fill=\"none\"/>\n",
              "    <path d=\"M18.56 5.44l.94 2.06.94-2.06 2.06-.94-2.06-.94-.94-2.06-.94 2.06-2.06.94zm-11 1L8.5 8.5l.94-2.06 2.06-.94-2.06-.94L8.5 2.5l-.94 2.06-2.06.94zm10 10l.94 2.06.94-2.06 2.06-.94-2.06-.94-.94-2.06-.94 2.06-2.06.94z\"/><path d=\"M17.41 7.96l-1.37-1.37c-.4-.4-.92-.59-1.43-.59-.52 0-1.04.2-1.43.59L10.3 9.45l-7.72 7.72c-.78.78-.78 2.05 0 2.83L4 21.41c.39.39.9.59 1.41.59.51 0 1.02-.2 1.41-.59l7.78-7.78 2.81-2.81c.8-.78.8-2.07 0-2.86zM5.41 20L4 18.59l7.72-7.72 1.47 1.35L5.41 20z\"/>\n",
              "  </svg>\n",
              "      </button>\n",
              "      \n",
              "  <style>\n",
              "    .colab-df-container {\n",
              "      display:flex;\n",
              "      flex-wrap:wrap;\n",
              "      gap: 12px;\n",
              "    }\n",
              "\n",
              "    .colab-df-convert {\n",
              "      background-color: #E8F0FE;\n",
              "      border: none;\n",
              "      border-radius: 50%;\n",
              "      cursor: pointer;\n",
              "      display: none;\n",
              "      fill: #1967D2;\n",
              "      height: 32px;\n",
              "      padding: 0 0 0 0;\n",
              "      width: 32px;\n",
              "    }\n",
              "\n",
              "    .colab-df-convert:hover {\n",
              "      background-color: #E2EBFA;\n",
              "      box-shadow: 0px 1px 2px rgba(60, 64, 67, 0.3), 0px 1px 3px 1px rgba(60, 64, 67, 0.15);\n",
              "      fill: #174EA6;\n",
              "    }\n",
              "\n",
              "    [theme=dark] .colab-df-convert {\n",
              "      background-color: #3B4455;\n",
              "      fill: #D2E3FC;\n",
              "    }\n",
              "\n",
              "    [theme=dark] .colab-df-convert:hover {\n",
              "      background-color: #434B5C;\n",
              "      box-shadow: 0px 1px 3px 1px rgba(0, 0, 0, 0.15);\n",
              "      filter: drop-shadow(0px 1px 2px rgba(0, 0, 0, 0.3));\n",
              "      fill: #FFFFFF;\n",
              "    }\n",
              "  </style>\n",
              "\n",
              "      <script>\n",
              "        const buttonEl =\n",
              "          document.querySelector('#df-bd53a0ef-d1a5-4bbe-b92d-36edb068b649 button.colab-df-convert');\n",
              "        buttonEl.style.display =\n",
              "          google.colab.kernel.accessAllowed ? 'block' : 'none';\n",
              "\n",
              "        async function convertToInteractive(key) {\n",
              "          const element = document.querySelector('#df-bd53a0ef-d1a5-4bbe-b92d-36edb068b649');\n",
              "          const dataTable =\n",
              "            await google.colab.kernel.invokeFunction('convertToInteractive',\n",
              "                                                     [key], {});\n",
              "          if (!dataTable) return;\n",
              "\n",
              "          const docLinkHtml = 'Like what you see? Visit the ' +\n",
              "            '<a target=\"_blank\" href=https://colab.research.google.com/notebooks/data_table.ipynb>data table notebook</a>'\n",
              "            + ' to learn more about interactive tables.';\n",
              "          element.innerHTML = '';\n",
              "          dataTable['output_type'] = 'display_data';\n",
              "          await google.colab.output.renderOutput(dataTable, element);\n",
              "          const docLink = document.createElement('div');\n",
              "          docLink.innerHTML = docLinkHtml;\n",
              "          element.appendChild(docLink);\n",
              "        }\n",
              "      </script>\n",
              "    </div>\n",
              "  </div>\n",
              "  "
            ]
          },
          "metadata": {},
          "execution_count": 208
        }
      ],
      "source": [
        "df.head().T"
      ]
    },
    {
      "cell_type": "code",
      "execution_count": 209,
      "metadata": {
        "colab": {
          "base_uri": "https://localhost:8080/"
        },
        "id": "Q-40msO7ppaE",
        "outputId": "8f5426dc-db70-4bde-de0e-f3d564b1f475"
      },
      "outputs": [
        {
          "output_type": "execute_result",
          "data": {
            "text/plain": [
              "(15919, 54)"
            ]
          },
          "metadata": {},
          "execution_count": 209
        }
      ],
      "source": [
        "df.shape"
      ]
    },
    {
      "cell_type": "code",
      "execution_count": 210,
      "metadata": {
        "id": "EkWd8ntmQr6W",
        "colab": {
          "base_uri": "https://localhost:8080/"
        },
        "outputId": "486d660c-c44a-4dcf-c0d5-fdb53dbe9d37"
      },
      "outputs": [
        {
          "output_type": "stream",
          "name": "stdout",
          "text": [
            "<class 'pandas.core.frame.DataFrame'>\n",
            "RangeIndex: 15919 entries, 0 to 15918\n",
            "Data columns (total 54 columns):\n",
            " #   Column                         Non-Null Count  Dtype  \n",
            "---  ------                         --------------  -----  \n",
            " 0   url                            15919 non-null  object \n",
            " 1   make_model                     15919 non-null  object \n",
            " 2   short_description              15873 non-null  object \n",
            " 3   body_type                      15859 non-null  object \n",
            " 4   price                          15919 non-null  int64  \n",
            " 5   vat                            11406 non-null  object \n",
            " 6   km                             15919 non-null  object \n",
            " 7   registration                   15919 non-null  object \n",
            " 8   prev_owner                     9091 non-null   object \n",
            " 9   kW                             0 non-null      float64\n",
            " 10  hp                             15919 non-null  object \n",
            " 11  Type                           15917 non-null  object \n",
            " 12  Previous_Owners                9279 non-null   object \n",
            " 13  Next_Inspection                3535 non-null   object \n",
            " 14  Inspection_new                 3932 non-null   object \n",
            " 15  Warranty                       10499 non-null  object \n",
            " 16  Full-Service                   8215 non-null   object \n",
            " 17  Non_smoking_Vehicle            7177 non-null   object \n",
            " 18  null                           15919 non-null  object \n",
            " 19  Make                           15919 non-null  object \n",
            " 20  Model                          15919 non-null  object \n",
            " 21  Offer_Number                   12744 non-null  object \n",
            " 22  First_Registration             14322 non-null  object \n",
            " 23  Body_Color                     15322 non-null  object \n",
            " 24  Paint_Type                     10147 non-null  object \n",
            " 25  Body_Color_Original            12160 non-null  object \n",
            " 26  Upholstery                     12199 non-null  object \n",
            " 27  Body                           15859 non-null  object \n",
            " 28  Nr._of_Doors                   15707 non-null  object \n",
            " 29  Nr._of_Seats                   14942 non-null  object \n",
            " 30  Model_Code                     4978 non-null   object \n",
            " 31  Gearing_Type                   15919 non-null  object \n",
            " 32  Displacement                   15423 non-null  object \n",
            " 33  Cylinders                      10239 non-null  object \n",
            " 34  Weight                         8945 non-null   object \n",
            " 35  Drive_chain                    9061 non-null   object \n",
            " 36  Fuel                           15919 non-null  object \n",
            " 37  Consumption                    14013 non-null  object \n",
            " 38  CO2_Emission                   14111 non-null  object \n",
            " 39  Emission_Class                 12898 non-null  object \n",
            " 40  Comfort_Convenience            14999 non-null  object \n",
            " 41  Entertainment_Media            14545 non-null  object \n",
            " 42  Extras                         12957 non-null  object \n",
            " 43  Safety_Security                14937 non-null  object \n",
            " 44  description                    15919 non-null  object \n",
            " 45  Emission_Label                 3985 non-null   object \n",
            " 46  Gears                          11207 non-null  object \n",
            " 47  Country_version                7586 non-null   object \n",
            " 48  Electricity_consumption        137 non-null    object \n",
            " 49  Last_Service_Date              566 non-null    object \n",
            " 50  Other_Fuel_Types               880 non-null    object \n",
            " 51  Availability                   635 non-null    object \n",
            " 52  Last_Timing_Belt_Service_Date  16 non-null     object \n",
            " 53  Available_from                 272 non-null    object \n",
            "dtypes: float64(1), int64(1), object(52)\n",
            "memory usage: 6.6+ MB\n"
          ]
        }
      ],
      "source": [
        "df.info()"
      ]
    },
    {
      "cell_type": "code",
      "execution_count": 211,
      "metadata": {
        "colab": {
          "base_uri": "https://localhost:8080/"
        },
        "id": "d-RDZCh8jy6n",
        "outputId": "3d7603c9-a194-4e93-de7b-71b1a0c1dab9"
      },
      "outputs": [
        {
          "output_type": "execute_result",
          "data": {
            "text/plain": [
              "262023"
            ]
          },
          "metadata": {},
          "execution_count": 211
        }
      ],
      "source": [
        "df.isnull().sum().sum()"
      ]
    },
    {
      "cell_type": "code",
      "execution_count": 212,
      "metadata": {
        "id": "V1XzPZ5WRDQK",
        "colab": {
          "base_uri": "https://localhost:8080/"
        },
        "outputId": "56271ed1-78bc-4b9e-8241-f05bc970d2b5"
      },
      "outputs": [
        {
          "output_type": "execute_result",
          "data": {
            "text/plain": [
              "url                               0.00\n",
              "make_model                        0.00\n",
              "short_description                 0.29\n",
              "body_type                         0.38\n",
              "price                             0.00\n",
              "vat                              28.35\n",
              "km                                0.00\n",
              "registration                      0.00\n",
              "prev_owner                       42.89\n",
              "kW                              100.00\n",
              "hp                                0.00\n",
              "Type                              0.01\n",
              "Previous_Owners                  41.71\n",
              "Next_Inspection                  77.79\n",
              "Inspection_new                   75.30\n",
              "Warranty                         34.05\n",
              "Full-Service                     48.39\n",
              "Non_smoking_Vehicle              54.92\n",
              "null                              0.00\n",
              "Make                              0.00\n",
              "Model                             0.00\n",
              "Offer_Number                     19.94\n",
              "First_Registration               10.03\n",
              "Body_Color                        3.75\n",
              "Paint_Type                       36.26\n",
              "Body_Color_Original              23.61\n",
              "Upholstery                       23.37\n",
              "Body                              0.38\n",
              "Nr._of_Doors                      1.33\n",
              "Nr._of_Seats                      6.14\n",
              "Model_Code                       68.73\n",
              "Gearing_Type                      0.00\n",
              "Displacement                      3.12\n",
              "Cylinders                        35.68\n",
              "Weight                           43.81\n",
              "Drive_chain                      43.08\n",
              "Fuel                              0.00\n",
              "Consumption                      11.97\n",
              "CO2_Emission                     11.36\n",
              "Emission_Class                   18.98\n",
              "Comfort_Convenience               5.78\n",
              "Entertainment_Media               8.63\n",
              "Extras                           18.61\n",
              "Safety_Security                   6.17\n",
              "description                       0.00\n",
              "Emission_Label                   74.97\n",
              "Gears                            29.60\n",
              "Country_version                  52.35\n",
              "Electricity_consumption          99.14\n",
              "Last_Service_Date                96.44\n",
              "Other_Fuel_Types                 94.47\n",
              "Availability                     96.01\n",
              "Last_Timing_Belt_Service_Date    99.90\n",
              "Available_from                   98.29\n",
              "dtype: float64"
            ]
          },
          "metadata": {},
          "execution_count": 212
        }
      ],
      "source": [
        "df.isnull().sum()*100 / df.shape[0] "
      ]
    },
    {
      "cell_type": "code",
      "execution_count": 213,
      "metadata": {
        "id": "f_o6awiYmcPr"
      },
      "outputs": [],
      "source": [
        "def df_nans(df, limit):\n",
        "    missing = df.isnull().sum()*100 / df.shape[0]\n",
        "    return missing.loc[lambda x : x >= limit]\n",
        "\n",
        "def column_nans(serial):\n",
        "    # display percentage of nans in a Series\n",
        "    return serial.isnull().sum()*100 / serial.shape[0]"
      ]
    },
    {
      "cell_type": "code",
      "execution_count": 214,
      "metadata": {
        "colab": {
          "base_uri": "https://localhost:8080/"
        },
        "id": "2lRX1lxumwlv",
        "outputId": "735e28d3-8947-4a5b-8039-feb69721ec9e"
      },
      "outputs": [
        {
          "output_type": "execute_result",
          "data": {
            "text/plain": [
              "kW                              100.00\n",
              "Electricity_consumption          99.14\n",
              "Last_Service_Date                96.44\n",
              "Other_Fuel_Types                 94.47\n",
              "Availability                     96.01\n",
              "Last_Timing_Belt_Service_Date    99.90\n",
              "Available_from                   98.29\n",
              "dtype: float64"
            ]
          },
          "metadata": {},
          "execution_count": 214
        }
      ],
      "source": [
        "df_nans(df, 90)"
      ]
    },
    {
      "cell_type": "code",
      "execution_count": 215,
      "metadata": {
        "id": "efwzDyRInVsC",
        "colab": {
          "base_uri": "https://localhost:8080/"
        },
        "outputId": "a9ea3649-1be6-4ab1-e253-0c15ee21ce2b"
      },
      "outputs": [
        {
          "output_type": "execute_result",
          "data": {
            "text/plain": [
              "99.89949117406873"
            ]
          },
          "metadata": {},
          "execution_count": 215
        }
      ],
      "source": [
        "column_nans(df[\"Last_Timing_Belt_Service_Date\"])"
      ]
    },
    {
      "cell_type": "code",
      "execution_count": 216,
      "metadata": {
        "id": "uIW_E5QCo4Xz",
        "colab": {
          "base_uri": "https://localhost:8080/"
        },
        "outputId": "3b4c68ef-458a-4160-b8d7-83efdca8e142"
      },
      "outputs": [
        {
          "output_type": "execute_result",
          "data": {
            "text/plain": [
              "Index(['kW', 'Electricity_consumption', 'Last_Service_Date',\n",
              "       'Other_Fuel_Types', 'Availability', 'Last_Timing_Belt_Service_Date',\n",
              "       'Available_from'],\n",
              "      dtype='object')"
            ]
          },
          "metadata": {},
          "execution_count": 216
        }
      ],
      "source": [
        "drop_columns = df_nans(df, 90).index\n",
        "drop_columns"
      ]
    },
    {
      "cell_type": "code",
      "execution_count": 217,
      "metadata": {
        "id": "P0q62uLGo4OB"
      },
      "outputs": [],
      "source": [
        "df.drop(drop_columns, axis=1, inplace=True)"
      ]
    },
    {
      "cell_type": "code",
      "execution_count": 218,
      "metadata": {
        "id": "x7uY5CWtpCyf"
      },
      "outputs": [],
      "source": [
        "df.drop(\"null\", axis=1, inplace=True)"
      ]
    },
    {
      "cell_type": "code",
      "execution_count": 219,
      "metadata": {
        "colab": {
          "base_uri": "https://localhost:8080/",
          "height": 652
        },
        "id": "1iFLdE98pRBW",
        "outputId": "ae21e285-baba-4a0c-dd98-c1a8f0d2f80c"
      },
      "outputs": [
        {
          "output_type": "execute_result",
          "data": {
            "text/plain": [
              "                                                 url make_model  \\\n",
              "0  https://www.autoscout24.com//offers/audi-a1-sp...    Audi A1   \n",
              "1  https://www.autoscout24.com//offers/audi-a1-1-...    Audi A1   \n",
              "2  https://www.autoscout24.com//offers/audi-a1-sp...    Audi A1   \n",
              "3  https://www.autoscout24.com//offers/audi-a1-1-...    Audi A1   \n",
              "4  https://www.autoscout24.com//offers/audi-a1-sp...    Audi A1   \n",
              "\n",
              "                                   short_description body_type  price  \\\n",
              "0        Sportback 1.4 TDI S-tronic Xenon Navi Klima    Sedans  15770   \n",
              "1                                     1.8 TFSI sport    Sedans  14500   \n",
              "2  Sportback 1.6 TDI S tronic Einparkhilfe plus+m...    Sedans  14640   \n",
              "3                            1.4 TDi Design S tronic    Sedans  14500   \n",
              "4  Sportback 1.4 TDI S-Tronic S-Line Ext. admired...    Sedans  16790   \n",
              "\n",
              "                vat         km registration         prev_owner      hp  \\\n",
              "0    VAT deductible  56,013 km      01/2016  2 previous owners   66 kW   \n",
              "1  Price negotiable  80,000 km      03/2017               None  141 kW   \n",
              "2    VAT deductible  83,450 km      02/2016   1 previous owner   85 kW   \n",
              "3              None  73,000 km      08/2016   1 previous owner   66 kW   \n",
              "4              None  16,200 km      05/2016   1 previous owner   66 kW   \n",
              "\n",
              "                                      Type Previous_Owners  \\\n",
              "0  [, Used, , Diesel (Particulate Filter)]           \\n2\\n   \n",
              "1                     [, Used, , Gasoline]             NaN   \n",
              "2  [, Used, , Diesel (Particulate Filter)]           \\n1\\n   \n",
              "3  [, Used, , Diesel (Particulate Filter)]           \\n1\\n   \n",
              "4  [, Used, , Diesel (Particulate Filter)]           \\n1\\n   \n",
              "\n",
              "                         Next_Inspection                      Inspection_new  \\\n",
              "0  [\\n06/2021\\n, \\n99 g CO2/km (comb)\\n]               [\\nYes\\n, \\nEuro 6\\n]   \n",
              "1                                    NaN                                 NaN   \n",
              "2                                    NaN                                 NaN   \n",
              "3                                    NaN                                 NaN   \n",
              "4                                    NaN  [\\nYes\\n, \\n109 g CO2/km (comb)\\n]   \n",
              "\n",
              "                           Warranty                      Full-Service  \\\n",
              "0           [\\n, \\n, \\n4 (Green)\\n]                          [\\n, \\n]   \n",
              "1                               NaN                               NaN   \n",
              "2  [\\n, \\n, \\n99 g CO2/km (comb)\\n]                               NaN   \n",
              "3                               NaN  [\\n, \\n, \\n99 g CO2/km (comb)\\n]   \n",
              "4              [\\n, \\n, \\nEuro 6\\n]           [\\n, \\n, \\n4 (Green)\\n]   \n",
              "\n",
              "    Non_smoking_Vehicle      Make         Model     Offer_Number  \\\n",
              "0              [\\n, \\n]  \\nAudi\\n  [\\n, A1, \\n]  [\\nLR-062483\\n]   \n",
              "1                   NaN  \\nAudi\\n  [\\n, A1, \\n]              NaN   \n",
              "2                   NaN  \\nAudi\\n  [\\n, A1, \\n]   [\\nAM-95365\\n]   \n",
              "3  [\\n, \\n, \\nEuro 6\\n]  \\nAudi\\n  [\\n, A1, \\n]              NaN   \n",
              "4              [\\n, \\n]  \\nAudi\\n  [\\n, A1, \\n]      [\\nC1626\\n]   \n",
              "\n",
              "  First_Registration       Body_Color      Paint_Type  \\\n",
              "0     [\\n, 2016, \\n]  [\\n, Black, \\n]  [\\nMetallic\\n]   \n",
              "1     [\\n, 2017, \\n]    [\\n, Red, \\n]             NaN   \n",
              "2     [\\n, 2016, \\n]  [\\n, Black, \\n]  [\\nMetallic\\n]   \n",
              "3     [\\n, 2016, \\n]  [\\n, Brown, \\n]  [\\nMetallic\\n]   \n",
              "4     [\\n, 2016, \\n]  [\\n, Black, \\n]  [\\nMetallic\\n]   \n",
              "\n",
              "            Body_Color_Original          Upholstery              Body  \\\n",
              "0           [\\nMythosschwarz\\n]  [\\nCloth, Black\\n]  [\\n, Sedans, \\n]   \n",
              "1                           NaN   [\\nCloth, Grey\\n]  [\\n, Sedans, \\n]   \n",
              "2  [\\nmythosschwarz metallic\\n]  [\\nCloth, Black\\n]  [\\n, Sedans, \\n]   \n",
              "3                           NaN                 NaN  [\\n, Sedans, \\n]   \n",
              "4  [\\nMythosschwarz Metallic\\n]  [\\nCloth, Black\\n]  [\\n, Sedans, \\n]   \n",
              "\n",
              "  Nr._of_Doors Nr._of_Seats      Model_Code         Gearing_Type  \\\n",
              "0      [\\n5\\n]      [\\n5\\n]  [\\n0588/BDF\\n]  [\\n, Automatic, \\n]   \n",
              "1      [\\n3\\n]      [\\n4\\n]  [\\n0588/BCY\\n]  [\\n, Automatic, \\n]   \n",
              "2      [\\n4\\n]      [\\n4\\n]             NaN  [\\n, Automatic, \\n]   \n",
              "3      [\\n3\\n]      [\\n4\\n]             NaN  [\\n, Automatic, \\n]   \n",
              "4      [\\n5\\n]      [\\n5\\n]  [\\n0588/BDF\\n]  [\\n, Automatic, \\n]   \n",
              "\n",
              "     Displacement Cylinders          Weight  Drive_chain  \\\n",
              "0  [\\n1,422 cc\\n]   [\\n3\\n]  [\\n1,220 kg\\n]  [\\nfront\\n]   \n",
              "1  [\\n1,798 cc\\n]   [\\n4\\n]  [\\n1,255 kg\\n]  [\\nfront\\n]   \n",
              "2  [\\n1,598 cc\\n]       NaN             NaN  [\\nfront\\n]   \n",
              "3  [\\n1,422 cc\\n]   [\\n3\\n]  [\\n1,195 kg\\n]          NaN   \n",
              "4  [\\n1,422 cc\\n]   [\\n3\\n]             NaN  [\\nfront\\n]   \n",
              "\n",
              "                                    Fuel  \\\n",
              "0  [\\n, Diesel (Particulate Filter), \\n]   \n",
              "1                     [\\n, Gasoline, \\n]   \n",
              "2  [\\n, Diesel (Particulate Filter), \\n]   \n",
              "3  [\\n, Diesel (Particulate Filter), \\n]   \n",
              "4  [\\n, Diesel (Particulate Filter), \\n]   \n",
              "\n",
              "                                         Consumption  \\\n",
              "0  [[3.8 l/100 km (comb)], [4.3 l/100 km (city)],...   \n",
              "1  [[5.6 l/100 km (comb)], [7.1 l/100 km (city)],...   \n",
              "2  [[3.8 l/100 km (comb)], [4.4 l/100 km (city)],...   \n",
              "3  [[3.8 l/100 km (comb)], [4.3 l/100 km (city)],...   \n",
              "4  [[4.1 l/100 km (comb)], [4.6 l/100 km (city)],...   \n",
              "\n",
              "                CO2_Emission Emission_Class  \\\n",
              "0   [\\n99 g CO2/km (comb)\\n]   [\\nEuro 6\\n]   \n",
              "1  [\\n129 g CO2/km (comb)\\n]   [\\nEuro 6\\n]   \n",
              "2   [\\n99 g CO2/km (comb)\\n]   [\\nEuro 6\\n]   \n",
              "3   [\\n99 g CO2/km (comb)\\n]   [\\nEuro 6\\n]   \n",
              "4  [\\n109 g CO2/km (comb)\\n]   [\\nEuro 6\\n]   \n",
              "\n",
              "                                 Comfort_Convenience  \\\n",
              "0  [Air conditioning, Armrest, Automatic climate ...   \n",
              "1  [Air conditioning, Automatic climate control, ...   \n",
              "2  [Air conditioning, Cruise control, Electrical ...   \n",
              "3  [Air suspension, Armrest, Auxiliary heating, E...   \n",
              "4  [Air conditioning, Armrest, Automatic climate ...   \n",
              "\n",
              "                                 Entertainment_Media  \\\n",
              "0  [Bluetooth, Hands-free equipment, On-board com...   \n",
              "1  [Bluetooth, Hands-free equipment, On-board com...   \n",
              "2                           [MP3, On-board computer]   \n",
              "3  [Bluetooth, CD player, Hands-free equipment, M...   \n",
              "4  [Bluetooth, CD player, Hands-free equipment, M...   \n",
              "\n",
              "                                              Extras  \\\n",
              "0  [Alloy wheels, Catalytic Converter, Voice Cont...   \n",
              "1  [Alloy wheels, Sport seats, Sport suspension, ...   \n",
              "2                      [Alloy wheels, Voice Control]   \n",
              "3         [Alloy wheels, Sport seats, Voice Control]   \n",
              "4  [Alloy wheels, Sport package, Sport suspension...   \n",
              "\n",
              "                                     Safety_Security  \\\n",
              "0  [ABS, Central door lock, Daytime running light...   \n",
              "1  [ABS, Central door lock, Central door lock wit...   \n",
              "2  [ABS, Central door lock, Daytime running light...   \n",
              "3  [ABS, Alarm system, Central door lock with rem...   \n",
              "4  [ABS, Central door lock, Driver-side airbag, E...   \n",
              "\n",
              "                                         description   Emission_Label  \\\n",
              "0  [\\n, Sicherheit:,  , Deaktivierung für Beifahr...              NaN   \n",
              "1  [\\nLangstreckenfahrzeug daher die hohe Kilomet...  [\\n4 (Green)\\n]   \n",
              "2  [\\n, Fahrzeug-Nummer: AM-95365,  , Ehem. UPE 2...  [\\n4 (Green)\\n]   \n",
              "3  [\\nAudi A1: , - 1e eigenaar , - Perfecte staat...              NaN   \n",
              "4  [\\n, Technik & Sicherheit:, Xenon plus, Klimaa...              NaN   \n",
              "\n",
              "     Gears Country_version  \n",
              "0      NaN             NaN  \n",
              "1  [\\n7\\n]             NaN  \n",
              "2      NaN             NaN  \n",
              "3  [\\n6\\n]             NaN  \n",
              "4      NaN   [\\nGermany\\n]  "
            ],
            "text/html": [
              "\n",
              "  <div id=\"df-214f1888-06f6-4bf6-9394-e935d888cec2\">\n",
              "    <div class=\"colab-df-container\">\n",
              "      <div>\n",
              "<style scoped>\n",
              "    .dataframe tbody tr th:only-of-type {\n",
              "        vertical-align: middle;\n",
              "    }\n",
              "\n",
              "    .dataframe tbody tr th {\n",
              "        vertical-align: top;\n",
              "    }\n",
              "\n",
              "    .dataframe thead th {\n",
              "        text-align: right;\n",
              "    }\n",
              "</style>\n",
              "<table border=\"1\" class=\"dataframe\">\n",
              "  <thead>\n",
              "    <tr style=\"text-align: right;\">\n",
              "      <th></th>\n",
              "      <th>url</th>\n",
              "      <th>make_model</th>\n",
              "      <th>short_description</th>\n",
              "      <th>body_type</th>\n",
              "      <th>price</th>\n",
              "      <th>vat</th>\n",
              "      <th>km</th>\n",
              "      <th>registration</th>\n",
              "      <th>prev_owner</th>\n",
              "      <th>hp</th>\n",
              "      <th>Type</th>\n",
              "      <th>Previous_Owners</th>\n",
              "      <th>Next_Inspection</th>\n",
              "      <th>Inspection_new</th>\n",
              "      <th>Warranty</th>\n",
              "      <th>Full-Service</th>\n",
              "      <th>Non_smoking_Vehicle</th>\n",
              "      <th>Make</th>\n",
              "      <th>Model</th>\n",
              "      <th>Offer_Number</th>\n",
              "      <th>First_Registration</th>\n",
              "      <th>Body_Color</th>\n",
              "      <th>Paint_Type</th>\n",
              "      <th>Body_Color_Original</th>\n",
              "      <th>Upholstery</th>\n",
              "      <th>Body</th>\n",
              "      <th>Nr._of_Doors</th>\n",
              "      <th>Nr._of_Seats</th>\n",
              "      <th>Model_Code</th>\n",
              "      <th>Gearing_Type</th>\n",
              "      <th>Displacement</th>\n",
              "      <th>Cylinders</th>\n",
              "      <th>Weight</th>\n",
              "      <th>Drive_chain</th>\n",
              "      <th>Fuel</th>\n",
              "      <th>Consumption</th>\n",
              "      <th>CO2_Emission</th>\n",
              "      <th>Emission_Class</th>\n",
              "      <th>Comfort_Convenience</th>\n",
              "      <th>Entertainment_Media</th>\n",
              "      <th>Extras</th>\n",
              "      <th>Safety_Security</th>\n",
              "      <th>description</th>\n",
              "      <th>Emission_Label</th>\n",
              "      <th>Gears</th>\n",
              "      <th>Country_version</th>\n",
              "    </tr>\n",
              "  </thead>\n",
              "  <tbody>\n",
              "    <tr>\n",
              "      <th>0</th>\n",
              "      <td>https://www.autoscout24.com//offers/audi-a1-sp...</td>\n",
              "      <td>Audi A1</td>\n",
              "      <td>Sportback 1.4 TDI S-tronic Xenon Navi Klima</td>\n",
              "      <td>Sedans</td>\n",
              "      <td>15770</td>\n",
              "      <td>VAT deductible</td>\n",
              "      <td>56,013 km</td>\n",
              "      <td>01/2016</td>\n",
              "      <td>2 previous owners</td>\n",
              "      <td>66 kW</td>\n",
              "      <td>[, Used, , Diesel (Particulate Filter)]</td>\n",
              "      <td>\\n2\\n</td>\n",
              "      <td>[\\n06/2021\\n, \\n99 g CO2/km (comb)\\n]</td>\n",
              "      <td>[\\nYes\\n, \\nEuro 6\\n]</td>\n",
              "      <td>[\\n, \\n, \\n4 (Green)\\n]</td>\n",
              "      <td>[\\n, \\n]</td>\n",
              "      <td>[\\n, \\n]</td>\n",
              "      <td>\\nAudi\\n</td>\n",
              "      <td>[\\n, A1, \\n]</td>\n",
              "      <td>[\\nLR-062483\\n]</td>\n",
              "      <td>[\\n, 2016, \\n]</td>\n",
              "      <td>[\\n, Black, \\n]</td>\n",
              "      <td>[\\nMetallic\\n]</td>\n",
              "      <td>[\\nMythosschwarz\\n]</td>\n",
              "      <td>[\\nCloth, Black\\n]</td>\n",
              "      <td>[\\n, Sedans, \\n]</td>\n",
              "      <td>[\\n5\\n]</td>\n",
              "      <td>[\\n5\\n]</td>\n",
              "      <td>[\\n0588/BDF\\n]</td>\n",
              "      <td>[\\n, Automatic, \\n]</td>\n",
              "      <td>[\\n1,422 cc\\n]</td>\n",
              "      <td>[\\n3\\n]</td>\n",
              "      <td>[\\n1,220 kg\\n]</td>\n",
              "      <td>[\\nfront\\n]</td>\n",
              "      <td>[\\n, Diesel (Particulate Filter), \\n]</td>\n",
              "      <td>[[3.8 l/100 km (comb)], [4.3 l/100 km (city)],...</td>\n",
              "      <td>[\\n99 g CO2/km (comb)\\n]</td>\n",
              "      <td>[\\nEuro 6\\n]</td>\n",
              "      <td>[Air conditioning, Armrest, Automatic climate ...</td>\n",
              "      <td>[Bluetooth, Hands-free equipment, On-board com...</td>\n",
              "      <td>[Alloy wheels, Catalytic Converter, Voice Cont...</td>\n",
              "      <td>[ABS, Central door lock, Daytime running light...</td>\n",
              "      <td>[\\n, Sicherheit:,  , Deaktivierung für Beifahr...</td>\n",
              "      <td>NaN</td>\n",
              "      <td>NaN</td>\n",
              "      <td>NaN</td>\n",
              "    </tr>\n",
              "    <tr>\n",
              "      <th>1</th>\n",
              "      <td>https://www.autoscout24.com//offers/audi-a1-1-...</td>\n",
              "      <td>Audi A1</td>\n",
              "      <td>1.8 TFSI sport</td>\n",
              "      <td>Sedans</td>\n",
              "      <td>14500</td>\n",
              "      <td>Price negotiable</td>\n",
              "      <td>80,000 km</td>\n",
              "      <td>03/2017</td>\n",
              "      <td>None</td>\n",
              "      <td>141 kW</td>\n",
              "      <td>[, Used, , Gasoline]</td>\n",
              "      <td>NaN</td>\n",
              "      <td>NaN</td>\n",
              "      <td>NaN</td>\n",
              "      <td>NaN</td>\n",
              "      <td>NaN</td>\n",
              "      <td>NaN</td>\n",
              "      <td>\\nAudi\\n</td>\n",
              "      <td>[\\n, A1, \\n]</td>\n",
              "      <td>NaN</td>\n",
              "      <td>[\\n, 2017, \\n]</td>\n",
              "      <td>[\\n, Red, \\n]</td>\n",
              "      <td>NaN</td>\n",
              "      <td>NaN</td>\n",
              "      <td>[\\nCloth, Grey\\n]</td>\n",
              "      <td>[\\n, Sedans, \\n]</td>\n",
              "      <td>[\\n3\\n]</td>\n",
              "      <td>[\\n4\\n]</td>\n",
              "      <td>[\\n0588/BCY\\n]</td>\n",
              "      <td>[\\n, Automatic, \\n]</td>\n",
              "      <td>[\\n1,798 cc\\n]</td>\n",
              "      <td>[\\n4\\n]</td>\n",
              "      <td>[\\n1,255 kg\\n]</td>\n",
              "      <td>[\\nfront\\n]</td>\n",
              "      <td>[\\n, Gasoline, \\n]</td>\n",
              "      <td>[[5.6 l/100 km (comb)], [7.1 l/100 km (city)],...</td>\n",
              "      <td>[\\n129 g CO2/km (comb)\\n]</td>\n",
              "      <td>[\\nEuro 6\\n]</td>\n",
              "      <td>[Air conditioning, Automatic climate control, ...</td>\n",
              "      <td>[Bluetooth, Hands-free equipment, On-board com...</td>\n",
              "      <td>[Alloy wheels, Sport seats, Sport suspension, ...</td>\n",
              "      <td>[ABS, Central door lock, Central door lock wit...</td>\n",
              "      <td>[\\nLangstreckenfahrzeug daher die hohe Kilomet...</td>\n",
              "      <td>[\\n4 (Green)\\n]</td>\n",
              "      <td>[\\n7\\n]</td>\n",
              "      <td>NaN</td>\n",
              "    </tr>\n",
              "    <tr>\n",
              "      <th>2</th>\n",
              "      <td>https://www.autoscout24.com//offers/audi-a1-sp...</td>\n",
              "      <td>Audi A1</td>\n",
              "      <td>Sportback 1.6 TDI S tronic Einparkhilfe plus+m...</td>\n",
              "      <td>Sedans</td>\n",
              "      <td>14640</td>\n",
              "      <td>VAT deductible</td>\n",
              "      <td>83,450 km</td>\n",
              "      <td>02/2016</td>\n",
              "      <td>1 previous owner</td>\n",
              "      <td>85 kW</td>\n",
              "      <td>[, Used, , Diesel (Particulate Filter)]</td>\n",
              "      <td>\\n1\\n</td>\n",
              "      <td>NaN</td>\n",
              "      <td>NaN</td>\n",
              "      <td>[\\n, \\n, \\n99 g CO2/km (comb)\\n]</td>\n",
              "      <td>NaN</td>\n",
              "      <td>NaN</td>\n",
              "      <td>\\nAudi\\n</td>\n",
              "      <td>[\\n, A1, \\n]</td>\n",
              "      <td>[\\nAM-95365\\n]</td>\n",
              "      <td>[\\n, 2016, \\n]</td>\n",
              "      <td>[\\n, Black, \\n]</td>\n",
              "      <td>[\\nMetallic\\n]</td>\n",
              "      <td>[\\nmythosschwarz metallic\\n]</td>\n",
              "      <td>[\\nCloth, Black\\n]</td>\n",
              "      <td>[\\n, Sedans, \\n]</td>\n",
              "      <td>[\\n4\\n]</td>\n",
              "      <td>[\\n4\\n]</td>\n",
              "      <td>NaN</td>\n",
              "      <td>[\\n, Automatic, \\n]</td>\n",
              "      <td>[\\n1,598 cc\\n]</td>\n",
              "      <td>NaN</td>\n",
              "      <td>NaN</td>\n",
              "      <td>[\\nfront\\n]</td>\n",
              "      <td>[\\n, Diesel (Particulate Filter), \\n]</td>\n",
              "      <td>[[3.8 l/100 km (comb)], [4.4 l/100 km (city)],...</td>\n",
              "      <td>[\\n99 g CO2/km (comb)\\n]</td>\n",
              "      <td>[\\nEuro 6\\n]</td>\n",
              "      <td>[Air conditioning, Cruise control, Electrical ...</td>\n",
              "      <td>[MP3, On-board computer]</td>\n",
              "      <td>[Alloy wheels, Voice Control]</td>\n",
              "      <td>[ABS, Central door lock, Daytime running light...</td>\n",
              "      <td>[\\n, Fahrzeug-Nummer: AM-95365,  , Ehem. UPE 2...</td>\n",
              "      <td>[\\n4 (Green)\\n]</td>\n",
              "      <td>NaN</td>\n",
              "      <td>NaN</td>\n",
              "    </tr>\n",
              "    <tr>\n",
              "      <th>3</th>\n",
              "      <td>https://www.autoscout24.com//offers/audi-a1-1-...</td>\n",
              "      <td>Audi A1</td>\n",
              "      <td>1.4 TDi Design S tronic</td>\n",
              "      <td>Sedans</td>\n",
              "      <td>14500</td>\n",
              "      <td>None</td>\n",
              "      <td>73,000 km</td>\n",
              "      <td>08/2016</td>\n",
              "      <td>1 previous owner</td>\n",
              "      <td>66 kW</td>\n",
              "      <td>[, Used, , Diesel (Particulate Filter)]</td>\n",
              "      <td>\\n1\\n</td>\n",
              "      <td>NaN</td>\n",
              "      <td>NaN</td>\n",
              "      <td>NaN</td>\n",
              "      <td>[\\n, \\n, \\n99 g CO2/km (comb)\\n]</td>\n",
              "      <td>[\\n, \\n, \\nEuro 6\\n]</td>\n",
              "      <td>\\nAudi\\n</td>\n",
              "      <td>[\\n, A1, \\n]</td>\n",
              "      <td>NaN</td>\n",
              "      <td>[\\n, 2016, \\n]</td>\n",
              "      <td>[\\n, Brown, \\n]</td>\n",
              "      <td>[\\nMetallic\\n]</td>\n",
              "      <td>NaN</td>\n",
              "      <td>NaN</td>\n",
              "      <td>[\\n, Sedans, \\n]</td>\n",
              "      <td>[\\n3\\n]</td>\n",
              "      <td>[\\n4\\n]</td>\n",
              "      <td>NaN</td>\n",
              "      <td>[\\n, Automatic, \\n]</td>\n",
              "      <td>[\\n1,422 cc\\n]</td>\n",
              "      <td>[\\n3\\n]</td>\n",
              "      <td>[\\n1,195 kg\\n]</td>\n",
              "      <td>NaN</td>\n",
              "      <td>[\\n, Diesel (Particulate Filter), \\n]</td>\n",
              "      <td>[[3.8 l/100 km (comb)], [4.3 l/100 km (city)],...</td>\n",
              "      <td>[\\n99 g CO2/km (comb)\\n]</td>\n",
              "      <td>[\\nEuro 6\\n]</td>\n",
              "      <td>[Air suspension, Armrest, Auxiliary heating, E...</td>\n",
              "      <td>[Bluetooth, CD player, Hands-free equipment, M...</td>\n",
              "      <td>[Alloy wheels, Sport seats, Voice Control]</td>\n",
              "      <td>[ABS, Alarm system, Central door lock with rem...</td>\n",
              "      <td>[\\nAudi A1: , - 1e eigenaar , - Perfecte staat...</td>\n",
              "      <td>NaN</td>\n",
              "      <td>[\\n6\\n]</td>\n",
              "      <td>NaN</td>\n",
              "    </tr>\n",
              "    <tr>\n",
              "      <th>4</th>\n",
              "      <td>https://www.autoscout24.com//offers/audi-a1-sp...</td>\n",
              "      <td>Audi A1</td>\n",
              "      <td>Sportback 1.4 TDI S-Tronic S-Line Ext. admired...</td>\n",
              "      <td>Sedans</td>\n",
              "      <td>16790</td>\n",
              "      <td>None</td>\n",
              "      <td>16,200 km</td>\n",
              "      <td>05/2016</td>\n",
              "      <td>1 previous owner</td>\n",
              "      <td>66 kW</td>\n",
              "      <td>[, Used, , Diesel (Particulate Filter)]</td>\n",
              "      <td>\\n1\\n</td>\n",
              "      <td>NaN</td>\n",
              "      <td>[\\nYes\\n, \\n109 g CO2/km (comb)\\n]</td>\n",
              "      <td>[\\n, \\n, \\nEuro 6\\n]</td>\n",
              "      <td>[\\n, \\n, \\n4 (Green)\\n]</td>\n",
              "      <td>[\\n, \\n]</td>\n",
              "      <td>\\nAudi\\n</td>\n",
              "      <td>[\\n, A1, \\n]</td>\n",
              "      <td>[\\nC1626\\n]</td>\n",
              "      <td>[\\n, 2016, \\n]</td>\n",
              "      <td>[\\n, Black, \\n]</td>\n",
              "      <td>[\\nMetallic\\n]</td>\n",
              "      <td>[\\nMythosschwarz Metallic\\n]</td>\n",
              "      <td>[\\nCloth, Black\\n]</td>\n",
              "      <td>[\\n, Sedans, \\n]</td>\n",
              "      <td>[\\n5\\n]</td>\n",
              "      <td>[\\n5\\n]</td>\n",
              "      <td>[\\n0588/BDF\\n]</td>\n",
              "      <td>[\\n, Automatic, \\n]</td>\n",
              "      <td>[\\n1,422 cc\\n]</td>\n",
              "      <td>[\\n3\\n]</td>\n",
              "      <td>NaN</td>\n",
              "      <td>[\\nfront\\n]</td>\n",
              "      <td>[\\n, Diesel (Particulate Filter), \\n]</td>\n",
              "      <td>[[4.1 l/100 km (comb)], [4.6 l/100 km (city)],...</td>\n",
              "      <td>[\\n109 g CO2/km (comb)\\n]</td>\n",
              "      <td>[\\nEuro 6\\n]</td>\n",
              "      <td>[Air conditioning, Armrest, Automatic climate ...</td>\n",
              "      <td>[Bluetooth, CD player, Hands-free equipment, M...</td>\n",
              "      <td>[Alloy wheels, Sport package, Sport suspension...</td>\n",
              "      <td>[ABS, Central door lock, Driver-side airbag, E...</td>\n",
              "      <td>[\\n, Technik &amp; Sicherheit:, Xenon plus, Klimaa...</td>\n",
              "      <td>NaN</td>\n",
              "      <td>NaN</td>\n",
              "      <td>[\\nGermany\\n]</td>\n",
              "    </tr>\n",
              "  </tbody>\n",
              "</table>\n",
              "</div>\n",
              "      <button class=\"colab-df-convert\" onclick=\"convertToInteractive('df-214f1888-06f6-4bf6-9394-e935d888cec2')\"\n",
              "              title=\"Convert this dataframe to an interactive table.\"\n",
              "              style=\"display:none;\">\n",
              "        \n",
              "  <svg xmlns=\"http://www.w3.org/2000/svg\" height=\"24px\"viewBox=\"0 0 24 24\"\n",
              "       width=\"24px\">\n",
              "    <path d=\"M0 0h24v24H0V0z\" fill=\"none\"/>\n",
              "    <path d=\"M18.56 5.44l.94 2.06.94-2.06 2.06-.94-2.06-.94-.94-2.06-.94 2.06-2.06.94zm-11 1L8.5 8.5l.94-2.06 2.06-.94-2.06-.94L8.5 2.5l-.94 2.06-2.06.94zm10 10l.94 2.06.94-2.06 2.06-.94-2.06-.94-.94-2.06-.94 2.06-2.06.94z\"/><path d=\"M17.41 7.96l-1.37-1.37c-.4-.4-.92-.59-1.43-.59-.52 0-1.04.2-1.43.59L10.3 9.45l-7.72 7.72c-.78.78-.78 2.05 0 2.83L4 21.41c.39.39.9.59 1.41.59.51 0 1.02-.2 1.41-.59l7.78-7.78 2.81-2.81c.8-.78.8-2.07 0-2.86zM5.41 20L4 18.59l7.72-7.72 1.47 1.35L5.41 20z\"/>\n",
              "  </svg>\n",
              "      </button>\n",
              "      \n",
              "  <style>\n",
              "    .colab-df-container {\n",
              "      display:flex;\n",
              "      flex-wrap:wrap;\n",
              "      gap: 12px;\n",
              "    }\n",
              "\n",
              "    .colab-df-convert {\n",
              "      background-color: #E8F0FE;\n",
              "      border: none;\n",
              "      border-radius: 50%;\n",
              "      cursor: pointer;\n",
              "      display: none;\n",
              "      fill: #1967D2;\n",
              "      height: 32px;\n",
              "      padding: 0 0 0 0;\n",
              "      width: 32px;\n",
              "    }\n",
              "\n",
              "    .colab-df-convert:hover {\n",
              "      background-color: #E2EBFA;\n",
              "      box-shadow: 0px 1px 2px rgba(60, 64, 67, 0.3), 0px 1px 3px 1px rgba(60, 64, 67, 0.15);\n",
              "      fill: #174EA6;\n",
              "    }\n",
              "\n",
              "    [theme=dark] .colab-df-convert {\n",
              "      background-color: #3B4455;\n",
              "      fill: #D2E3FC;\n",
              "    }\n",
              "\n",
              "    [theme=dark] .colab-df-convert:hover {\n",
              "      background-color: #434B5C;\n",
              "      box-shadow: 0px 1px 3px 1px rgba(0, 0, 0, 0.15);\n",
              "      filter: drop-shadow(0px 1px 2px rgba(0, 0, 0, 0.3));\n",
              "      fill: #FFFFFF;\n",
              "    }\n",
              "  </style>\n",
              "\n",
              "      <script>\n",
              "        const buttonEl =\n",
              "          document.querySelector('#df-214f1888-06f6-4bf6-9394-e935d888cec2 button.colab-df-convert');\n",
              "        buttonEl.style.display =\n",
              "          google.colab.kernel.accessAllowed ? 'block' : 'none';\n",
              "\n",
              "        async function convertToInteractive(key) {\n",
              "          const element = document.querySelector('#df-214f1888-06f6-4bf6-9394-e935d888cec2');\n",
              "          const dataTable =\n",
              "            await google.colab.kernel.invokeFunction('convertToInteractive',\n",
              "                                                     [key], {});\n",
              "          if (!dataTable) return;\n",
              "\n",
              "          const docLinkHtml = 'Like what you see? Visit the ' +\n",
              "            '<a target=\"_blank\" href=https://colab.research.google.com/notebooks/data_table.ipynb>data table notebook</a>'\n",
              "            + ' to learn more about interactive tables.';\n",
              "          element.innerHTML = '';\n",
              "          dataTable['output_type'] = 'display_data';\n",
              "          await google.colab.output.renderOutput(dataTable, element);\n",
              "          const docLink = document.createElement('div');\n",
              "          docLink.innerHTML = docLinkHtml;\n",
              "          element.appendChild(docLink);\n",
              "        }\n",
              "      </script>\n",
              "    </div>\n",
              "  </div>\n",
              "  "
            ]
          },
          "metadata": {},
          "execution_count": 219
        }
      ],
      "source": [
        "df.head()"
      ]
    },
    {
      "cell_type": "code",
      "execution_count": 220,
      "metadata": {
        "id": "usGkJYLIR0W-",
        "colab": {
          "base_uri": "https://localhost:8080/"
        },
        "outputId": "f4ad4fbe-afb0-469f-932c-fd1c7c679da1"
      },
      "outputs": [
        {
          "output_type": "stream",
          "name": "stdout",
          "text": [
            "<class 'pandas.core.frame.DataFrame'>\n",
            "RangeIndex: 15919 entries, 0 to 15918\n",
            "Data columns (total 46 columns):\n",
            " #   Column               Non-Null Count  Dtype \n",
            "---  ------               --------------  ----- \n",
            " 0   url                  15919 non-null  object\n",
            " 1   make_model           15919 non-null  object\n",
            " 2   short_description    15873 non-null  object\n",
            " 3   body_type            15859 non-null  object\n",
            " 4   price                15919 non-null  int64 \n",
            " 5   vat                  11406 non-null  object\n",
            " 6   km                   15919 non-null  object\n",
            " 7   registration         15919 non-null  object\n",
            " 8   prev_owner           9091 non-null   object\n",
            " 9   hp                   15919 non-null  object\n",
            " 10  Type                 15917 non-null  object\n",
            " 11  Previous_Owners      9279 non-null   object\n",
            " 12  Next_Inspection      3535 non-null   object\n",
            " 13  Inspection_new       3932 non-null   object\n",
            " 14  Warranty             10499 non-null  object\n",
            " 15  Full-Service         8215 non-null   object\n",
            " 16  Non_smoking_Vehicle  7177 non-null   object\n",
            " 17  Make                 15919 non-null  object\n",
            " 18  Model                15919 non-null  object\n",
            " 19  Offer_Number         12744 non-null  object\n",
            " 20  First_Registration   14322 non-null  object\n",
            " 21  Body_Color           15322 non-null  object\n",
            " 22  Paint_Type           10147 non-null  object\n",
            " 23  Body_Color_Original  12160 non-null  object\n",
            " 24  Upholstery           12199 non-null  object\n",
            " 25  Body                 15859 non-null  object\n",
            " 26  Nr._of_Doors         15707 non-null  object\n",
            " 27  Nr._of_Seats         14942 non-null  object\n",
            " 28  Model_Code           4978 non-null   object\n",
            " 29  Gearing_Type         15919 non-null  object\n",
            " 30  Displacement         15423 non-null  object\n",
            " 31  Cylinders            10239 non-null  object\n",
            " 32  Weight               8945 non-null   object\n",
            " 33  Drive_chain          9061 non-null   object\n",
            " 34  Fuel                 15919 non-null  object\n",
            " 35  Consumption          14013 non-null  object\n",
            " 36  CO2_Emission         14111 non-null  object\n",
            " 37  Emission_Class       12898 non-null  object\n",
            " 38  Comfort_Convenience  14999 non-null  object\n",
            " 39  Entertainment_Media  14545 non-null  object\n",
            " 40  Extras               12957 non-null  object\n",
            " 41  Safety_Security      14937 non-null  object\n",
            " 42  description          15919 non-null  object\n",
            " 43  Emission_Label       3985 non-null   object\n",
            " 44  Gears                11207 non-null  object\n",
            " 45  Country_version      7586 non-null   object\n",
            "dtypes: int64(1), object(45)\n",
            "memory usage: 5.6+ MB\n"
          ]
        }
      ],
      "source": [
        "df.info()"
      ]
    },
    {
      "cell_type": "code",
      "execution_count": 221,
      "metadata": {
        "id": "fbke4zZ6R-vf",
        "colab": {
          "base_uri": "https://localhost:8080/"
        },
        "outputId": "bfdf98c2-10db-4fae-bba5-fcec838be178"
      },
      "outputs": [
        {
          "output_type": "execute_result",
          "data": {
            "text/plain": [
              "https://www.autoscout24.com//offers/audi-a1-sportback-1-4-tdi-s-tronic-xenon-navi-klima-diesel-black-bdab349a-caa5-41b0-98eb-c1345b84445e                  1\n",
              "https://www.autoscout24.com//offers/opel-insignia-bus-inno-2-0-cdti-aut-navi-bi-xe-led-e6-diesel-black-8710b253-dd98-4ed0-9d46-cbad2d79532b                1\n",
              "https://www.autoscout24.com//offers/opel-insignia-sport-tourer-opel-sport-tourer-1-6-cdti-136-ch-a-c-diesel-silver-10b7463b-9f56-4348-af35-df3432b2b585    1\n",
              "https://www.autoscout24.com//offers/opel-insignia-2-0cdti-st-business-innovation-navi-bt-diesel-black-ba5a3368-dedc-4e51-9127-3976b26e93c2                 1\n",
              "https://www.autoscout24.com//offers/opel-insignia-sport-tourer-opel-sport-tourer-1-6-cdti-136-ch-a-c-diesel-silver-7b52f054-78d3-4d5e-9370-8a7d081d7edd    1\n",
              "                                                                                                                                                          ..\n",
              "https://www.autoscout24.com//offers/audi-a3-sb-30-1-6-tdi-business-116cv-s-tronic-diesel-black-cf50f7b1-4d7b-466f-93a2-4e11ec0b4107                        1\n",
              "https://www.autoscout24.com//offers/audi-a3-sb-30-1-6-tdi-business-116cv-s-tronic-diesel-grey-3f47eb34-15c4-4763-860d-78fcbbd2c9ff                         1\n",
              "https://www.autoscout24.com//offers/audi-a3-sb-30-1-6-tdi-business-116cv-s-tronic-diesel-silver-f7a4bc95-b2ef-4bac-9497-6bcbcd05db0b                       1\n",
              "https://www.autoscout24.com//offers/audi-a3-sb-30-1-6-tdi-business-116cv-s-tronic-diesel-silver-1c94c7a2-67b5-49ca-ae42-42a6800fb3f5                       1\n",
              "https://www.autoscout24.com//offers/renault-espace-initiale-paris-tce-225-edc-gpf-navi-shz-aux-gasoline-grey-0bd690d9-7e93-4cab-bc5a-9d5b63402481          1\n",
              "Name: url, Length: 15919, dtype: int64"
            ]
          },
          "metadata": {},
          "execution_count": 221
        }
      ],
      "source": [
        "df.url.value_counts(dropna=False)"
      ]
    },
    {
      "cell_type": "code",
      "execution_count": 222,
      "metadata": {
        "id": "od0-yTy_SAw2"
      },
      "outputs": [],
      "source": [
        "df.drop(\"url\", axis=1, inplace=True)"
      ]
    },
    {
      "cell_type": "markdown",
      "metadata": {
        "id": "fdlYeqhQSfXC"
      },
      "source": [
        "lets seperate as model:"
      ]
    },
    {
      "cell_type": "code",
      "execution_count": 223,
      "metadata": {
        "id": "eZ4fRw0gSLI1",
        "colab": {
          "base_uri": "https://localhost:8080/"
        },
        "outputId": "94e6f8cb-b109-4d59-86ed-6dd4cc3c10c0"
      },
      "outputs": [
        {
          "output_type": "execute_result",
          "data": {
            "text/plain": [
              "Audi A3           3097\n",
              "Audi A1           2614\n",
              "Opel Insignia     2598\n",
              "Opel Astra        2526\n",
              "Opel Corsa        2219\n",
              "Renault Clio      1839\n",
              "Renault Espace     991\n",
              "Renault Duster      34\n",
              "Audi A2              1\n",
              "Name: make_model, dtype: int64"
            ]
          },
          "metadata": {},
          "execution_count": 223
        }
      ],
      "source": [
        "df.make_model.value_counts(dropna=False)"
      ]
    },
    {
      "cell_type": "code",
      "execution_count": 224,
      "metadata": {
        "id": "C23zrYWqSLA1",
        "colab": {
          "base_uri": "https://localhost:8080/"
        },
        "outputId": "dd40cf98-b045-4307-c4d7-a34d3fa90a4c"
      },
      "outputs": [
        {
          "output_type": "execute_result",
          "data": {
            "text/plain": [
              "\\nOpel\\n       7343\n",
              "\\nAudi\\n       5712\n",
              "\\nRenault\\n    2864\n",
              "Name: Make, dtype: int64"
            ]
          },
          "metadata": {},
          "execution_count": 224
        }
      ],
      "source": [
        "df.Make.value_counts(dropna=False)"
      ]
    },
    {
      "cell_type": "code",
      "execution_count": 225,
      "metadata": {
        "id": "5BBdl2aTSK6M"
      },
      "outputs": [],
      "source": [
        "df[\"Make\"] = df.Make.str.strip('\\n')"
      ]
    },
    {
      "cell_type": "code",
      "execution_count": 226,
      "metadata": {
        "id": "wMQ7Z2bwSKwk",
        "colab": {
          "base_uri": "https://localhost:8080/"
        },
        "outputId": "06489dd2-81fe-42db-b5ec-00edfcadcabc"
      },
      "outputs": [
        {
          "output_type": "execute_result",
          "data": {
            "text/plain": [
              "Opel       7343\n",
              "Audi       5712\n",
              "Renault    2864\n",
              "Name: Make, dtype: int64"
            ]
          },
          "metadata": {},
          "execution_count": 226
        }
      ],
      "source": [
        "df.Make.value_counts(dropna=False)"
      ]
    },
    {
      "cell_type": "code",
      "execution_count": 227,
      "metadata": {
        "id": "j0YgWfJJSKmp",
        "colab": {
          "base_uri": "https://localhost:8080/",
          "height": 408
        },
        "outputId": "f0bb8a32-08b3-4abc-a9e4-fbec32331364"
      },
      "outputs": [
        {
          "output_type": "error",
          "ename": "TypeError",
          "evalue": "ignored",
          "traceback": [
            "\u001b[0;31m---------------------------------------------------------------------------\u001b[0m",
            "\u001b[0;31mTypeError\u001b[0m                                 Traceback (most recent call last)",
            "\u001b[0;32mpandas/_libs/hashtable_class_helper.pxi\u001b[0m in \u001b[0;36mpandas._libs.hashtable.PyObjectHashTable.map_locations\u001b[0;34m()\u001b[0m\n",
            "\u001b[0;31mTypeError\u001b[0m: unhashable type: 'list'"
          ]
        },
        {
          "output_type": "stream",
          "name": "stderr",
          "text": [
            "Exception ignored in: 'pandas._libs.index.IndexEngine._call_map_locations'\n",
            "Traceback (most recent call last):\n",
            "  File \"pandas/_libs/hashtable_class_helper.pxi\", line 5231, in pandas._libs.hashtable.PyObjectHashTable.map_locations\n",
            "TypeError: unhashable type: 'list'\n"
          ]
        },
        {
          "output_type": "execute_result",
          "data": {
            "text/plain": [
              "[\\n, A3, \\n]          3097\n",
              "[\\n, A1, \\n]          2614\n",
              "[\\n, Insignia, \\n]    2598\n",
              "[\\n, Astra, \\n]       2526\n",
              "[\\n, Corsa, \\n]       2219\n",
              "[\\n, Clio, \\n]        1839\n",
              "[\\n, Espace, \\n]       991\n",
              "[\\n, Duster, \\n]        34\n",
              "[\\n, A2, \\n]             1\n",
              "Name: Model, dtype: int64"
            ]
          },
          "metadata": {},
          "execution_count": 227
        }
      ],
      "source": [
        "df.Model.value_counts(dropna=False)"
      ]
    },
    {
      "cell_type": "code",
      "execution_count": 228,
      "metadata": {
        "id": "HyKtIKPwS24W",
        "colab": {
          "base_uri": "https://localhost:8080/"
        },
        "outputId": "27ac0165-1ff4-4ffb-c6ce-22d713a8826d"
      },
      "outputs": [
        {
          "output_type": "execute_result",
          "data": {
            "text/plain": [
              "['\\n', 'A3', '\\n']          3097\n",
              "['\\n', 'A1', '\\n']          2614\n",
              "['\\n', 'Insignia', '\\n']    2598\n",
              "['\\n', 'Astra', '\\n']       2526\n",
              "['\\n', 'Corsa', '\\n']       2219\n",
              "['\\n', 'Clio', '\\n']        1839\n",
              "['\\n', 'Espace', '\\n']       991\n",
              "['\\n', 'Duster', '\\n']        34\n",
              "['\\n', 'A2', '\\n']             1\n",
              "Name: Model, dtype: int64"
            ]
          },
          "metadata": {},
          "execution_count": 228
        }
      ],
      "source": [
        "df.Model.astype(\"str\").value_counts(dropna=False)"
      ]
    },
    {
      "cell_type": "code",
      "execution_count": 229,
      "metadata": {
        "id": "Vb9KKJx5S3Ay",
        "colab": {
          "base_uri": "https://localhost:8080/"
        },
        "outputId": "e9ef998e-77c3-42cf-de7c-ff07ecb5a2fb"
      },
      "outputs": [
        {
          "output_type": "execute_result",
          "data": {
            "text/plain": [
              "['\\n', 'A1', '\\n']"
            ]
          },
          "metadata": {},
          "execution_count": 229
        }
      ],
      "source": [
        "df[\"Model\"][0]"
      ]
    },
    {
      "cell_type": "code",
      "execution_count": 230,
      "metadata": {
        "id": "2J73RzceS3K1",
        "colab": {
          "base_uri": "https://localhost:8080/",
          "height": 36
        },
        "outputId": "aba5f00c-8384-4664-fc18-565a9af745a4"
      },
      "outputs": [
        {
          "output_type": "execute_result",
          "data": {
            "text/plain": [
              "'A1'"
            ],
            "application/vnd.google.colaboratory.intrinsic+json": {
              "type": "string"
            }
          },
          "metadata": {},
          "execution_count": 230
        }
      ],
      "source": [
        "df[\"Model\"][0][1]"
      ]
    },
    {
      "cell_type": "code",
      "execution_count": 231,
      "metadata": {
        "id": "zhLX_hJvS3TV",
        "colab": {
          "base_uri": "https://localhost:8080/"
        },
        "outputId": "25ac304a-2542-429d-8915-43ecaae396f5"
      },
      "outputs": [
        {
          "output_type": "execute_result",
          "data": {
            "text/plain": [
              "0            A1\n",
              "1            A1\n",
              "2            A1\n",
              "3            A1\n",
              "4            A1\n",
              "          ...  \n",
              "15914    Espace\n",
              "15915    Espace\n",
              "15916    Espace\n",
              "15917    Espace\n",
              "15918    Espace\n",
              "Name: Model, Length: 15919, dtype: object"
            ]
          },
          "metadata": {},
          "execution_count": 231
        }
      ],
      "source": [
        "df[\"Model\"].apply(lambda x: x[1])"
      ]
    },
    {
      "cell_type": "code",
      "execution_count": 232,
      "metadata": {
        "id": "V1oCeL9VS3cv",
        "colab": {
          "base_uri": "https://localhost:8080/"
        },
        "outputId": "3c754ff7-ea95-44f3-b001-bafbbe70d0a2"
      },
      "outputs": [
        {
          "output_type": "execute_result",
          "data": {
            "text/plain": [
              "0            A1\n",
              "1            A1\n",
              "2            A1\n",
              "3            A1\n",
              "4            A1\n",
              "          ...  \n",
              "15914    Espace\n",
              "15915    Espace\n",
              "15916    Espace\n",
              "15917    Espace\n",
              "15918    Espace\n",
              "Name: Model, Length: 15919, dtype: object"
            ]
          },
          "metadata": {},
          "execution_count": 232
        }
      ],
      "source": [
        "df.Model.str[1]"
      ]
    },
    {
      "cell_type": "code",
      "execution_count": 233,
      "metadata": {
        "id": "3lwqfwMgTL2F"
      },
      "outputs": [],
      "source": [
        "df[\"Model\"] = df.Model.str[1]"
      ]
    },
    {
      "cell_type": "code",
      "execution_count": 234,
      "metadata": {
        "id": "nClnUSKcTL6k",
        "colab": {
          "base_uri": "https://localhost:8080/"
        },
        "outputId": "b17a79ec-630f-45c1-d7e0-c8a64b70e4a3"
      },
      "outputs": [
        {
          "output_type": "execute_result",
          "data": {
            "text/plain": [
              "A3          3097\n",
              "A1          2614\n",
              "Insignia    2598\n",
              "Astra       2526\n",
              "Corsa       2219\n",
              "Clio        1839\n",
              "Espace       991\n",
              "Duster        34\n",
              "A2             1\n",
              "Name: Model, dtype: int64"
            ]
          },
          "metadata": {},
          "execution_count": 234
        }
      ],
      "source": [
        "df.Model.value_counts(dropna=False)"
      ]
    },
    {
      "cell_type": "code",
      "execution_count": 235,
      "metadata": {
        "id": "C5mQpu8lTL-l"
      },
      "outputs": [],
      "source": [
        "df.drop([\"Make\", \"Model\"], axis=1, inplace=True)"
      ]
    },
    {
      "cell_type": "code",
      "execution_count": 236,
      "metadata": {
        "id": "zO-xrg-mTMDT",
        "colab": {
          "base_uri": "https://localhost:8080/"
        },
        "outputId": "73c71dce-30ae-4041-b7d9-5ad7f1d28202"
      },
      "outputs": [
        {
          "output_type": "execute_result",
          "data": {
            "text/plain": [
              "SPB 1.6 TDI 116 CV S tronic Sport                 64\n",
              "NaN                                               46\n",
              "1.4 66kW (90CV) Selective                         40\n",
              "MOVE KLIMA CD USB ALLWETTER BLUETOOTH             38\n",
              "SPB 30 TDI S tronic Business                      35\n",
              "                                                  ..\n",
              "K Sports Tourer Business **Navi*Voll**             1\n",
              "1.0 Turbo ecoFLEX Automatic Elective Park Navi     1\n",
              "1.6 CDTI Business *Navi*Automatik*Spurh.*          1\n",
              "1.6 136 CV Automatica Navi E 6 Garanzia Full       1\n",
              "TCe 225 EDC GPF LIM Deluxe Pano,RFK                1\n",
              "Name: short_description, Length: 10002, dtype: int64"
            ]
          },
          "metadata": {},
          "execution_count": 236
        }
      ],
      "source": [
        "df.short_description.value_counts(dropna=False)"
      ]
    },
    {
      "cell_type": "code",
      "execution_count": 237,
      "metadata": {
        "id": "9Tz02-iUTMJQ"
      },
      "outputs": [],
      "source": [
        "df.drop(\"short_description\", axis=1, inplace=True)"
      ]
    },
    {
      "cell_type": "code",
      "execution_count": 238,
      "metadata": {
        "id": "lH37QG-9TMNs",
        "colab": {
          "base_uri": "https://localhost:8080/"
        },
        "outputId": "5fe60082-3a85-4c57-ef55-d64b7b0e62ac"
      },
      "outputs": [
        {
          "output_type": "execute_result",
          "data": {
            "text/plain": [
              "0        [\\n, Sicherheit:,  , Deaktivierung für Beifahr...\n",
              "1        [\\nLangstreckenfahrzeug daher die hohe Kilomet...\n",
              "2        [\\n, Fahrzeug-Nummer: AM-95365,  , Ehem. UPE 2...\n",
              "3        [\\nAudi A1: , - 1e eigenaar , - Perfecte staat...\n",
              "4        [\\n, Technik & Sicherheit:, Xenon plus, Klimaa...\n",
              "                               ...                        \n",
              "15914    [\\nVettura visionabile nella sede in Via Roma ...\n",
              "15915    [\\nDach: Panorama-Glas-Schiebedach, Lackierung...\n",
              "15916    [\\n, Getriebe:,  Automatik, Technik:,  Bordcom...\n",
              "15917    [\\nDEK:[2691331], Renault Espace Blue dCi 200C...\n",
              "15918    [\\n, Sicherheit Airbags:,  , Seitenairbag,  , ...\n",
              "Name: description, Length: 15919, dtype: object"
            ]
          },
          "metadata": {},
          "execution_count": 238
        }
      ],
      "source": [
        "df['description']"
      ]
    },
    {
      "cell_type": "code",
      "execution_count": 239,
      "metadata": {
        "id": "h851TRyUTobV",
        "colab": {
          "base_uri": "https://localhost:8080/"
        },
        "outputId": "37918294-e084-4f9c-ccb4-a7fbf9bae3cb"
      },
      "outputs": [
        {
          "output_type": "execute_result",
          "data": {
            "text/plain": [
              "[]                                                                                                                                                                                                                                                                                                                                                                                                                                                                                                                                                                                                                                                                                                                                                                                                                                                                                                                                                                                                                                                                                                                                                                                                                                                                                                                                                                                                                                                                                                                                                                                                                                                                                                                                                                                                                                                                                                                                                                                                                                                                                                                                                                                                                                                                                                                                                                                                                                                                                                                                                                                                                                                                                                                                                                                                                                                                                               636\n",
              "['\\n', '\\n']                                                                                                                                                                                                                                                                                                                                                                                                                                                                                                                                                                                                                                                                                                                                                                                                                                                                                                                                                                                                                                                                                                                                                                                                                                                                                                                                                                                                                                                                                                                                                                                                                                                                                                                                                                                                                                                                                                                                                                                                                                                                                                                                                                                                                                                                                                                                                                                                                                                                                                                                                                                                                                                                                                                                                                                                                                                                                      30\n",
              "['\\n', 'Fahrzeugbeschreibung', ' Sichern Sie sich diesen Renault Clio 1.6 TCE Energy Sport Trophy zum Top-Preis inklusive dem ', 'AUTOHERO-RUNDUM-SORGLOS-PAKET', ' ', 'Infos:', ' 1.Hand, deutsche Auslieferung, Unfallfrei, scheckheftgepflegt', ' ', 'Highlights', ' ', 'Audio-Navigationssystem R-Link Evolution mit Touchscreen und Carminat TomTom', ' ', 'Sportsitze ', ' ', 'Sportfahrwerk', ' ', 'Scheinwerfer Full-LED ', 'Komfort', ' ', 'Geschwindigkeits-Regelanlage (Tempomat) ', ' ', 'Klimaanlage', ' ', 'Einparkhilfe hinten', ' ', 'Multifunktionslenkrad (Sport/Leder) mit Schaltwippen/-tasten ', ' ', 'Fensterheber elektr. mit Impulsgeber links/rechts vorn', ' ', 'Zentralverriegelung / Startanlage Handsfree Entry & Drive ', ' ', 'Berganfahr-Assistent (HSA) ', 'Multimedia', ' ', 'Audiosystem: Radio R & GO (Bluetooth, DAB-Tuner)', ' ', 'Bordcomputer', ' ', 'Freisprecheinrichtung Bluetooth ', ' ', 'USB-Anschluss inkl. AUX-IN-Anschluss (Plug & Music) ', 'Licht und Sicht', ' ', 'Außenspiegel elektr. verstell- und heizbar ', ' ', 'Licht- und Regensensor ', ' ', 'Tagfahrlicht LED ', ' ', 'Nebelscheinwerfer LED ', ' ', 'Coming-Home-Lichtfunktion ', ' ', 'Heckleuchten LED ', 'Sicherheit', ' ', 'Isofix-Aufnahmen für Kindersitz ', ' ', 'Seitenairbag vorn', ' ', 'Wegfahrsperre', ' ', 'Differentialsperre', ' ', 'Bremsassistent ', ' ', 'Elektron. Stabilitäts-Programm (ESP)', ' ', 'Anti-Blockier-System (ABS)', ' ', 'Anti-Submarining-Airbag im Fond', ' ', 'Airbag Fahrer-/Beifahrerseite ', ' ', 'Differentialsperre ', ' ', 'Reifendruck-Kontrollsystem ', ' ', 'Untersteuerungskontrolle (USC) ', ' ', 'Antischlupfregelung (ASR) ', 'Weiteres', ' ', 'Start/Stop-Anlage ', ' ', 'Servolenkung geschwindigkeitsabhängig', ' ', 'R.S. Drive (Fahrmodusschalter) ', ' ', 'Gepäckraumabdeckung / Rollo ', ' ', 'Heckdiffusor ', ' ', 'LM-Felgen ', ' ', 'Heckspoiler (Renault Sport) ', ' ', 'Pedale Aluminium ', ' ', 'Energierückgewinnung (Energy Smart Management) ', ' ', 'Elektr. Bremskraftverteilung ', ' ', 'Reifen-Reparaturkit ', ' ', 'Sitzbezug / Polsterung: Stoff ', ' Ihr ', 'AUTOHERO-RUNDUM-SORGLOS-PAKET', ' beinhaltet:', 'Kostenlose Lieferung in Ihre Nähe', 'Optische & technische Aufbereitung', 'Mindestens 12 Monate gültige HU und AU', '1-Jahr-Premium-Garantie', 'Zulassung inklusive ', '14-Tage-Rückgaberecht', 'Markenunabhängige Inzahlungnahme ', 'Individuelle Finanzierungen zu fairen Konditionen', ' ', 'HIER GEHT ES ZUR 360° - ANSICHT DES FAHRZEUGES:', ':', 'https://www.autohero.com/de/renault-clio-1-6-tce-energy-renault-sport-trophy/id/f7ca29bf-e005-453f-bbc9-8c6fe892dec6/', ' ', 'Haftungsausschluss', ':', 'Für Angaben vom Verkäufer, des Herstellers oder von Datenbankabfragen übernimmt Autohero keine Haftung. Änderungen, Zwischenverkauf und Irrtümer sind vorbehalten.\\n']     27\n",
              "['\\nPosibilidad de prueba del vehículo hasta 5 días. Consultar condiciones. PVP para particulares. Varias unidades y colores disponibles. Precios publicados para vehículos industriales (furgonetas) válidos para compradores autónomos o empresas, consultar condiciones para particulares. Las imágenes y kilómetros pueden no corresponder con el modelo anunciado. Para confirmar póngase en contacto con nuestro departamento comercial. Consulta las excepcionales condiciones de financiación que tenemos disponibles. Precio de venta final IVA y gastos de transferencia incluidos. Horario de atención al cliente: Lunes a Viernes de 09:00 a 18:00.\\n']                                                                                                                                                                                                                                                                                                                                                                                                                                                                                                                                                                                                                                                                                                                                                                                                                                                                                                                                                                                                                                                                                                                                                                                                                                                                                                                                                                                                                                                                                                                                                                                                                                                                                                                                                                                                                                                                                                                                                                                                                                                                                                                                                                                                                               27\n",
              "['\\nSichern Sie sich diesen RENAULT CLIO 1.2 LIMITED zum Top-Preis inklusive dem', 'AUTOHERO-RUNDUM-SORGLOS-PAKET', ' ', 'Infos:', ' 2.Hand, mindestens 12 Monate gültige HU und AU, deutsche Ausführung, unfallfrei ', ' ', 'Highlights', ' ', 'Audio-Navigationssystem mit Touchscreen-Farbdisplay', 'Komfort', ' ', 'Klimaanlage ', ' ', 'Multifunktionslenkrad in Leder ', ' ', 'Berganfahr-Assistent (HSA)', ' ', 'Fensterheber elektrisch vorn ', ' ', 'Geschwindigkeits-Regelanlage (Tempomat) ', ' ', 'Heckscheibe heizbar ', ' ', 'Sitz vorn links höhenverstellbar', ' ', 'Sitz vorn rechts umklappbar ', ' ', 'Stau-/Ablagefach im Laderaumboden ', ' ', 'Zentralverriegelung mit Fernbedienung ', 'Multimedia', ' ', 'Radio R&GO', ' ', 'Bluetooth Freisprechanlage ', ' ', 'USB-/AUX-Schnittstelle ', ' ', 'Bordcomputer', ' ', 'Licht und Sicht', ' ', 'Tagfahrlicht LED ', ' ', 'Außenspiegel elektrisch verstell- und heizbar', 'Sicherheit', ' ', 'Airbag für Fahrer und Beifahrer', ' ', 'Beifahrerairbag deaktivierbar ', ' ', 'Seitenairbags vorn ', ' ', 'Kopfairbagsystem', ' ', 'Anti-Blockier-System (ABS)', ' ', 'Elektronische Bremskraftverteilung ', ' ', 'Elektronische Stabilitäts-Programm (ESP) ', ' ', 'Reifen-Reparaturkit ', ' ', 'Reifendruck-Kontrollsystem ', ' ', 'Untersteuerungskontrolle (USC) ', ' ', 'ISOFIX Kindersitzverankerung ', 'Weiteres', ' ', 'Dachreling silber ', ' ', 'Look-Paket Chrom (außen) ', ' ', 'Look-Paket Grau (innen) ', ' ', 'R&GO-Paket ', ' ', 'Style-Paket ', ' Ihr ', 'AUTOHERO-RUNDUM-SORGLOS-PAKET', ' beinhaltet:', 'Kostenlose Lieferung in Ihre Nähe', 'Optische & technische Aufbereitung', 'Mindestens 12 Monate gültige HU und AU', '1-Jahr-Premium-Garantie', 'Zulassung inklusive ', '14-Tage-Rückgaberecht', 'Markenunabhängige Inzahlungnahme ', 'Individuelle Finanzierungen zu fairen Konditionen', ' ', 'HIER GEHT ES ZUR 360° - ANSICHT DES FAHRZEUGES:', ':', 'https://www.autohero.com/de/renault-clio-1-2-limited/id/30f99516-8785-47e7-a4a3-6cdac4d8e633/', ' ', 'Haftungsausschluss', ':', 'Für Angaben vom Verkäufer, des Herstellers oder von Datenbankabfragen übernimmt Autohero keine Haftung. Änderungen, Zwischenverkauf und Irrtümer sind vorbehalten.\\n']                                                                                                                                                                                                                                                                                                                                                                                                                                                                                                                                                                                                                                   27\n",
              "                                                                                                                                                                                                                                                                                                                                                                                                                                                                                                                                                                                                                                                                                                                                                                                                                                                                                                                                                                                                                                                                                                                                                                                                                                                                                                                                                                                                                                                                                                                                                                                                                                                                                                                                                                                                                                                                                                                                                                                                                                                                                                                                                                                                                                                                                                                                                                                                                                                                                                                                                                                                                                                                                                                                                                                                                                                                                                ... \n",
              "['\\nPratica\\xa067374', 'Airbag fullsize per conducente e passeggero, Alzacristalli elettrici ant. e post. con funzione attivaz. a pressione, Assetto dinamico, Audi drive select, Inserti in micrometallic argento, Kit riparazione pneumatici, Pacchetto di navigazione, Piano di copertura del vano bagagli estraibile, Presa AUX-IN, Proiettori allo Xenon Plus con reg. aut. prof. fari, Lavafari, Rivestimenti dei sedili in tessuto, Serbatoio AdBlue, Sistema controllo pressione pneumatici, Sistema di ancoraggio ISOFIX e 3° punto di ancoraggio Top Tether sui sedili post. laterali, Sistema di informazioni per il conducente con display monocromatico, Tappetini anteriori e posteriori, Versione Business, Volante sportivo multifunzionale in pelle 3 razze, ABS, EBV (Ripartitore elettronico della forza frenante), Airbag laterali anteriori integrati negli schienali dei sedili, Airbag per la testa, Airbag per le ginocchia (lato conducente), Appoggiatesta anteriori (2) e posteriori (3) regolabili, Radio MMI plus, Interfaccia Bluetooth, Appoggiabraccia centrale anteriore, Cambio manuale, Cerchi in lega 7 J x 16\" a 5 razze a stella, Chiusura centralizzata con telecomando, Regolatore di velocità, ESC - Sistema elettronico di controllo della stabilizzazione con bloccaggio trasversale elettronico, ASR - Dispositivo di controllo della trazione, EDS (Dispositivo antislittamento in partenza), Filtro anti particolato, Cinture di sicurezza con pretensionatore, Specchietti retrovisivi esterni riscaldabili e ripiegabili elettricamente, Schienale del sedile posteriore ribaltabile (divisibile in rapporto 40:60 o ribaltabile completam.), Sistema di ausilio al parcheggio posteriore, Servosterzo elettromeccanico, Tergilunotto\\n']                                                                                                                                                                                                                                                                                                                                                                                                                                                                                                                                                                                                                                                                                                                                                                                                                                                                                                                                                                                                                                                                                                          1\n",
              "['\\n', 'Getriebe:', ' Schaltgetriebe', 'Technik:', ' Bordcomputer, Start-Stop-Automatik', 'Assistenten:', ' Regensensor, Lichtsensor, Berganfahrassistent', 'Komfort:', ' Servolenkung, Zentralverriegelung, Elektrischer Fensterheber, Sitzheizung, Elektrische Aussenspiegel, Teilbare Ruecksitzlehne, Tempomat, Park Distance Control, Multifunktionslenkrad, Innenspiegel autom. abblendbar, Mittelarmlehne, Innenraumfilter, Lenksaeule einstellbar, Sportsitze, Klimaautomatik-2-Zonen', 'Sicht:', ' Xenon Scheinwerfer, Colorverglasung, Scheinwerferreinigung, Aussenspiegel beheizbar, Privacyverglasung', 'Sicherheit:', ' ABS, Airbag, Beifahrer-Airbag, Wegfahrsperre, Seitenairbags, ESP, Antriebsschlupfregelung, Reifendruckkontrolle, Traktionskontrolle, Kopfairbag, Knieairbag, Kindersitzbefestigung, Pannenkit', 'Entertainment:', ' CD, Radio, AUX-In, USB-Anschluss, MP3, Bluetooth, Freisprecheinrichtung', 'Umwelt:', ' Grüne Umweltplakette, ', 'Energieeffizienzklasse B', 'Qualität:', ' Garantie, Scheckheftgepflegt, HUAU neu, Nichtraucherfahrzeug', 'Sonstiges:', ' Metallic, Alufelgen, Dachreling, Gepaeckraumabdeckung, Stossfaenger in Wagenfarbe, Sportfahrwerk', 'Weiteres:', ' Connectivity-Paket inkl. Bluetooth-Schnittstelle, Klimaautomatik 2-Zonen, Optik-Paket schwarz Audi exclusive, Einparkhilfe (APS), Verglasung hinten abgedunkelt, Sitzheizung vorn, Dachreling (Aluminium), Soundsystem DSP / Audi Sound-System, Ablage- und Gepäckraum-Paket, Audi music interface, Scheibenwaschdüsen heizbar, Vorbereitung Navigationssystem, Adaptives Bremslicht, Anfahr-Assistent (hold assist), Antriebsart: Frontantrieb, Audi Drive Select, Außenspiegel Wagenfarbe, Blinkleuchten LED in Außenspiegel integriert, Bremsanlage mit Rekuperation - Bremsenergierückgewinnung, Bremsassistent, Dachspoiler, Dekoreinlagen Aluminium Mistral, Einstiegsleisten Aluminium, Elektron. Differentialsperre (EDS), Elektron. Stabilitätskontrolle (ESC), Elektron. Stabilitäts-Programm, Euro 6, Fahrer-Informations-System (FIS), Fensterheber elektrisch vorn und hinten, Frontscheibe Akustikglas, Fußmatten Velours, Getriebe 6-Gang, Heckscheibe heizbar, Interieur Aluminium-Optik, Isofix-Aufnahmen für Kindersitz, Kopfstützen hinten, Multi-Media-Interface MMI, Parkbremse elektro-mechanisch, Polster: Stoff Rallye, Servolenkung elektro-mechanisch, Sitze vorn mit ausziehbarer Oberschenkelauflage, Sitzhöhenverstellung, Sport/Lederlenkrad, Sport-Fahrwerk, Start/Stop-Anlage, Telefon-Vorbereitung mit Bluetooth-Schnittstelle, Wagenheber, Wärmeschutzverglasung, Xenon Plus, ZV mit Fernbedienung', '... Änderungen, Zwischenverkauf und Irrtümer vorbehalten.', ' by CG360.de\\n']                                                                                                                                                         1\n",
              "['\\n', 'Getriebe', '6-Gang', 'Licht und Sicht', 'Xenon-Scheinwerfer Plus (Abblend- und Fernlicht)', 'Technik und Sicherheit', 'Fahrerairbag', 'Airbag Fahrer-/Beifahrerseite', 'Seitenairbag vorn', 'Kopfairbags', 'Anti-Blockier-System (ABS)', 'Elektron. Stabilitätskontrolle (ESC)', 'Elektron. Differentialsperre (EDS)', 'Zentralverriegelung mit Fernbedienung', 'Schließ-/Startsystem Advanced Key (Komfortschlüssel)', 'Servolenkung elektro-mechanisch', 'Geschwindigkeits-Regelanlage (Tempomat)', 'Elektronische Wegfahrsperre', 'Bordcomputer', 'Reifendruck-Kontrollsystem', 'Assistenzsysteme', 'Fahrassistenz-System: Anfahr-Assistent (hold assist)', 'Multimedia', 'Multi-Media-Interface MMI Basic Plus / MMI Radio Plus', 'Audi Smartphone Interface', 'Komfort', 'Komfort-Klimaautomatik 2-Zonen', 'Einparkhilfe hinten (APS)', 'Fensterheber elektrisch', 'Licht- und Regensensor', 'Außenspiegel elektr. verstellbar beide', 'Scheibenwaschdüsen und Außenspiegel beheizt', 'Wärmeschutzverglasung grün getönt', 'Innenausstattung', 'Sitzheizung vorn', 'Lenkrad (Sport/Leder - 3-Speichen) mit Multifunktion', 'Mittelarmlehne vorn', 'Rücksitzlehne geteilt/klappbar', 'Aussenausstattung', 'LM-Felgen', 'Pakete', 'Komfort-Paket', 'Sonstiges', 'Rußpartikelfilter', 'Scheckheftgepflegt', 'Nichtraucherfahrzeug', 'Weitere Informationen', 'Schadstoffklasse: EURO 6D-TEMP', 'Connectivity-Paket', 'Glanz-Paket', 'LM-Felgen 7.5x17 (5-Speichen Y-Design)', 'Progressivlenkung', 'Antriebs-Schlupfregelung (ASR)', 'Elektron. Stabilitäts-Programm (ESP)', 'Getriebe 6-Gang', 'Lenkrad (Sport - 3-Speichen)', 'Parkbremse elektro-mechanisch', 'Sitze vorn höhenverstellbar', 'Vorrüstung Mobiltelefon/Handy mit Bluetooth-Schnittstelle', 'Audi music interface', 'Außenspiegel elektr. verstell- und heizbar beide', 'Vorbereitung Navigationssystem', 'Irrtümer und Änderungen vorbehalten.', 'Die im Internet angebotene Ausstattung ist kein Vertragsbestandteil.', 'Die Ausstattung muss vor Ort geprüft werden.', 'Das angebotene Fahrzeug kann von einer Rückrufaktion betroffen sein. Co2 Angaben können abweichen.', '\\n']                                                                                                                                                                                                                                                                                                                                                                                                                                                                                                                                                                                                                                                                                                                                   1\n",
              "['\\n', 'Aluminium-Gussräder im 5-Speichen-Stern-Design Größe 7 J x 16 mit Reifen 205/55 R 16', 'Dachreling eloxiert', 'Einparkhilfe hinten', 'Fahrerinformationssystem mit Farbdisplay', 'Lederlenkrad im 3-Speichen-Design mit Multifunktion plus', 'Ablage-/Gepäckraumpaket mit erweitertem USB-Buchsen-Angebot', 'Lichtpaket', \"Reifen 16'\", 'Anlaufvariante RdW', 'Vorbereitung für Anhängevorrichtung', 'Audi sound system', 'Reifen 205/55 R16 91W', 'Xenon plus', 'Allwetterlicht', 'Kopfstützen hinten (3 Stück)', 'MMI Radio plus', 'Zentralverriegelung mit Funkschlüssel', 'Bluetooth-Schnittstelle', 'Innenspiegel abblendbar', 'elektronische Stabilisierungskontrolle (ESC)', 'Airbags', '6-Gang-Schaltgetriebe', 'Seitenairbags vorn und Kopfairbagsystem', 'elektromechanische Servolenkung', 'Leuchtweitenregulierung automatisch-statisch', 'Scheibenwaschdüsen beheizbar vorn', 'Reifendruck-Kontrollanzeige', 'Tagfahrlicht', 'Start-Stop-System', 'AUX-IN-Anschluss', 'Kindersitzverankerung ISOFIX und Top Tether für die äußeren Fondsitze', 'Sitzbezüge in Stoff Index', 'Wärmeschutzverglasung', 'Akustikfrontscheibe', 'Außenspiegel links asphärisch', 'Außen-Sound Standard', 'Außenspiegel rechts (großes Sichtfeld) konvex', 'elektromechanische Parkbremse', 'Dachhimmel in Stoff felsgrau', 'Kraftstoffsystem Otto-Einspritzer', 'Linkslenker', 'Reifenreparaturset', 'Heckleuchten', 'Scheibenwaschanlage', 'Entriegelung Hintersitz Standard', 'Waschwasserstandsanzeige', 'Abgaskonzept EU6 AG/H/I', 'Frontantrieb', 'A3', 'Außenspiegelgehäuse in Wagenfarbe', 'Ohne erweitertem Sicherheitssystem', 'Geschwindigkeitsbegrenzungsanlage', 'Dachkantenspoiler', 'Heckscheibenwischer', 'Sportback', 'Kindersicherung manuell', 'Ohne Kamerasysteme/Umfeldsensorik', '4-Zyl. Ottomotor 1 5 L/110KW TSI Grundmotor ist: TJ7/N09/T9F', 'Nebelschlussleuchten', 'Nichtraucherausführung', 'Radstand', 'Doppeltonfanfare', 'Serienfahrwerk', '4 Türen', 'Modellbezeichnung gemäß neuer Leistungskennzeichnung', 'Warnleuchten', 'Zierleisten schwarz', 'Nichtraucherfahrzeug', 'Irrtümer Änderungen und Zwischenverkauf vorbehalten', 'sehr guter Zustand', 'Komfortklima', 'Aussenspiegel heizbar', 'elektrische Aussenspiegel', 'geteilte Rückbank', 'Scheckheft gepflegt', 'Fahrersitz höhenverstellbar', 'Beifahrersitz höhenverstellbar', '\\n']                                                                                                                                                                                                                                                                                                                                                                                                                                                                                                                 1\n",
              "['\\nDEK:[2691331]', 'Renault Espace Blue dCi 200CV EDC Business', 'Nuova da Immatricolare', 'COLORE: Grigio Titanio', 'INTERNO: Pelle+Tessuto', 'TRASMISSIONE: Cambio Automatico EDC', '---', 'ACCESSORI: ', '7 Posti', ', ', 'Cerchi in Lega 17, Navigatore con Display 8.7, Clima Automatico, Sensori di Parcheggio Anteriori e Posteriori con Retrocamera, Fari Full LED Pure Vision, Cruise Control, Renault Multisense', '---', 'Listino Nuovo 44.300 Euro', 'Prezzo Gruppo Carmeli: 39.700 Euro (Esclusa IPT e Messa in Strada)', 'IVA Esposta', 'In caso di Adesione alla PROMO GRUPPO CARMELI puoi Averla a 36.000 Euro', 'Contattaci per scoprire tutti i vantaggi della PROMO GRUPPO CARMELI', '____________________________________', 'Gruppo Carmeli S.p.A. è Concessionaria e Service ufficiale dei Marchi Renault, Dacia, Nissan, Mercedes e Smart per la provincia di Brescia e Bergamo ed opera nel mercato dell’auto da più di 40 anni.', 'Nelle sedi di Brescia (Nissan e Renault-Dacia Autospazio), di Coccaglio (Renault-Dacia e Nissan) e di Bergamo (Nissan) oltre a tutta la gamma di veicoli dei Marchi rappresentati, propone anche 2.000 auto a Km Zero e Aziendali di tutte le marche.', 'Offriamo Servizi:', '-VALUTAZIONE e PERMUTA del tuo USATO', '-ACQUISTO con pagamento immediato del tuo USATO', '-FINANZIAMENTI e LEASING agevolati', '-NOLEGGIO A LUNGO TERMINE di veicoli di tutte le marche', '-PACCHETTI ASSICURATIVI su misura con possibilità di garanzia del valore a Nuovo', '____________________________________', \"Sebbene sia stato fatto ogni ragionevole sforzo per assicurare l'esattezza delle informazioni riportate, vi potrebbero essere involontarie incongruenze riguardanti le immagini e la descrizione degli accessori, che pertanto non rappresentano vincolo contrattuale. Per ulteriori informazioni sulle condizioni economiche ti invitiamo a contattarci.\", '\\n']                                                                                                                                                                                                                                                                                                                                                                                                                                                                                                                                                                                                                                                                                                                                                                                                                                                                                                                                                                1\n",
              "Name: description, Length: 12874, dtype: int64"
            ]
          },
          "metadata": {},
          "execution_count": 239
        }
      ],
      "source": [
        "df['description'].astype('str').value_counts(dropna=False)"
      ]
    },
    {
      "cell_type": "code",
      "execution_count": 240,
      "metadata": {
        "id": "prhaRLSNTooP",
        "colab": {
          "base_uri": "https://localhost:8080/"
        },
        "outputId": "b3118e21-5a20-4861-ad6c-564e595d2e51"
      },
      "outputs": [
        {
          "output_type": "execute_result",
          "data": {
            "text/plain": [
              "Sedans           7903\n",
              "Station wagon    3553\n",
              "Compact          3153\n",
              "Van               783\n",
              "Other             290\n",
              "Transporter        88\n",
              "NaN                60\n",
              "Off-Road           56\n",
              "Coupe              25\n",
              "Convertible         8\n",
              "Name: body_type, dtype: int64"
            ]
          },
          "metadata": {},
          "execution_count": 240
        }
      ],
      "source": [
        "df.body_type.value_counts(dropna=False)"
      ]
    },
    {
      "cell_type": "code",
      "execution_count": 241,
      "metadata": {
        "id": "2UpRZQXyTosN",
        "colab": {
          "base_uri": "https://localhost:8080/"
        },
        "outputId": "6639b0c4-a2d7-40d0-a293-0e618c55ef7b"
      },
      "outputs": [
        {
          "output_type": "execute_result",
          "data": {
            "text/plain": [
              "['\\n', 'Sedans', '\\n']           7903\n",
              "['\\n', 'Station wagon', '\\n']    3553\n",
              "['\\n', 'Compact', '\\n']          3153\n",
              "['\\n', 'Van', '\\n']               783\n",
              "['\\n', 'Other', '\\n']             290\n",
              "['\\n', 'Transporter', '\\n']        88\n",
              "nan                                60\n",
              "['\\n', 'Off-Road', '\\n']           56\n",
              "['\\n', 'Coupe', '\\n']              25\n",
              "['\\n', 'Convertible', '\\n']         8\n",
              "Name: Body, dtype: int64"
            ]
          },
          "metadata": {},
          "execution_count": 241
        }
      ],
      "source": [
        "df.Body.astype('str').value_counts(dropna=False)"
      ]
    },
    {
      "cell_type": "code",
      "execution_count": 242,
      "metadata": {
        "id": "x8a0xWL4TowV"
      },
      "outputs": [],
      "source": [
        "df.drop(\"Body\", axis = 1, inplace = True)"
      ]
    },
    {
      "cell_type": "code",
      "execution_count": 243,
      "metadata": {
        "id": "JrWz-HzVTo1S",
        "colab": {
          "base_uri": "https://localhost:8080/"
        },
        "outputId": "bf4c2bff-2e96-4d9d-8291-bf9fb6d3df7b"
      },
      "outputs": [
        {
          "output_type": "execute_result",
          "data": {
            "text/plain": [
              "14990    154\n",
              "15990    151\n",
              "10990    139\n",
              "15900    106\n",
              "17990    102\n",
              "        ... \n",
              "17559      1\n",
              "17560      1\n",
              "17570      1\n",
              "17575      1\n",
              "39875      1\n",
              "Name: price, Length: 2956, dtype: int64"
            ]
          },
          "metadata": {},
          "execution_count": 243
        }
      ],
      "source": [
        "df.price.value_counts(dropna=False)"
      ]
    },
    {
      "cell_type": "code",
      "execution_count": 244,
      "metadata": {
        "id": "_k5Z1-A3To5o",
        "colab": {
          "base_uri": "https://localhost:8080/"
        },
        "outputId": "5976eaba-ca08-44b4-c86a-bdf7ac8d12a5"
      },
      "outputs": [
        {
          "output_type": "execute_result",
          "data": {
            "text/plain": [
              "0"
            ]
          },
          "metadata": {},
          "execution_count": 244
        }
      ],
      "source": [
        "df.price.isnull().sum()"
      ]
    },
    {
      "cell_type": "code",
      "execution_count": 245,
      "metadata": {
        "id": "ebfTyk77UNWP",
        "colab": {
          "base_uri": "https://localhost:8080/",
          "height": 279
        },
        "outputId": "0f1f0bc8-3938-454e-e224-8795a64c9909"
      },
      "outputs": [
        {
          "output_type": "display_data",
          "data": {
            "text/plain": [
              "<Figure size 432x288 with 1 Axes>"
            ],
            "image/png": "[encoded data removed]"
          },
          "metadata": {
            "needs_background": "light"
          }
        }
      ],
      "source": [
        "sns.boxplot(df.price);"
      ]
    },
    {
      "cell_type": "code",
      "execution_count": 246,
      "metadata": {
        "id": "YwmDKWOSUNeB",
        "colab": {
          "base_uri": "https://localhost:8080/",
          "height": 290
        },
        "outputId": "525793c0-7d0a-484c-c1f9-2edbfc0c67c0"
      },
      "outputs": [
        {
          "output_type": "display_data",
          "data": {
            "text/plain": [
              "<Figure size 432x288 with 1 Axes>"
            ],
            "image/png": "[encoded data removed]"
          },
          "metadata": {
            "needs_background": "light"
          }
        }
      ],
      "source": [
        "sns.distplot(df.price);"
      ]
    },
    {
      "cell_type": "code",
      "execution_count": 247,
      "metadata": {
        "id": "EsS0FfTFUNic",
        "colab": {
          "base_uri": "https://localhost:8080/"
        },
        "outputId": "bee9495d-a61c-41aa-b6fc-f8b8c549426f"
      },
      "outputs": [
        {
          "output_type": "execute_result",
          "data": {
            "text/plain": [
              "VAT deductible      10980\n",
              "NaN                  4513\n",
              "Price negotiable      426\n",
              "Name: vat, dtype: int64"
            ]
          },
          "metadata": {},
          "execution_count": 247
        }
      ],
      "source": [
        "df.vat.value_counts(dropna=False)"
      ]
    },
    {
      "cell_type": "code",
      "execution_count": 248,
      "metadata": {
        "id": "7eSaNN9LUNnO",
        "colab": {
          "base_uri": "https://localhost:8080/"
        },
        "outputId": "ac04a689-a5ff-4147-9f1b-c67d68ea9010"
      },
      "outputs": [
        {
          "output_type": "execute_result",
          "data": {
            "text/plain": [
              "10 km        1045\n",
              "- km         1024\n",
              "1 km          367\n",
              "5 km          170\n",
              "50 km         148\n",
              "             ... \n",
              "67,469 km       1\n",
              "43,197 km       1\n",
              "10,027 km       1\n",
              "35,882 km       1\n",
              "57 km           1\n",
              "Name: km, Length: 6690, dtype: int64"
            ]
          },
          "metadata": {},
          "execution_count": 248
        }
      ],
      "source": [
        "df.km.value_counts(dropna=False)"
      ]
    },
    {
      "cell_type": "code",
      "execution_count": 249,
      "metadata": {
        "id": "S3k5GFSZUNsU"
      },
      "outputs": [],
      "source": [
        "df[\"km\"] = df.km.str.replace(',', '').str.extract('(\\d{1,8})').astype('float') "
      ]
    },
    {
      "cell_type": "code",
      "execution_count": 250,
      "metadata": {
        "id": "0kl804d7Uew9",
        "colab": {
          "base_uri": "https://localhost:8080/"
        },
        "outputId": "11fd14ec-fd76-4a6e-af39-1e1b8f373569"
      },
      "outputs": [
        {
          "output_type": "execute_result",
          "data": {
            "text/plain": [
              "10.00       1045\n",
              "NaN         1024\n",
              "1.00         367\n",
              "5.00         170\n",
              "50.00        148\n",
              "            ... \n",
              "67469.00       1\n",
              "43197.00       1\n",
              "10027.00       1\n",
              "35882.00       1\n",
              "57.00          1\n",
              "Name: km, Length: 6690, dtype: int64"
            ]
          },
          "metadata": {},
          "execution_count": 250
        }
      ],
      "source": [
        "df.km.value_counts(dropna=False)"
      ]
    },
    {
      "cell_type": "code",
      "execution_count": 251,
      "metadata": {
        "id": "JSOwZqYdUe4q",
        "colab": {
          "base_uri": "https://localhost:8080/"
        },
        "outputId": "fe4257c9-6e93-40d3-f7a7-742d91846d38"
      },
      "outputs": [
        {
          "output_type": "execute_result",
          "data": {
            "text/plain": [
              "-/-        1597\n",
              "03/2018     695\n",
              "02/2019     585\n",
              "05/2018     572\n",
              "03/2019     543\n",
              "01/2019     541\n",
              "04/2018     541\n",
              "02/2018     539\n",
              "03/2016     536\n",
              "04/2016     532\n",
              "06/2018     532\n",
              "01/2018     511\n",
              "04/2019     506\n",
              "02/2016     472\n",
              "03/2017     471\n",
              "05/2016     459\n",
              "06/2016     452\n",
              "05/2019     440\n",
              "06/2017     409\n",
              "05/2017     404\n",
              "07/2018     396\n",
              "04/2017     380\n",
              "01/2016     376\n",
              "02/2017     368\n",
              "01/2017     306\n",
              "08/2018     285\n",
              "06/2019     224\n",
              "07/2017     215\n",
              "11/2017     180\n",
              "07/2016     176\n",
              "10/2016     160\n",
              "10/2017     154\n",
              "09/2017     149\n",
              "11/2016     142\n",
              "09/2018     141\n",
              "09/2016     141\n",
              "12/2016     134\n",
              "12/2017     123\n",
              "08/2017     114\n",
              "11/2018     110\n",
              "12/2018     103\n",
              "10/2018      97\n",
              "08/2016      94\n",
              "07/2019       6\n",
              "09/2019       5\n",
              "08/2019       1\n",
              "11/2019       1\n",
              "12/2019       1\n",
              "Name: registration, dtype: int64"
            ]
          },
          "metadata": {},
          "execution_count": 251
        }
      ],
      "source": [
        "df.registration.value_counts(dropna=False)"
      ]
    },
    {
      "cell_type": "code",
      "execution_count": 252,
      "metadata": {
        "id": "RGB7TsKQUe9O",
        "colab": {
          "base_uri": "https://localhost:8080/"
        },
        "outputId": "3a31c2dd-d6e7-4443-aeff-c8a2228a1cbd"
      },
      "outputs": [
        {
          "output_type": "execute_result",
          "data": {
            "text/plain": [
              "['\\n', '2018', '\\n']    4522\n",
              "['\\n', '2016', '\\n']    3674\n",
              "['\\n', '2017', '\\n']    3273\n",
              "['\\n', '2019', '\\n']    2853\n",
              "nan                     1597\n",
              "Name: First_Registration, dtype: int64"
            ]
          },
          "metadata": {},
          "execution_count": 252
        }
      ],
      "source": [
        "df[\"First_Registration\"].astype('str').value_counts(dropna=False)"
      ]
    },
    {
      "cell_type": "code",
      "execution_count": 253,
      "metadata": {
        "id": "5F_evD43UfBg"
      },
      "outputs": [],
      "source": [
        "df['First_Registration'] = df['First_Registration'].str[1].astype('float')"
      ]
    },
    {
      "cell_type": "code",
      "execution_count": 254,
      "metadata": {
        "id": "4VtXFvx7UfF6",
        "colab": {
          "base_uri": "https://localhost:8080/"
        },
        "outputId": "d98d2cf2-877a-488f-ff8c-993e7f9a8c0f"
      },
      "outputs": [
        {
          "output_type": "execute_result",
          "data": {
            "text/plain": [
              "2018.00    4522\n",
              "2016.00    3674\n",
              "2017.00    3273\n",
              "2019.00    2853\n",
              "NaN        1597\n",
              "Name: First_Registration, dtype: int64"
            ]
          },
          "metadata": {},
          "execution_count": 254
        }
      ],
      "source": [
        "df[\"First_Registration\"].value_counts(dropna=False)"
      ]
    },
    {
      "cell_type": "code",
      "execution_count": 255,
      "metadata": {
        "id": "slM0yY9FU4Dz"
      },
      "outputs": [],
      "source": [
        "df['age'] = 2019 - df['First_Registration']"
      ]
    },
    {
      "cell_type": "code",
      "execution_count": 256,
      "metadata": {
        "id": "BIyXYG55U4H3",
        "colab": {
          "base_uri": "https://localhost:8080/"
        },
        "outputId": "de12cac1-f1c2-4753-eac8-279bebac0def"
      },
      "outputs": [
        {
          "output_type": "execute_result",
          "data": {
            "text/plain": [
              "1.00    4522\n",
              "3.00    3674\n",
              "2.00    3273\n",
              "0.00    2853\n",
              "NaN     1597\n",
              "Name: age, dtype: int64"
            ]
          },
          "metadata": {},
          "execution_count": 256
        }
      ],
      "source": [
        "df.age.value_counts(dropna=False)"
      ]
    },
    {
      "cell_type": "code",
      "execution_count": 257,
      "metadata": {
        "id": "sA3dkMIxU4L0"
      },
      "outputs": [],
      "source": [
        "df.drop([\"registration\", \"First_Registration\"], axis=1, inplace=True)"
      ]
    },
    {
      "cell_type": "code",
      "execution_count": 258,
      "metadata": {
        "id": "xXg0TKD6U4Pb",
        "colab": {
          "base_uri": "https://localhost:8080/"
        },
        "outputId": "a612386e-64e4-4f4d-ee8f-e1f0bff3cd34"
      },
      "outputs": [
        {
          "output_type": "execute_result",
          "data": {
            "text/plain": [
              "1 previous owner     8294\n",
              "NaN                  6828\n",
              "2 previous owners     778\n",
              "3 previous owners      17\n",
              "4 previous owners       2\n",
              "Name: prev_owner, dtype: int64"
            ]
          },
          "metadata": {},
          "execution_count": 258
        }
      ],
      "source": [
        "df.prev_owner.value_counts(dropna=False)"
      ]
    },
    {
      "cell_type": "code",
      "execution_count": 259,
      "metadata": {
        "id": "yOD7FPKzVFC6",
        "colab": {
          "base_uri": "https://localhost:8080/"
        },
        "outputId": "ba5bff4e-5537-4b74-c83d-3443d41030a0"
      },
      "outputs": [
        {
          "output_type": "execute_result",
          "data": {
            "text/plain": [
              "\\n1\\n                                                                                                        8101\n",
              "nan                                                                                                          6640\n",
              "\\n2\\n                                                                                                         766\n",
              "\\n0\\n                                                                                                         163\n",
              "\\n3\\n                                                                                                          17\n",
              "                                                                                                             ... \n",
              "['\\n1\\n', '\\n111 g CO2/km (comb)\\n']                                                                            1\n",
              "['\\n1\\n', '\\nEuro 6\\n']                                                                                         1\n",
              "['\\n2\\n', '\\n119 g CO2/km (comb)\\n']                                                                            1\n",
              "['\\n1\\n', '\\n', '6.6 l/100 km (comb)', '\\n', '8.1 l/100 km (city)', '\\n', '5.7 l/100 km (country)', '\\n']       1\n",
              "['\\n2\\n', '\\n137 g CO2/km (comb)\\n']                                                                            1\n",
              "Name: Previous_Owners, Length: 103, dtype: int64"
            ]
          },
          "metadata": {},
          "execution_count": 259
        }
      ],
      "source": [
        "df[\"Previous_Owners\"].astype('str').value_counts(dropna=False)"
      ]
    },
    {
      "cell_type": "code",
      "execution_count": 260,
      "metadata": {
        "id": "1mnI_GD9VFHd",
        "colab": {
          "base_uri": "https://localhost:8080/"
        },
        "outputId": "fa13002c-a0bf-41ff-e8f7-606d14db7760"
      },
      "outputs": [
        {
          "output_type": "execute_result",
          "data": {
            "text/plain": [
              "0        \\n2\\n\n",
              "1          NaN\n",
              "2        \\n1\\n\n",
              "3        \\n1\\n\n",
              "4        \\n1\\n\n",
              "         ...  \n",
              "15914      NaN\n",
              "15915    \\n1\\n\n",
              "15916    \\n1\\n\n",
              "15917      NaN\n",
              "15918    \\n1\\n\n",
              "Name: Previous_Owners, Length: 15919, dtype: object"
            ]
          },
          "metadata": {},
          "execution_count": 260
        }
      ],
      "source": [
        "df[\"Previous_Owners\"] = [item[0] if type(item) == list else item for item in df[\"Previous_Owners\"]]\n",
        "df[\"Previous_Owners\"]"
      ]
    },
    {
      "cell_type": "code",
      "execution_count": 261,
      "metadata": {
        "id": "eiFhmYsVVFLU",
        "colab": {
          "base_uri": "https://localhost:8080/"
        },
        "outputId": "61681a48-f9c5-4914-942d-bbbadd62cc5b"
      },
      "outputs": [
        {
          "output_type": "execute_result",
          "data": {
            "text/plain": [
              "0        \\n2\\n\n",
              "1          NaN\n",
              "2        \\n1\\n\n",
              "3        \\n1\\n\n",
              "4        \\n1\\n\n",
              "         ...  \n",
              "15914      NaN\n",
              "15915    \\n1\\n\n",
              "15916    \\n1\\n\n",
              "15917      NaN\n",
              "15918    \\n1\\n\n",
              "Name: Previous_Owners2, Length: 15919, dtype: object"
            ]
          },
          "metadata": {},
          "execution_count": 261
        }
      ],
      "source": [
        "df[\"Previous_Owners2\"] = df[\"Previous_Owners\"].apply(lambda item: item[0] if type(item) == list else item)\n",
        "df[\"Previous_Owners2\"]"
      ]
    },
    {
      "cell_type": "code",
      "execution_count": 262,
      "metadata": {
        "id": "hW9cLnrlVFPG"
      },
      "outputs": [],
      "source": [
        "df[\"Previous_Owners\"] = df[\"Previous_Owners\"].str.strip(\"\\n\").astype('float')"
      ]
    },
    {
      "cell_type": "code",
      "execution_count": 263,
      "metadata": {
        "id": "XmsmoOB_VXe2",
        "colab": {
          "base_uri": "https://localhost:8080/"
        },
        "outputId": "62d5fe24-23a1-43b0-c258-a3e0b87891b5"
      },
      "outputs": [
        {
          "output_type": "execute_result",
          "data": {
            "text/plain": [
              "1.00    8294\n",
              "NaN     6640\n",
              "2.00     778\n",
              "0.00     188\n",
              "3.00      17\n",
              "4.00       2\n",
              "Name: Previous_Owners, dtype: int64"
            ]
          },
          "metadata": {},
          "execution_count": 263
        }
      ],
      "source": [
        "df[\"Previous_Owners\"].value_counts(dropna=False)"
      ]
    },
    {
      "cell_type": "code",
      "execution_count": 264,
      "metadata": {
        "id": "3KljqJobVXi4"
      },
      "outputs": [],
      "source": [
        "df[\"prev_owner\"] = df[\"prev_owner\"].str.extract(\"(\\d*)\").astype('float')"
      ]
    },
    {
      "cell_type": "code",
      "execution_count": 265,
      "metadata": {
        "id": "hJxmtYKlVXnX",
        "colab": {
          "base_uri": "https://localhost:8080/"
        },
        "outputId": "272ce465-5b9f-44f8-f309-fa5bda65359a"
      },
      "outputs": [
        {
          "output_type": "execute_result",
          "data": {
            "text/plain": [
              "1.00    8294\n",
              "NaN     6828\n",
              "2.00     778\n",
              "3.00      17\n",
              "4.00       2\n",
              "Name: prev_owner, dtype: int64"
            ]
          },
          "metadata": {},
          "execution_count": 265
        }
      ],
      "source": [
        "df[\"prev_owner\"].value_counts(dropna=False)"
      ]
    },
    {
      "cell_type": "code",
      "execution_count": 266,
      "metadata": {
        "id": "rXosVYutVXsi"
      },
      "outputs": [],
      "source": [
        "df[\"Previous_Owners\"].fillna(df[\"prev_owner\"], inplace=True) "
      ]
    },
    {
      "cell_type": "code",
      "execution_count": 267,
      "metadata": {
        "id": "BplSx9KLVXwB",
        "colab": {
          "base_uri": "https://localhost:8080/"
        },
        "outputId": "0da2c410-684e-49c1-c81e-1ce47e5caa35"
      },
      "outputs": [
        {
          "output_type": "execute_result",
          "data": {
            "text/plain": [
              "1.00    8294\n",
              "NaN     6640\n",
              "2.00     778\n",
              "0.00     188\n",
              "3.00      17\n",
              "4.00       2\n",
              "Name: Previous_Owners, dtype: int64"
            ]
          },
          "metadata": {},
          "execution_count": 267
        }
      ],
      "source": [
        "df[\"Previous_Owners\"].value_counts(dropna=False)"
      ]
    },
    {
      "cell_type": "code",
      "execution_count": 268,
      "metadata": {
        "id": "QE0yXzWSVFTh",
        "colab": {
          "base_uri": "https://localhost:8080/",
          "height": 131
        },
        "outputId": "131824f0-f56d-4690-932b-674324ceb9de"
      },
      "outputs": [
        {
          "output_type": "execute_result",
          "data": {
            "text/plain": [
              "Empty DataFrame\n",
              "Columns: [make_model, body_type, price, vat, km, prev_owner, hp, Type, Previous_Owners, Next_Inspection, Inspection_new, Warranty, Full-Service, Non_smoking_Vehicle, Offer_Number, Body_Color, Paint_Type, Body_Color_Original, Upholstery, Nr._of_Doors, Nr._of_Seats, Model_Code, Gearing_Type, Displacement, Cylinders, Weight, Drive_chain, Fuel, Consumption, CO2_Emission, Emission_Class, Comfort_Convenience, Entertainment_Media, Extras, Safety_Security, description, Emission_Label, Gears, Country_version, age, Previous_Owners2]\n",
              "Index: []"
            ],
            "text/html": [
              "\n",
              "  <div id=\"df-9d252957-4905-40b4-9014-a65c06352d4d\">\n",
              "    <div class=\"colab-df-container\">\n",
              "      <div>\n",
              "<style scoped>\n",
              "    .dataframe tbody tr th:only-of-type {\n",
              "        vertical-align: middle;\n",
              "    }\n",
              "\n",
              "    .dataframe tbody tr th {\n",
              "        vertical-align: top;\n",
              "    }\n",
              "\n",
              "    .dataframe thead th {\n",
              "        text-align: right;\n",
              "    }\n",
              "</style>\n",
              "<table border=\"1\" class=\"dataframe\">\n",
              "  <thead>\n",
              "    <tr style=\"text-align: right;\">\n",
              "      <th></th>\n",
              "      <th>make_model</th>\n",
              "      <th>body_type</th>\n",
              "      <th>price</th>\n",
              "      <th>vat</th>\n",
              "      <th>km</th>\n",
              "      <th>prev_owner</th>\n",
              "      <th>hp</th>\n",
              "      <th>Type</th>\n",
              "      <th>Previous_Owners</th>\n",
              "      <th>Next_Inspection</th>\n",
              "      <th>Inspection_new</th>\n",
              "      <th>Warranty</th>\n",
              "      <th>Full-Service</th>\n",
              "      <th>Non_smoking_Vehicle</th>\n",
              "      <th>Offer_Number</th>\n",
              "      <th>Body_Color</th>\n",
              "      <th>Paint_Type</th>\n",
              "      <th>Body_Color_Original</th>\n",
              "      <th>Upholstery</th>\n",
              "      <th>Nr._of_Doors</th>\n",
              "      <th>Nr._of_Seats</th>\n",
              "      <th>Model_Code</th>\n",
              "      <th>Gearing_Type</th>\n",
              "      <th>Displacement</th>\n",
              "      <th>Cylinders</th>\n",
              "      <th>Weight</th>\n",
              "      <th>Drive_chain</th>\n",
              "      <th>Fuel</th>\n",
              "      <th>Consumption</th>\n",
              "      <th>CO2_Emission</th>\n",
              "      <th>Emission_Class</th>\n",
              "      <th>Comfort_Convenience</th>\n",
              "      <th>Entertainment_Media</th>\n",
              "      <th>Extras</th>\n",
              "      <th>Safety_Security</th>\n",
              "      <th>description</th>\n",
              "      <th>Emission_Label</th>\n",
              "      <th>Gears</th>\n",
              "      <th>Country_version</th>\n",
              "      <th>age</th>\n",
              "      <th>Previous_Owners2</th>\n",
              "    </tr>\n",
              "  </thead>\n",
              "  <tbody>\n",
              "  </tbody>\n",
              "</table>\n",
              "</div>\n",
              "      <button class=\"colab-df-convert\" onclick=\"convertToInteractive('df-9d252957-4905-40b4-9014-a65c06352d4d')\"\n",
              "              title=\"Convert this dataframe to an interactive table.\"\n",
              "              style=\"display:none;\">\n",
              "        \n",
              "  <svg xmlns=\"http://www.w3.org/2000/svg\" height=\"24px\"viewBox=\"0 0 24 24\"\n",
              "       width=\"24px\">\n",
              "    <path d=\"M0 0h24v24H0V0z\" fill=\"none\"/>\n",
              "    <path d=\"M18.56 5.44l.94 2.06.94-2.06 2.06-.94-2.06-.94-.94-2.06-.94 2.06-2.06.94zm-11 1L8.5 8.5l.94-2.06 2.06-.94-2.06-.94L8.5 2.5l-.94 2.06-2.06.94zm10 10l.94 2.06.94-2.06 2.06-.94-2.06-.94-.94-2.06-.94 2.06-2.06.94z\"/><path d=\"M17.41 7.96l-1.37-1.37c-.4-.4-.92-.59-1.43-.59-.52 0-1.04.2-1.43.59L10.3 9.45l-7.72 7.72c-.78.78-.78 2.05 0 2.83L4 21.41c.39.39.9.59 1.41.59.51 0 1.02-.2 1.41-.59l7.78-7.78 2.81-2.81c.8-.78.8-2.07 0-2.86zM5.41 20L4 18.59l7.72-7.72 1.47 1.35L5.41 20z\"/>\n",
              "  </svg>\n",
              "      </button>\n",
              "      \n",
              "  <style>\n",
              "    .colab-df-container {\n",
              "      display:flex;\n",
              "      flex-wrap:wrap;\n",
              "      gap: 12px;\n",
              "    }\n",
              "\n",
              "    .colab-df-convert {\n",
              "      background-color: #E8F0FE;\n",
              "      border: none;\n",
              "      border-radius: 50%;\n",
              "      cursor: pointer;\n",
              "      display: none;\n",
              "      fill: #1967D2;\n",
              "      height: 32px;\n",
              "      padding: 0 0 0 0;\n",
              "      width: 32px;\n",
              "    }\n",
              "\n",
              "    .colab-df-convert:hover {\n",
              "      background-color: #E2EBFA;\n",
              "      box-shadow: 0px 1px 2px rgba(60, 64, 67, 0.3), 0px 1px 3px 1px rgba(60, 64, 67, 0.15);\n",
              "      fill: #174EA6;\n",
              "    }\n",
              "\n",
              "    [theme=dark] .colab-df-convert {\n",
              "      background-color: #3B4455;\n",
              "      fill: #D2E3FC;\n",
              "    }\n",
              "\n",
              "    [theme=dark] .colab-df-convert:hover {\n",
              "      background-color: #434B5C;\n",
              "      box-shadow: 0px 1px 3px 1px rgba(0, 0, 0, 0.15);\n",
              "      filter: drop-shadow(0px 1px 2px rgba(0, 0, 0, 0.3));\n",
              "      fill: #FFFFFF;\n",
              "    }\n",
              "  </style>\n",
              "\n",
              "      <script>\n",
              "        const buttonEl =\n",
              "          document.querySelector('#df-9d252957-4905-40b4-9014-a65c06352d4d button.colab-df-convert');\n",
              "        buttonEl.style.display =\n",
              "          google.colab.kernel.accessAllowed ? 'block' : 'none';\n",
              "\n",
              "        async function convertToInteractive(key) {\n",
              "          const element = document.querySelector('#df-9d252957-4905-40b4-9014-a65c06352d4d');\n",
              "          const dataTable =\n",
              "            await google.colab.kernel.invokeFunction('convertToInteractive',\n",
              "                                                     [key], {});\n",
              "          if (!dataTable) return;\n",
              "\n",
              "          const docLinkHtml = 'Like what you see? Visit the ' +\n",
              "            '<a target=\"_blank\" href=https://colab.research.google.com/notebooks/data_table.ipynb>data table notebook</a>'\n",
              "            + ' to learn more about interactive tables.';\n",
              "          element.innerHTML = '';\n",
              "          dataTable['output_type'] = 'display_data';\n",
              "          await google.colab.output.renderOutput(dataTable, element);\n",
              "          const docLink = document.createElement('div');\n",
              "          docLink.innerHTML = docLinkHtml;\n",
              "          element.appendChild(docLink);\n",
              "        }\n",
              "      </script>\n",
              "    </div>\n",
              "  </div>\n",
              "  "
            ]
          },
          "metadata": {},
          "execution_count": 268
        }
      ],
      "source": [
        "df[(df[\"Previous_Owners\"].isna()) & (df[\"prev_owner\"].notna())]#.value_counts()"
      ]
    },
    {
      "cell_type": "code",
      "execution_count": 269,
      "metadata": {
        "id": "_OfZBHTqVsfd"
      },
      "outputs": [],
      "source": [
        "df.drop([\"prev_owner\", \"Previous_Owners\", \"Previous_Owners2\"], axis=1, inplace=True)"
      ]
    },
    {
      "cell_type": "code",
      "execution_count": 270,
      "metadata": {
        "id": "M_9nXEfSVsjd",
        "colab": {
          "base_uri": "https://localhost:8080/"
        },
        "outputId": "c4732c28-bc79-4678-945b-64756f4ffb46"
      },
      "outputs": [
        {
          "output_type": "execute_result",
          "data": {
            "text/plain": [
              "85 kW     2542\n",
              "66 kW     2122\n",
              "81 kW     1402\n",
              "100 kW    1308\n",
              "110 kW    1112\n",
              "70 kW      888\n",
              "125 kW     707\n",
              "51 kW      695\n",
              "55 kW      569\n",
              "118 kW     516\n",
              "92 kW      466\n",
              "121 kW     392\n",
              "147 kW     380\n",
              "77 kW      345\n",
              "56 kW      286\n",
              "54 kW      276\n",
              "103 kW     253\n",
              "87 kW      232\n",
              "165 kW     194\n",
              "88 kW      177\n",
              "60 kW      160\n",
              "162 kW      98\n",
              "- kW        88\n",
              "74 kW       81\n",
              "96 kW       72\n",
              "71 kW       59\n",
              "101 kW      47\n",
              "67 kW       40\n",
              "154 kW      39\n",
              "122 kW      35\n",
              "119 kW      30\n",
              "164 kW      27\n",
              "135 kW      24\n",
              "82 kW       22\n",
              "52 kW       22\n",
              "78 kW       20\n",
              "1 kW        20\n",
              "294 kW      18\n",
              "146 kW      18\n",
              "141 kW      16\n",
              "57 kW       10\n",
              "104 kW       8\n",
              "120 kW       8\n",
              "191 kW       7\n",
              "112 kW       7\n",
              "155 kW       6\n",
              "117 kW       6\n",
              "184 kW       5\n",
              "90 kW        4\n",
              "76 kW        4\n",
              "65 kW        4\n",
              "149 kW       3\n",
              "80 kW        3\n",
              "168 kW       3\n",
              "98 kW        3\n",
              "93 kW        3\n",
              "228 kW       2\n",
              "270 kW       2\n",
              "53 kW        2\n",
              "140 kW       2\n",
              "86 kW        2\n",
              "167 kW       2\n",
              "127 kW       2\n",
              "89 kW        2\n",
              "143 kW       2\n",
              "63 kW        2\n",
              "40 kW        2\n",
              "150 kW       2\n",
              "163 kW       1\n",
              "115 kW       1\n",
              "132 kW       1\n",
              "75 kW        1\n",
              "4 kW         1\n",
              "137 kW       1\n",
              "123 kW       1\n",
              "133 kW       1\n",
              "84 kW        1\n",
              "195 kW       1\n",
              "44 kW        1\n",
              "239 kW       1\n",
              "9 kW         1\n",
              "Name: hp, dtype: int64"
            ]
          },
          "metadata": {},
          "execution_count": 270
        }
      ],
      "source": [
        "df.hp.value_counts(dropna=False)"
      ]
    },
    {
      "cell_type": "code",
      "execution_count": 271,
      "metadata": {
        "id": "_btD_8CGVsnp"
      },
      "outputs": [],
      "source": [
        "df[\"hp_kW\"] = df.hp.str.extract('(\\d{1,4})').astype('float')"
      ]
    },
    {
      "cell_type": "code",
      "execution_count": 272,
      "metadata": {
        "id": "ADgChFJlVsqz",
        "colab": {
          "base_uri": "https://localhost:8080/"
        },
        "outputId": "5b1816b4-eef2-4e53-be6b-786ab77feb7b"
      },
      "outputs": [
        {
          "output_type": "execute_result",
          "data": {
            "text/plain": [
              "85.00     2542\n",
              "66.00     2122\n",
              "81.00     1402\n",
              "100.00    1308\n",
              "110.00    1112\n",
              "70.00      888\n",
              "125.00     707\n",
              "51.00      695\n",
              "55.00      569\n",
              "118.00     516\n",
              "92.00      466\n",
              "121.00     392\n",
              "147.00     380\n",
              "77.00      345\n",
              "56.00      286\n",
              "54.00      276\n",
              "103.00     253\n",
              "87.00      232\n",
              "165.00     194\n",
              "88.00      177\n",
              "60.00      160\n",
              "162.00      98\n",
              "NaN         88\n",
              "74.00       81\n",
              "96.00       72\n",
              "71.00       59\n",
              "101.00      47\n",
              "67.00       40\n",
              "154.00      39\n",
              "122.00      35\n",
              "119.00      30\n",
              "164.00      27\n",
              "135.00      24\n",
              "82.00       22\n",
              "52.00       22\n",
              "78.00       20\n",
              "1.00        20\n",
              "294.00      18\n",
              "146.00      18\n",
              "141.00      16\n",
              "57.00       10\n",
              "104.00       8\n",
              "120.00       8\n",
              "191.00       7\n",
              "112.00       7\n",
              "155.00       6\n",
              "117.00       6\n",
              "184.00       5\n",
              "90.00        4\n",
              "76.00        4\n",
              "65.00        4\n",
              "149.00       3\n",
              "80.00        3\n",
              "168.00       3\n",
              "98.00        3\n",
              "93.00        3\n",
              "228.00       2\n",
              "270.00       2\n",
              "53.00        2\n",
              "140.00       2\n",
              "86.00        2\n",
              "167.00       2\n",
              "127.00       2\n",
              "89.00        2\n",
              "143.00       2\n",
              "63.00        2\n",
              "40.00        2\n",
              "150.00       2\n",
              "163.00       1\n",
              "115.00       1\n",
              "132.00       1\n",
              "75.00        1\n",
              "4.00         1\n",
              "137.00       1\n",
              "123.00       1\n",
              "133.00       1\n",
              "84.00        1\n",
              "195.00       1\n",
              "44.00        1\n",
              "239.00       1\n",
              "9.00         1\n",
              "Name: hp_kW, dtype: int64"
            ]
          },
          "metadata": {},
          "execution_count": 272
        }
      ],
      "source": [
        "df.hp_kW.value_counts(dropna=False)"
      ]
    },
    {
      "cell_type": "code",
      "execution_count": 273,
      "metadata": {
        "id": "v9KneQumVsup"
      },
      "outputs": [],
      "source": [
        "df.drop('hp', axis=1, inplace=True)"
      ]
    },
    {
      "cell_type": "code",
      "execution_count": 274,
      "metadata": {
        "id": "vLjN6Z13V8OU",
        "colab": {
          "base_uri": "https://localhost:8080/"
        },
        "outputId": "786722d2-a361-41d5-9e31-e875721c23e1"
      },
      "outputs": [
        {
          "output_type": "execute_result",
          "data": {
            "text/plain": [
              "['', 'Used', '', 'Diesel (Particulate Filter)']                                                                                 3475\n",
              "['', 'Used', '', 'Diesel']                                                                                                      2516\n",
              "['', 'Used', '', 'Gasoline']                                                                                                    2367\n",
              "['', 'Used', '', 'Super 95']                                                                                                    1818\n",
              "['', 'Pre-registered', '', 'Super 95']                                                                                           500\n",
              "                                                                                                                                ... \n",
              "['', 'New', '', 'Regular/Benzine 91 / Super 95 / Super Plus 98 / Regular/Benzine E10 91 / Super Plus E10 98 / Super E10 95']       1\n",
              "['', 'Used', '', 'Super 95 / Super Plus 98 / Super E10 95 / Super Plus E10 98 (Particulate Filter)']                               1\n",
              "['', 'Demonstration', '', 'Super Plus 98']                                                                                         1\n",
              "['', 'New', '', 'Super Plus E10 98']                                                                                               1\n",
              "['', 'Demonstration', '', 'Regular/Benzine E10 91']                                                                                1\n",
              "Name: Type, Length: 170, dtype: int64"
            ]
          },
          "metadata": {},
          "execution_count": 274
        }
      ],
      "source": [
        "df.Type.astype('str').value_counts()"
      ]
    },
    {
      "cell_type": "code",
      "execution_count": 275,
      "metadata": {
        "id": "1t4J1DbrV8W4"
      },
      "outputs": [],
      "source": [
        "df[\"Type\"] = df.Type.str[1]"
      ]
    },
    {
      "cell_type": "code",
      "execution_count": 276,
      "metadata": {
        "id": "96yTaJ7ZV8aw",
        "colab": {
          "base_uri": "https://localhost:8080/"
        },
        "outputId": "0f38dfc1-0bf8-417d-e540-a71d6162bd1e"
      },
      "outputs": [
        {
          "output_type": "execute_result",
          "data": {
            "text/plain": [
              "nan                                           12384\n",
              "\\n04/2022\\n                                      62\n",
              "\\n03/2021\\n                                      38\n",
              "\\n03/2022\\n                                      36\n",
              "\\n06/2021\\n                                      34\n",
              "                                              ...  \n",
              "['\\n12/2018\\n', '\\n97 g CO2/km (comb)\\n']         1\n",
              "['\\n03/2022\\n', '\\n1 (No sticker)\\n']             1\n",
              "['\\n05/2021\\n', '\\n93 g CO2/km (comb)\\n']         1\n",
              "['\\n06/2021\\n', '\\n93 g CO2/km (comb)\\n']         1\n",
              "['\\n01/2022\\n', '\\n168 g CO2/km (comb)\\n']        1\n",
              "Name: Next_Inspection, Length: 1400, dtype: int64"
            ]
          },
          "metadata": {},
          "execution_count": 276
        }
      ],
      "source": [
        "df[\"Next_Inspection\"].astype('str').value_counts(dropna=False)"
      ]
    },
    {
      "cell_type": "code",
      "execution_count": 277,
      "metadata": {
        "id": "_9E4m_k6V8fe",
        "colab": {
          "base_uri": "https://localhost:8080/"
        },
        "outputId": "c32800ec-cea5-45a6-fc52-f4de99d7c677"
      },
      "outputs": [
        {
          "output_type": "execute_result",
          "data": {
            "text/plain": [
              "nan                                                                                                            11987\n",
              "['\\nYes\\n', '\\nEuro 6\\n']                                                                                        523\n",
              "\\nYes\\n                                                                                                          362\n",
              "['\\nYes\\n', '\\n102 g CO2/km (comb)\\n']                                                                           174\n",
              "['\\nYes\\n', '\\n4 (Green)\\n']                                                                                     166\n",
              "                                                                                                               ...  \n",
              "['\\nYes\\n', '\\n', '6 l/100 km (comb)', '\\n', '8 l/100 km (city)', '\\n', '4.9 l/100 km (country)', '\\n']            1\n",
              "['\\nYes\\n', '\\n', '6.8 l/100 km (comb)', '\\n', '8.5 l/100 km (city)', '\\n', '6.1 l/100 km (country)', '\\n']        1\n",
              "['\\nYes\\n', '\\n', '4.1 l/100 km (comb)', '\\n', '7.5 l/100 km (city)', '\\n', '5.2 l/100 km (country)', '\\n']        1\n",
              "['\\nYes\\n', '\\n', '5.2 l/100 km (comb)', '\\n', '6.8 l/100 km (city)', '\\n', '4.3 l/100 km (country)', '\\n']        1\n",
              "['\\nYes\\n', '\\n172 g CO2/km (comb)\\n']                                                                             1\n",
              "Name: Inspection_new, Length: 203, dtype: int64"
            ]
          },
          "metadata": {},
          "execution_count": 277
        }
      ],
      "source": [
        "df[\"Inspection_new\"].astype('str').value_counts(dropna=False)"
      ]
    },
    {
      "cell_type": "code",
      "execution_count": 278,
      "metadata": {
        "id": "-e0ABN2OWLcH"
      },
      "outputs": [],
      "source": [
        "df[\"Inspection_new\"] = [item[0] if type(item) == list else item for item in df[\"Inspection_new\"]]\n",
        "\n",
        "df[\"Inspection_new\"] = df[\"Inspection_new\"].str.strip(\"\\n\")"
      ]
    },
    {
      "cell_type": "code",
      "execution_count": 279,
      "metadata": {
        "id": "PAfQuJCOWLp-",
        "colab": {
          "base_uri": "https://localhost:8080/"
        },
        "outputId": "023181ac-63f4-4243-97e9-c88fee74a514"
      },
      "outputs": [
        {
          "output_type": "execute_result",
          "data": {
            "text/plain": [
              "NaN    11987\n",
              "Yes     3932\n",
              "Name: Inspection_new, dtype: int64"
            ]
          },
          "metadata": {},
          "execution_count": 279
        }
      ],
      "source": [
        "df[\"Inspection_new\"].value_counts(dropna=False)"
      ]
    },
    {
      "cell_type": "code",
      "execution_count": 280,
      "metadata": {
        "id": "mza9k1ZCWL2V"
      },
      "outputs": [],
      "source": [
        "df.drop([\"Next_Inspection\", \"Inspection_new\"], axis=1, inplace=True)"
      ]
    },
    {
      "cell_type": "code",
      "execution_count": 281,
      "metadata": {
        "id": "7s0g8hfRWL92",
        "colab": {
          "base_uri": "https://localhost:8080/"
        },
        "outputId": "f02be64e-1a1f-49da-a4f2-96d0997fd150"
      },
      "outputs": [
        {
          "output_type": "execute_result",
          "data": {
            "text/plain": [
              "nan                                                                                                                5420\n",
              "['\\n', '\\n', '\\nEuro 6\\n']                                                                                         1868\n",
              "\\n12 months\\n                                                                                                      1177\n",
              "\\n                                                                                                                  979\n",
              "\\n24 months\\n                                                                                                       566\n",
              "                                                                                                                   ... \n",
              "['\\n72 months\\n', '\\n125 g CO2/km (comb)\\n']                                                                          1\n",
              "['\\n60 months\\n', '\\n14 g CO2/km (comb)\\n']                                                                           1\n",
              "['\\n24 months\\n', '\\n121 g CO2/km (comb)\\n']                                                                          1\n",
              "['\\n12 months\\n', '\\nEuro 6d\\n']                                                                                      1\n",
              "['\\n36 months\\n', '\\n', '7.4 l/100 km (comb)', '\\n', '9.6 l/100 km (city)', '\\n', '6 l/100 km (country)', '\\n']       1\n",
              "Name: Warranty, Length: 516, dtype: int64"
            ]
          },
          "metadata": {},
          "execution_count": 281
        }
      ],
      "source": [
        "df.Warranty.astype('str').value_counts(dropna=False)"
      ]
    },
    {
      "cell_type": "code",
      "execution_count": 282,
      "metadata": {
        "id": "RmfHQG1nWVsd"
      },
      "outputs": [],
      "source": [
        "df[\"Warranty\"] = df.Warranty.apply(lambda x : x[0] if type(x)==list else x)\n",
        "df[\"Warranty\"] = df.Warranty.str.strip(\"\\n\").str.extract('(\\d{1,2})').astype(\"float\")"
      ]
    },
    {
      "cell_type": "code",
      "execution_count": 283,
      "metadata": {
        "id": "Y8Bfcv8aWVv4",
        "colab": {
          "base_uri": "https://localhost:8080/"
        },
        "outputId": "8967ef4c-a638-4c47-c49c-9325ada74fc3"
      },
      "outputs": [
        {
          "output_type": "execute_result",
          "data": {
            "text/plain": [
              "NaN      11066\n",
              "12.00     2594\n",
              "24.00     1118\n",
              "60.00      401\n",
              "36.00      279\n",
              "48.00      149\n",
              "6.00       125\n",
              "72.00       59\n",
              "3.00        33\n",
              "23.00       11\n",
              "18.00       10\n",
              "20.00        7\n",
              "25.00        6\n",
              "2.00         5\n",
              "50.00        4\n",
              "26.00        4\n",
              "16.00        4\n",
              "4.00         3\n",
              "1.00         3\n",
              "19.00        3\n",
              "34.00        3\n",
              "13.00        3\n",
              "28.00        2\n",
              "22.00        2\n",
              "14.00        2\n",
              "11.00        2\n",
              "46.00        2\n",
              "21.00        2\n",
              "9.00         2\n",
              "17.00        2\n",
              "45.00        2\n",
              "33.00        1\n",
              "40.00        1\n",
              "65.00        1\n",
              "10.00        1\n",
              "15.00        1\n",
              "7.00         1\n",
              "8.00         1\n",
              "56.00        1\n",
              "49.00        1\n",
              "47.00        1\n",
              "30.00        1\n",
              "Name: Warranty, dtype: int64"
            ]
          },
          "metadata": {},
          "execution_count": 283
        }
      ],
      "source": [
        "df.Warranty.value_counts(dropna=False)"
      ]
    },
    {
      "cell_type": "code",
      "execution_count": 284,
      "metadata": {
        "id": "wdSA-n_xWV26"
      },
      "outputs": [],
      "source": [
        "df.drop('Full-Service', axis=1, inplace=True)"
      ]
    },
    {
      "cell_type": "code",
      "execution_count": 285,
      "metadata": {
        "id": "A27KvE0RWV6K",
        "colab": {
          "base_uri": "https://localhost:8080/"
        },
        "outputId": "85d0aff3-e828-48ae-e7da-f8cf5003777d"
      },
      "outputs": [
        {
          "output_type": "execute_result",
          "data": {
            "text/plain": [
              "0                       [\\n, \\n]\n",
              "1                            NaN\n",
              "2                            NaN\n",
              "3           [\\n, \\n, \\nEuro 6\\n]\n",
              "4                       [\\n, \\n]\n",
              "                  ...           \n",
              "15914                        NaN\n",
              "15915    [\\n, \\n, \\n4 (Green)\\n]\n",
              "15916                   [\\n, \\n]\n",
              "15917                        NaN\n",
              "15918                        NaN\n",
              "Name: Non_smoking_Vehicle, Length: 15919, dtype: object"
            ]
          },
          "metadata": {},
          "execution_count": 285
        }
      ],
      "source": [
        "df['Non_smoking_Vehicle']"
      ]
    },
    {
      "cell_type": "code",
      "execution_count": 286,
      "metadata": {
        "id": "-A1c0c-7WV9N",
        "colab": {
          "base_uri": "https://localhost:8080/"
        },
        "outputId": "ae6c265b-5f89-40fe-ee60-64d3e63d0601"
      },
      "outputs": [
        {
          "output_type": "execute_result",
          "data": {
            "text/plain": [
              "nan                                                                                                             8742\n",
              "['\\n', '\\n']                                                                                                    3647\n",
              "['\\n', '\\n', '\\n4 (Green)\\n']                                                                                   1240\n",
              "['\\n', '\\n', '\\nEuro 6\\n']                                                                                      1127\n",
              "['\\n', '\\n', '\\nEuro 6d-TEMP\\n']                                                                                 345\n",
              "\\n                                                                                                                70\n",
              "['\\n', '\\n', '\\n120 g CO2/km (comb)\\n']                                                                           63\n",
              "['\\n', '\\n', '\\n85 g CO2/km (comb)\\n']                                                                            46\n",
              "['\\n', '\\n', '\\n104 g CO2/km (comb)\\n']                                                                           36\n",
              "['\\n', '\\n', '\\n107 g CO2/km (comb)\\n']                                                                           36\n",
              "['\\n', '\\n', '\\n153 g CO2/km (comb)\\n']                                                                           31\n",
              "['\\n', '\\n', '\\n124 g CO2/km (comb)\\n']                                                                           29\n",
              "['\\n', '\\n', '\\n1 (No sticker)\\n']                                                                                24\n",
              "['\\n', '\\n', '\\n99 g CO2/km (comb)\\n']                                                                            23\n",
              "['\\n', '\\n', '\\n106 g CO2/km (comb)\\n']                                                                           20\n",
              "['\\n', '\\n', '\\n97 g CO2/km (comb)\\n']                                                                            20\n",
              "['\\n', '\\n', '\\n108 g CO2/km (comb)\\n']                                                                           19\n",
              "['\\n', '\\n', '\\n113 g CO2/km (comb)\\n']                                                                           18\n",
              "['\\n', '\\n', '\\n100 g CO2/km (comb)\\n']                                                                           18\n",
              "['\\n', '\\n', '\\n109 g CO2/km (comb)\\n']                                                                           18\n",
              "['\\n', '\\n', '\\n105 g CO2/km (comb)\\n']                                                                           18\n",
              "['\\n', '\\n', '\\nEuro 6c\\n']                                                                                       17\n",
              "['\\n', '\\n', '\\n98 g CO2/km (comb)\\n']                                                                            15\n",
              "['\\n', '\\n', '\\n129 g CO2/km (comb)\\n']                                                                           14\n",
              "['\\n', '\\n', '\\n131 g CO2/km (comb)\\n']                                                                           13\n",
              "['\\n', '\\n', '\\n133 g CO2/km (comb)\\n']                                                                           12\n",
              "['\\n', '\\n', '\\n103 g CO2/km (comb)\\n']                                                                           12\n",
              "['\\n', '\\n', '\\n114 g CO2/km (comb)\\n']                                                                           12\n",
              "['\\n', '\\n', '\\n116 g CO2/km (comb)\\n']                                                                           11\n",
              "['\\n', '\\n', '\\n135 g CO2/km (comb)\\n']                                                                           11\n",
              "['\\n', '\\n', '\\n102 g CO2/km (comb)\\n']                                                                           11\n",
              "['\\n', '\\n', '\\n127 g CO2/km (comb)\\n']                                                                           10\n",
              "['\\n', '\\n', '\\n143 g CO2/km (comb)\\n']                                                                           10\n",
              "['\\n', '\\n', '\\n92 g CO2/km (comb)\\n']                                                                             9\n",
              "['\\n', '\\n', '\\nEuro 6d\\n']                                                                                        9\n",
              "['\\n', '\\n', '\\n112 g CO2/km (comb)\\n']                                                                            9\n",
              "['\\n', '\\n', '\\n5 (Blue)\\n']                                                                                       8\n",
              "['\\n', '\\n', '\\n118 g CO2/km (comb)\\n']                                                                            8\n",
              "['\\n', '\\n', '\\n139 g CO2/km (comb)\\n']                                                                            7\n",
              "['\\n', '\\n', '\\n128 g CO2/km (comb)\\n']                                                                            7\n",
              "['\\n', '\\n', '\\n147 g CO2/km (comb)\\n']                                                                            7\n",
              "['\\n', '\\n', '\\n126 g CO2/km (comb)\\n']                                                                            6\n",
              "['\\n', '\\n', '\\n137 g CO2/km (comb)\\n']                                                                            6\n",
              "['\\n', '\\n', '\\n117 g CO2/km (comb)\\n']                                                                            6\n",
              "['\\n', '\\n', '\\n140 g CO2/km (comb)\\n']                                                                            6\n",
              "['\\n', '\\n', '\\n130 g CO2/km (comb)\\n']                                                                            5\n",
              "['\\n', '\\n', '\\n115 g CO2/km (comb)\\n']                                                                            5\n",
              "['\\n', '\\n', '\\nEuro 5\\n']                                                                                         4\n",
              "['\\n', '\\n', '\\n', '5.2 l/100 km (comb)', '\\n', '5.8 l/100 km (city)', '\\n', '4.8 l/100 km (country)', '\\n']       4\n",
              "['\\n', '\\n', '\\n123 g CO2/km (comb)\\n']                                                                            4\n",
              "['\\n', '\\n', '\\n151 g CO2/km (comb)\\n']                                                                            4\n",
              "['\\n', '\\n', '\\n95 g CO2/km (comb)\\n']                                                                             3\n",
              "['\\n', '\\n', '\\n119 g CO2/km (comb)\\n']                                                                            3\n",
              "['\\n', '\\n', '\\n148 g CO2/km (comb)\\n']                                                                            3\n",
              "['\\n', '\\n', '\\n157 g CO2/km (comb)\\n']                                                                            3\n",
              "['\\n', '\\n', '\\n136 g CO2/km (comb)\\n']                                                                            3\n",
              "['\\n', '\\n', '\\n110 g CO2/km (comb)\\n']                                                                            3\n",
              "['\\n', '\\n', '\\n149 g CO2/km (comb)\\n']                                                                            3\n",
              "['\\n', '\\n', '\\n138 g CO2/km (comb)\\n']                                                                            2\n",
              "['\\n', '\\n', '\\n125 g CO2/km (comb)\\n']                                                                            2\n",
              "['\\n', '\\n', '\\n', '5.2 l/100 km (comb)', '\\n', '6.4 l/100 km (city)', '\\n', '4.4 l/100 km (country)', '\\n']       2\n",
              "['\\n', '\\n', '\\n166 g CO2/km (comb)\\n']                                                                            2\n",
              "['\\n', '\\n', '\\n121 g CO2/km (comb)\\n']                                                                            2\n",
              "['\\n', '\\n', '\\n142 g CO2/km (comb)\\n']                                                                            2\n",
              "['\\n', '\\n', '\\n90 g CO2/km (comb)\\n']                                                                             2\n",
              "['\\n', '\\n', '\\n111 g CO2/km (comb)\\n']                                                                            2\n",
              "['\\n', '\\n', '\\n134 g CO2/km (comb)\\n']                                                                            2\n",
              "['\\n', '\\n', '\\n', '6.5 l/100 km (comb)', '\\n', '8.5 l/100 km (city)', '\\n', '5.4 l/100 km (country)', '\\n']       1\n",
              "['\\n', '\\n', '\\n', '6.4 l/100 km (comb)', '\\n', '8.1 l/100 km (city)', '\\n', '5.4 l/100 km (country)', '\\n']       1\n",
              "['\\n', '\\n', '\\n161 g CO2/km (comb)\\n']                                                                            1\n",
              "['\\n', '\\n', '\\n172 g CO2/km (comb)\\n']                                                                            1\n",
              "['\\n', '\\n', '\\n189 g CO2/km (comb)\\n']                                                                            1\n",
              "['\\n', '\\n', '\\n82 g CO2/km (comb)\\n']                                                                             1\n",
              "['\\n', '\\n', '\\n154 g CO2/km (comb)\\n']                                                                            1\n",
              "['\\n', '\\n', '\\n', '6.5 l/100 km (comb)', '\\n', '7.9 l/100 km (city)', '\\n', '5.6 l/100 km (country)', '\\n']       1\n",
              "['\\n', '\\n', '\\n', '6.3 l/100 km (comb)', '\\n', '8 l/100 km (city)', '\\n', '5.3 l/100 km (country)', '\\n']         1\n",
              "['\\n', '\\n', '\\n146 g CO2/km (comb)\\n']                                                                            1\n",
              "['\\n', '\\n', '\\n', '5.7 l/100 km (comb)', '\\n', '7.3 l/100 km (city)', '\\n', '4.7 l/100 km (country)', '\\n']       1\n",
              "['\\n', '\\n', '\\n', '6.1 l/100 km (comb)', '\\n', '7.7 l/100 km (city)', '\\n', '5.2 l/100 km (country)', '\\n']       1\n",
              "['\\n', '\\n', '\\n156 g CO2/km (comb)\\n']                                                                            1\n",
              "['\\n', '\\n', '\\n', '6.1 l/100 km (comb)', '\\n', '7.8 l/100 km (city)', '\\n', '5.1 l/100 km (country)', '\\n']       1\n",
              "['\\n', '\\n', '\\n', '6.2 l/100 km (comb)', '\\n', '7.9 l/100 km (city)', '\\n', '5.3 l/100 km (country)', '\\n']       1\n",
              "['\\n', '\\n', '\\n152 g CO2/km (comb)\\n']                                                                            1\n",
              "['\\n', '\\n', '\\n144 g CO2/km (comb)\\n']                                                                            1\n",
              "['\\n', '\\n', '\\n132 g CO2/km (comb)\\n']                                                                            1\n",
              "['\\n', '\\n', '\\n', '1.6 l/100 km (comb)', '\\n', '\\n', '\\n']                                                        1\n",
              "['\\n', '\\n', '\\n169 g CO2/km (comb)\\n']                                                                            1\n",
              "['\\n', '\\n', '\\n101 g CO2/km (comb)\\n']                                                                            1\n",
              "['\\n', '\\n', '\\n159 g CO2/km (comb)\\n']                                                                            1\n",
              "['\\n', '\\n', '\\n91 g CO2/km (comb)\\n']                                                                             1\n",
              "['\\n', '\\n', '\\n', '5.6 l/100 km (comb)', '\\n', '7.3 l/100 km (city)', '\\n', '4.7 l/100 km (country)', '\\n']       1\n",
              "['\\n', '\\n', '\\n122 g CO2/km (comb)\\n']                                                                            1\n",
              "['\\n', '\\n', '\\n158 g CO2/km (comb)\\n']                                                                            1\n",
              "['\\n', '\\n', '\\n150 g CO2/km (comb)\\n']                                                                            1\n",
              "['\\n', '\\n', '\\n175 g CO2/km (comb)\\n']                                                                            1\n",
              "Name: Non_smoking_Vehicle, dtype: int64"
            ]
          },
          "metadata": {},
          "execution_count": 286
        }
      ],
      "source": [
        "df['Non_smoking_Vehicle'].astype('str').value_counts(dropna=False)"
      ]
    },
    {
      "cell_type": "code",
      "execution_count": 287,
      "metadata": {
        "id": "KTQhEdF8WWAY"
      },
      "outputs": [],
      "source": [
        "df.drop(\"Non_smoking_Vehicle\", axis=1, inplace=True)"
      ]
    },
    {
      "cell_type": "code",
      "execution_count": 288,
      "metadata": {
        "id": "Ilct5f9OWWDL",
        "colab": {
          "base_uri": "https://localhost:8080/"
        },
        "outputId": "510bac55-0953-401a-9a0a-33f4e0f98766"
      },
      "outputs": [
        {
          "output_type": "execute_result",
          "data": {
            "text/plain": [
              "nan                                                 3175\n",
              "['\\nLT67679\\n']                                       27\n",
              "['\\nUN89904\\n']                                       27\n",
              "['\\nXJ38068\\n']                                       27\n",
              "['\\nJV03654\\n']                                       27\n",
              "                                                    ... \n",
              "['\\n160_dcbb6c3e-a6da-43a3-8754-ccd994cec93b\\n']       1\n",
              "['\\n6701576\\n']                                        1\n",
              "['\\n6701569\\n']                                        1\n",
              "['\\n158121\\n']                                         1\n",
              "['\\nRe_30000008029\\n']                                 1\n",
              "Name: Offer_Number, Length: 11441, dtype: int64"
            ]
          },
          "metadata": {},
          "execution_count": 288
        }
      ],
      "source": [
        "df['Offer_Number'].astype('str').value_counts(dropna=False)"
      ]
    },
    {
      "cell_type": "code",
      "execution_count": 289,
      "metadata": {
        "id": "uEqMVyLWWWGI"
      },
      "outputs": [],
      "source": [
        "df.drop(\"Offer_Number\", axis=1, inplace=True)"
      ]
    },
    {
      "cell_type": "code",
      "execution_count": 290,
      "metadata": {
        "id": "JPc7v-sPXMLu",
        "colab": {
          "base_uri": "https://localhost:8080/"
        },
        "outputId": "c189343d-c41b-4f7b-9704-14754defe824"
      },
      "outputs": [
        {
          "output_type": "execute_result",
          "data": {
            "text/plain": [
              "['\\n', 'Black', '\\n']     3745\n",
              "['\\n', 'Grey', '\\n']      3505\n",
              "['\\n', 'White', '\\n']     3406\n",
              "['\\n', 'Silver', '\\n']    1647\n",
              "['\\n', 'Blue', '\\n']      1431\n",
              "['\\n', 'Red', '\\n']        957\n",
              "nan                        597\n",
              "['\\n', 'Brown', '\\n']      289\n",
              "['\\n', 'Green', '\\n']      154\n",
              "['\\n', 'Beige', '\\n']      108\n",
              "['\\n', 'Yellow', '\\n']      51\n",
              "['\\n', 'Violet', '\\n']      18\n",
              "['\\n', 'Bronze', '\\n']       6\n",
              "['\\n', 'Orange', '\\n']       3\n",
              "['\\n', 'Gold', '\\n']         2\n",
              "Name: Body_Color, dtype: int64"
            ]
          },
          "metadata": {},
          "execution_count": 290
        }
      ],
      "source": [
        "df['Body_Color'].astype('str').value_counts(dropna=False)"
      ]
    },
    {
      "cell_type": "code",
      "execution_count": 291,
      "metadata": {
        "id": "VLzLGOn7XMPw"
      },
      "outputs": [],
      "source": [
        "df.drop(\"Body_Color\", axis=1, inplace=True)"
      ]
    },
    {
      "cell_type": "code",
      "execution_count": 292,
      "metadata": {
        "id": "mUTcKEANXMT8",
        "colab": {
          "base_uri": "https://localhost:8080/"
        },
        "outputId": "01a80678-5215-4267-cf0b-ce94fd9befab"
      },
      "outputs": [
        {
          "output_type": "execute_result",
          "data": {
            "text/plain": [
              "0                 [\\nMythosschwarz\\n]\n",
              "1                                 NaN\n",
              "2        [\\nmythosschwarz metallic\\n]\n",
              "3                                 NaN\n",
              "4        [\\nMythosschwarz Metallic\\n]\n",
              "                     ...             \n",
              "15914              [\\nGrigio scuro\\n]\n",
              "15915       [\\nStahl-Grau Metallic\\n]\n",
              "15916               [\\narktis-weiß\\n]\n",
              "15917                    [\\nGrigio\\n]\n",
              "15918    [\\nTitanium-Grau Metallic\\n]\n",
              "Name: Body_Color_Original, Length: 15919, dtype: object"
            ]
          },
          "metadata": {},
          "execution_count": 292
        }
      ],
      "source": [
        "df['Body_Color_Original']"
      ]
    },
    {
      "cell_type": "code",
      "execution_count": 293,
      "metadata": {
        "id": "xxD9ayKQXMXE",
        "colab": {
          "base_uri": "https://localhost:8080/"
        },
        "outputId": "e504f17e-91b2-4b7a-d9a4-2780d2a92f1d"
      },
      "outputs": [
        {
          "output_type": "execute_result",
          "data": {
            "text/plain": [
              "nan                                      3759\n",
              "['\\nOnyx Schwarz\\n']                      338\n",
              "['\\nBianco\\n']                            282\n",
              "['\\nMythosschwarz Metallic\\n']            238\n",
              "['\\nBrillantschwarz\\n']                   216\n",
              "                                         ... \n",
              "['\\nRouge-Braun (G0Y)\\n']                   1\n",
              "['\\nVARI COLRI DISPONIBILI\\n']              1\n",
              "['\\nKokosnussbraun Metallic\\n']             1\n",
              "['\\nFarbe frei wählbar\\n']                  1\n",
              "['\\nPerlmutt-Weiß Metallic (Weiß)\\n']       1\n",
              "Name: Body_Color_Original, Length: 1928, dtype: int64"
            ]
          },
          "metadata": {},
          "execution_count": 293
        }
      ],
      "source": [
        "df['Body_Color_Original'].astype('str').value_counts(dropna=False)"
      ]
    },
    {
      "cell_type": "code",
      "execution_count": 294,
      "metadata": {
        "id": "uMeyzkHaXMal"
      },
      "outputs": [],
      "source": [
        "df.drop(\"Body_Color_Original\", axis=1, inplace=True)"
      ]
    },
    {
      "cell_type": "code",
      "execution_count": 295,
      "metadata": {
        "id": "FupIURhbXqwd",
        "colab": {
          "base_uri": "https://localhost:8080/"
        },
        "outputId": "01afd2dc-d1fc-45da-cec5-c8064975f1a3"
      },
      "outputs": [
        {
          "output_type": "execute_result",
          "data": {
            "text/plain": [
              "['\\nMetallic\\n']       9794\n",
              "nan                    5772\n",
              "['\\nUni/basic\\n']       347\n",
              "['\\nPerl effect\\n']       6\n",
              "Name: Paint_Type, dtype: int64"
            ]
          },
          "metadata": {},
          "execution_count": 295
        }
      ],
      "source": [
        "df['Paint_Type'].astype('str').value_counts(dropna=False)"
      ]
    },
    {
      "cell_type": "code",
      "execution_count": 296,
      "metadata": {
        "id": "W_x6_xCnXq0s"
      },
      "outputs": [],
      "source": [
        "df['Paint_Type'] = df['Paint_Type'].str[0].str.strip('\\n')"
      ]
    },
    {
      "cell_type": "code",
      "execution_count": 297,
      "metadata": {
        "id": "H52u8KJRXq5N",
        "colab": {
          "base_uri": "https://localhost:8080/"
        },
        "outputId": "70960c60-a199-4af2-b09b-de36bdb7c4f8"
      },
      "outputs": [
        {
          "output_type": "execute_result",
          "data": {
            "text/plain": [
              "Metallic       9794\n",
              "NaN            5772\n",
              "Uni/basic       347\n",
              "Perl effect       6\n",
              "Name: Paint_Type, dtype: int64"
            ]
          },
          "metadata": {},
          "execution_count": 297
        }
      ],
      "source": [
        "df['Paint_Type'].value_counts(dropna=False)"
      ]
    },
    {
      "cell_type": "code",
      "execution_count": 298,
      "metadata": {
        "id": "rG3myzzrXq9d"
      },
      "outputs": [],
      "source": [
        "df.drop(\"Paint_Type\", axis=1, inplace=True)"
      ]
    },
    {
      "cell_type": "code",
      "execution_count": 299,
      "metadata": {
        "id": "ILysVxfOXrDQ",
        "colab": {
          "base_uri": "https://localhost:8080/"
        },
        "outputId": "d5d1e7d6-b9e0-4881-fca6-9ff3474dd37e"
      },
      "outputs": [
        {
          "output_type": "execute_result",
          "data": {
            "text/plain": [
              "['\\nCloth, Black\\n']           5821\n",
              "nan                            3720\n",
              "['\\nPart leather, Black\\n']    1121\n",
              "['\\nCloth\\n']                  1005\n",
              "['\\nCloth, Grey\\n']             891\n",
              "['\\nCloth, Other\\n']            639\n",
              "['\\nFull leather, Black\\n']     575\n",
              "['\\nBlack\\n']                   491\n",
              "['\\nGrey\\n']                    273\n",
              "['\\nOther, Other\\n']            182\n",
              "['\\nPart leather\\n']            140\n",
              "['\\nFull leather\\n']            139\n",
              "['\\nFull leather, Brown\\n']     116\n",
              "['\\nPart leather, Grey\\n']      116\n",
              "['\\nOther, Black\\n']            110\n",
              "['\\nFull leather, Other\\n']      72\n",
              "['\\nFull leather, Grey\\n']       67\n",
              "['\\nPart leather, Other\\n']      65\n",
              "['\\nOther\\n']                    56\n",
              "['\\nPart leather, Brown\\n']      50\n",
              "['\\nalcantara, Black\\n']         47\n",
              "['\\nVelour, Black\\n']            36\n",
              "['\\nFull leather, Beige\\n']      36\n",
              "['\\nCloth, Brown\\n']             28\n",
              "['\\nVelour\\n']                   16\n",
              "['\\nOther, Grey\\n']              15\n",
              "['\\nCloth, Beige\\n']             13\n",
              "['\\nBrown\\n']                    12\n",
              "['\\nCloth, Blue\\n']              12\n",
              "['\\nVelour, Grey\\n']              8\n",
              "['\\nCloth, White\\n']              8\n",
              "['\\nalcantara, Grey\\n']           6\n",
              "['\\nCloth, Red\\n']                5\n",
              "['\\nOther, Yellow\\n']             4\n",
              "['\\nPart leather, Red\\n']         3\n",
              "['\\nBeige\\n']                     3\n",
              "['\\nPart leather, White\\n']       2\n",
              "['\\nFull leather, Blue\\n']        2\n",
              "['\\nalcantara, Other\\n']          2\n",
              "['\\nalcantara\\n']                 2\n",
              "['\\nWhite\\n']                     2\n",
              "['\\nPart leather, Beige\\n']       2\n",
              "['\\nBlue\\n']                      2\n",
              "['\\nCloth, Orange\\n']             1\n",
              "['\\nFull leather, Red\\n']         1\n",
              "['\\nOther, Brown\\n']              1\n",
              "['\\nFull leather, White\\n']       1\n",
              "Name: Upholstery, dtype: int64"
            ]
          },
          "metadata": {},
          "execution_count": 299
        }
      ],
      "source": [
        "df['Upholstery'].astype('str').value_counts(dropna=False)"
      ]
    },
    {
      "cell_type": "code",
      "execution_count": 300,
      "metadata": {
        "id": "P4igVTQyXMeq"
      },
      "outputs": [],
      "source": [
        "df[\"Upholstery\"] = [item[0] if type(item) == list else item for item in df.Upholstery]"
      ]
    },
    {
      "cell_type": "code",
      "execution_count": 301,
      "metadata": {
        "id": "J9zga46_YBJs",
        "colab": {
          "base_uri": "https://localhost:8080/"
        },
        "outputId": "976966e5-9d01-4314-8b56-208ef1eed6b1"
      },
      "outputs": [
        {
          "output_type": "execute_result",
          "data": {
            "text/plain": [
              "\\nCloth, Black\\n           5821\n",
              "NaN                        3720\n",
              "\\nPart leather, Black\\n    1121\n",
              "\\nCloth\\n                  1005\n",
              "\\nCloth, Grey\\n             891\n",
              "\\nCloth, Other\\n            639\n",
              "\\nFull leather, Black\\n     575\n",
              "\\nBlack\\n                   491\n",
              "\\nGrey\\n                    273\n",
              "\\nOther, Other\\n            182\n",
              "\\nPart leather\\n            140\n",
              "\\nFull leather\\n            139\n",
              "\\nFull leather, Brown\\n     116\n",
              "\\nPart leather, Grey\\n      116\n",
              "\\nOther, Black\\n            110\n",
              "\\nFull leather, Other\\n      72\n",
              "\\nFull leather, Grey\\n       67\n",
              "\\nPart leather, Other\\n      65\n",
              "\\nOther\\n                    56\n",
              "\\nPart leather, Brown\\n      50\n",
              "\\nalcantara, Black\\n         47\n",
              "\\nVelour, Black\\n            36\n",
              "\\nFull leather, Beige\\n      36\n",
              "\\nCloth, Brown\\n             28\n",
              "\\nVelour\\n                   16\n",
              "\\nOther, Grey\\n              15\n",
              "\\nCloth, Beige\\n             13\n",
              "\\nBrown\\n                    12\n",
              "\\nCloth, Blue\\n              12\n",
              "\\nVelour, Grey\\n              8\n",
              "\\nCloth, White\\n              8\n",
              "\\nalcantara, Grey\\n           6\n",
              "\\nCloth, Red\\n                5\n",
              "\\nOther, Yellow\\n             4\n",
              "\\nPart leather, Red\\n         3\n",
              "\\nBeige\\n                     3\n",
              "\\nPart leather, White\\n       2\n",
              "\\nFull leather, Blue\\n        2\n",
              "\\nalcantara, Other\\n          2\n",
              "\\nalcantara\\n                 2\n",
              "\\nWhite\\n                     2\n",
              "\\nPart leather, Beige\\n       2\n",
              "\\nBlue\\n                      2\n",
              "\\nCloth, Orange\\n             1\n",
              "\\nFull leather, Red\\n         1\n",
              "\\nOther, Brown\\n              1\n",
              "\\nFull leather, White\\n       1\n",
              "Name: Upholstery, dtype: int64"
            ]
          },
          "metadata": {},
          "execution_count": 301
        }
      ],
      "source": [
        "df[\"Upholstery\"].value_counts(dropna=False)"
      ]
    },
    {
      "cell_type": "code",
      "execution_count": 302,
      "metadata": {
        "id": "m88O1ZhIYBSC"
      },
      "outputs": [],
      "source": [
        "df[\"Upholstery\"] = df.Upholstery.str.strip(\"\\n\").str.split(\", \")"
      ]
    },
    {
      "cell_type": "code",
      "execution_count": 303,
      "metadata": {
        "id": "Md6Ya3OVYBXY",
        "colab": {
          "base_uri": "https://localhost:8080/"
        },
        "outputId": "468ed167-cf1c-4d8d-f7f2-2eba0fd7a682"
      },
      "outputs": [
        {
          "output_type": "execute_result",
          "data": {
            "text/plain": [
              "['Cloth', 'Black']           5821\n",
              "nan                          3720\n",
              "['Part leather', 'Black']    1121\n",
              "['Cloth']                    1005\n",
              "['Cloth', 'Grey']             891\n",
              "['Cloth', 'Other']            639\n",
              "['Full leather', 'Black']     575\n",
              "['Black']                     491\n",
              "['Grey']                      273\n",
              "['Other', 'Other']            182\n",
              "['Part leather']              140\n",
              "['Full leather']              139\n",
              "['Full leather', 'Brown']     116\n",
              "['Part leather', 'Grey']      116\n",
              "['Other', 'Black']            110\n",
              "['Full leather', 'Other']      72\n",
              "['Full leather', 'Grey']       67\n",
              "['Part leather', 'Other']      65\n",
              "['Other']                      56\n",
              "['Part leather', 'Brown']      50\n",
              "['alcantara', 'Black']         47\n",
              "['Velour', 'Black']            36\n",
              "['Full leather', 'Beige']      36\n",
              "['Cloth', 'Brown']             28\n",
              "['Velour']                     16\n",
              "['Other', 'Grey']              15\n",
              "['Cloth', 'Beige']             13\n",
              "['Brown']                      12\n",
              "['Cloth', 'Blue']              12\n",
              "['Velour', 'Grey']              8\n",
              "['Cloth', 'White']              8\n",
              "['alcantara', 'Grey']           6\n",
              "['Cloth', 'Red']                5\n",
              "['Other', 'Yellow']             4\n",
              "['Part leather', 'Red']         3\n",
              "['Beige']                       3\n",
              "['Part leather', 'White']       2\n",
              "['Full leather', 'Blue']        2\n",
              "['alcantara', 'Other']          2\n",
              "['alcantara']                   2\n",
              "['White']                       2\n",
              "['Part leather', 'Beige']       2\n",
              "['Blue']                        2\n",
              "['Cloth', 'Orange']             1\n",
              "['Full leather', 'Red']         1\n",
              "['Other', 'Brown']              1\n",
              "['Full leather', 'White']       1\n",
              "Name: Upholstery, dtype: int64"
            ]
          },
          "metadata": {},
          "execution_count": 303
        }
      ],
      "source": [
        "df[\"Upholstery\"].astype('str').value_counts(dropna=False)"
      ]
    },
    {
      "cell_type": "code",
      "execution_count": 304,
      "metadata": {
        "id": "vtHjkuUzYBcQ"
      },
      "outputs": [],
      "source": [
        "u_type = [\"Cloth\", 'Part leather', 'Full leather', 'Velour', 'alcantara']\n",
        "df[\"Upholstery_type\"] = df[\"Upholstery\"].apply(lambda x : x[0] if type(x) == list and x[0] in u_type else np.nan)"
      ]
    },
    {
      "cell_type": "code",
      "execution_count": 305,
      "metadata": {
        "id": "qUi23DFtYBk9",
        "colab": {
          "base_uri": "https://localhost:8080/"
        },
        "outputId": "e4eb7bbf-d3b7-40c1-b23e-06116a6ddebb"
      },
      "outputs": [
        {
          "output_type": "execute_result",
          "data": {
            "text/plain": [
              "Cloth           8423\n",
              "NaN             4871\n",
              "Part leather    1499\n",
              "Full leather    1009\n",
              "Velour            60\n",
              "alcantara         57\n",
              "Name: Upholstery_type, dtype: int64"
            ]
          },
          "metadata": {},
          "execution_count": 305
        }
      ],
      "source": [
        "df[\"Upholstery_type\"].value_counts(dropna=False)"
      ]
    },
    {
      "cell_type": "code",
      "execution_count": 306,
      "metadata": {
        "id": "LZREaeSyYfhP"
      },
      "outputs": [],
      "source": [
        "color = ['Black', 'Grey', 'Brown', 'Beige', 'White', 'Blue', 'Red', 'Yellow', 'Orange']\n",
        "\n",
        "def color_finder(x):\n",
        "    if type(x) == list and len(x) == 2:\n",
        "        return x[1]\n",
        "    elif type(x) == list and x[0] in color:\n",
        "        return x[0]\n",
        "    else:\n",
        "        return np.nan\n",
        "    \n",
        "df['Upholstery_color'] = df.Upholstery.apply(color_finder)"
      ]
    },
    {
      "cell_type": "code",
      "execution_count": 307,
      "metadata": {
        "id": "QQz8YD69YfpU",
        "colab": {
          "base_uri": "https://localhost:8080/"
        },
        "outputId": "72d4a35d-536c-4b72-f833-cc21a02414da"
      },
      "outputs": [
        {
          "output_type": "execute_result",
          "data": {
            "text/plain": [
              "Black     8201\n",
              "NaN       5078\n",
              "Grey      1376\n",
              "Other      960\n",
              "Brown      207\n",
              "Beige       54\n",
              "Blue        16\n",
              "White       13\n",
              "Red          9\n",
              "Yellow       4\n",
              "Orange       1\n",
              "Name: Upholstery_color, dtype: int64"
            ]
          },
          "metadata": {},
          "execution_count": 307
        }
      ],
      "source": [
        "df[\"Upholstery_color\"].value_counts(dropna=False)"
      ]
    },
    {
      "cell_type": "code",
      "execution_count": 308,
      "metadata": {
        "id": "nyHQE7r0Yfs0"
      },
      "outputs": [],
      "source": [
        "df.drop(\"Upholstery\", axis=1, inplace=True)"
      ]
    },
    {
      "cell_type": "code",
      "execution_count": 309,
      "metadata": {
        "id": "h6aPDWwnYfwS",
        "colab": {
          "base_uri": "https://localhost:8080/"
        },
        "outputId": "1b479aea-bc2f-43f3-a4ad-3cd740825400"
      },
      "outputs": [
        {
          "output_type": "execute_result",
          "data": {
            "text/plain": [
              "['\\n5\\n']    11575\n",
              "['\\n4\\n']     3079\n",
              "['\\n3\\n']      832\n",
              "['\\n2\\n']      219\n",
              "nan            212\n",
              "['\\n1\\n']        1\n",
              "['\\n7\\n']        1\n",
              "Name: Nr._of_Doors, dtype: int64"
            ]
          },
          "metadata": {},
          "execution_count": 309
        }
      ],
      "source": [
        "df[\"Nr._of_Doors\"].astype('str').value_counts(dropna=False)"
      ]
    },
    {
      "cell_type": "code",
      "execution_count": 310,
      "metadata": {
        "id": "rPHiz6ASYfzT"
      },
      "outputs": [],
      "source": [
        "df['Nr_of_Doors'] = df['Nr._of_Doors'].str[0].str.strip('\\n').astype('float')"
      ]
    },
    {
      "cell_type": "code",
      "execution_count": 311,
      "metadata": {
        "id": "85uCwdrRYf2e",
        "colab": {
          "base_uri": "https://localhost:8080/"
        },
        "outputId": "a82695f4-9b8e-4ea6-fd02-8047b82c42f3"
      },
      "outputs": [
        {
          "output_type": "execute_result",
          "data": {
            "text/plain": [
              "5.00    11575\n",
              "4.00     3079\n",
              "3.00      832\n",
              "2.00      219\n",
              "NaN       212\n",
              "1.00        1\n",
              "7.00        1\n",
              "Name: Nr_of_Doors, dtype: int64"
            ]
          },
          "metadata": {},
          "execution_count": 311
        }
      ],
      "source": [
        "df[\"Nr_of_Doors\"].value_counts(dropna=False)"
      ]
    },
    {
      "cell_type": "code",
      "execution_count": 312,
      "metadata": {
        "id": "Ls14Nw-MYf5H"
      },
      "outputs": [],
      "source": [
        "df.drop(\"Nr._of_Doors\", axis=1, inplace=True)"
      ]
    },
    {
      "cell_type": "code",
      "execution_count": 313,
      "metadata": {
        "id": "Jxg-_yfQYf8Y",
        "colab": {
          "base_uri": "https://localhost:8080/"
        },
        "outputId": "de27d53c-6ce0-41e6-e5fa-a7063e457615"
      },
      "outputs": [
        {
          "output_type": "execute_result",
          "data": {
            "text/plain": [
              "['\\n5\\n']    13336\n",
              "['\\n4\\n']     1125\n",
              "nan            977\n",
              "['\\n7\\n']      362\n",
              "['\\n2\\n']      116\n",
              "['\\n6\\n']        2\n",
              "['\\n3\\n']        1\n",
              "Name: Nr._of_Seats, dtype: int64"
            ]
          },
          "metadata": {},
          "execution_count": 313
        }
      ],
      "source": [
        "df[\"Nr._of_Seats\"].astype('str').value_counts(dropna=False)"
      ]
    },
    {
      "cell_type": "code",
      "source": [
        "df.info()"
      ],
      "metadata": {
        "colab": {
          "base_uri": "https://localhost:8080/"
        },
        "id": "efcL_itMjvaB",
        "outputId": "d936af94-4b42-49ce-96f2-368e58ca316a"
      },
      "execution_count": 314,
      "outputs": [
        {
          "output_type": "stream",
          "name": "stdout",
          "text": [
            "<class 'pandas.core.frame.DataFrame'>\n",
            "RangeIndex: 15919 entries, 0 to 15918\n",
            "Data columns (total 31 columns):\n",
            " #   Column               Non-Null Count  Dtype  \n",
            "---  ------               --------------  -----  \n",
            " 0   make_model           15919 non-null  object \n",
            " 1   body_type            15859 non-null  object \n",
            " 2   price                15919 non-null  int64  \n",
            " 3   vat                  11406 non-null  object \n",
            " 4   km                   14895 non-null  float64\n",
            " 5   Type                 15917 non-null  object \n",
            " 6   Warranty             4853 non-null   float64\n",
            " 7   Nr._of_Seats         14942 non-null  object \n",
            " 8   Model_Code           4978 non-null   object \n",
            " 9   Gearing_Type         15919 non-null  object \n",
            " 10  Displacement         15423 non-null  object \n",
            " 11  Cylinders            10239 non-null  object \n",
            " 12  Weight               8945 non-null   object \n",
            " 13  Drive_chain          9061 non-null   object \n",
            " 14  Fuel                 15919 non-null  object \n",
            " 15  Consumption          14013 non-null  object \n",
            " 16  CO2_Emission         14111 non-null  object \n",
            " 17  Emission_Class       12898 non-null  object \n",
            " 18  Comfort_Convenience  14999 non-null  object \n",
            " 19  Entertainment_Media  14545 non-null  object \n",
            " 20  Extras               12957 non-null  object \n",
            " 21  Safety_Security      14937 non-null  object \n",
            " 22  description          15919 non-null  object \n",
            " 23  Emission_Label       3985 non-null   object \n",
            " 24  Gears                11207 non-null  object \n",
            " 25  Country_version      7586 non-null   object \n",
            " 26  age                  14322 non-null  float64\n",
            " 27  hp_kW                15831 non-null  float64\n",
            " 28  Upholstery_type      11048 non-null  object \n",
            " 29  Upholstery_color     10841 non-null  object \n",
            " 30  Nr_of_Doors          15707 non-null  float64\n",
            "dtypes: float64(5), int64(1), object(25)\n",
            "memory usage: 3.8+ MB\n"
          ]
        }
      ]
    },
    {
      "cell_type": "code",
      "execution_count": 315,
      "metadata": {
        "id": "pGKmFKtbZm4k",
        "colab": {
          "base_uri": "https://localhost:8080/"
        },
        "outputId": "f85abb00-6e77-4852-8536-64978ad0256a"
      },
      "outputs": [
        {
          "output_type": "execute_result",
          "data": {
            "text/plain": [
              "nan                 10941\n",
              "['\\n0035/BCB\\n']      268\n",
              "['\\n0588/BNO\\n']      245\n",
              "['\\n0588/BDB\\n']      206\n",
              "['\\n0588/BHX\\n']      188\n",
              "                    ...  \n",
              "['\\n0035/AVN\\n']        1\n",
              "['\\n0035/BEM\\n']        1\n",
              "['\\n0035/BAG\\n']        1\n",
              "['\\n0035/BAA\\n']        1\n",
              "['\\n3333/BKG\\n']        1\n",
              "Name: Model_Code, Length: 233, dtype: int64"
            ]
          },
          "metadata": {},
          "execution_count": 315
        }
      ],
      "source": [
        "df[\"Model_Code\"].astype('str').value_counts(dropna=False)"
      ]
    },
    {
      "cell_type": "code",
      "execution_count": 316,
      "metadata": {
        "id": "fSmpcYrsZm8H"
      },
      "outputs": [],
      "source": [
        "df.drop(\"Model_Code\", axis=1, inplace=True)"
      ]
    },
    {
      "cell_type": "code",
      "execution_count": 317,
      "metadata": {
        "id": "NmWHJAOXZm_c",
        "colab": {
          "base_uri": "https://localhost:8080/"
        },
        "outputId": "f363458a-76cb-490f-c4ff-3786c1f29b4f"
      },
      "outputs": [
        {
          "output_type": "execute_result",
          "data": {
            "text/plain": [
              "['\\n', 'Manual', '\\n']            8153\n",
              "['\\n', 'Automatic', '\\n']         7297\n",
              "['\\n', 'Semi-automatic', '\\n']     469\n",
              "Name: Gearing_Type, dtype: int64"
            ]
          },
          "metadata": {},
          "execution_count": 317
        }
      ],
      "source": [
        "df[\"Gearing_Type\"].astype('str').value_counts(dropna=False)"
      ]
    },
    {
      "cell_type": "code",
      "execution_count": 318,
      "metadata": {
        "id": "b_b2NpngaBNM"
      },
      "outputs": [],
      "source": [
        "df.drop(\"Gearing_Type\", axis=1, inplace=True)"
      ]
    },
    {
      "cell_type": "code",
      "execution_count": 319,
      "metadata": {
        "id": "my5HYXIhaBQu",
        "colab": {
          "base_uri": "https://localhost:8080/"
        },
        "outputId": "117f1f1b-8c79-48e6-f473-fa724c9d7c43"
      },
      "outputs": [
        {
          "output_type": "execute_result",
          "data": {
            "text/plain": [
              "['\\n1,598 cc\\n']     4761\n",
              "['\\n999 cc\\n']       2438\n",
              "['\\n1,398 cc\\n']     1314\n",
              "['\\n1,399 cc\\n']      749\n",
              "['\\n1,229 cc\\n']      677\n",
              "['\\n1,956 cc\\n']      670\n",
              "['\\n1,461 cc\\n']      595\n",
              "['\\n1,490 cc\\n']      559\n",
              "nan                   496\n",
              "['\\n1,422 cc\\n']      467\n",
              "['\\n1,197 cc\\n']      353\n",
              "['\\n898 cc\\n']        351\n",
              "['\\n1,395 cc\\n']      320\n",
              "['\\n1,968 cc\\n']      301\n",
              "['\\n1,149 cc\\n']      288\n",
              "['\\n1,618 cc\\n']      212\n",
              "['\\n1,798 cc\\n']      210\n",
              "['\\n1,498 cc\\n']      196\n",
              "['\\n1,600 cc\\n']      130\n",
              "['\\n1,248 cc\\n']      110\n",
              "['\\n1,997 cc\\n']      103\n",
              "['\\n1,364 cc\\n']      102\n",
              "['\\n1,400 cc\\n']       90\n",
              "['\\n998 cc\\n']         72\n",
              "['\\n1,500 cc\\n']       50\n",
              "['\\n2,000 cc\\n']       46\n",
              "['\\n1,000 cc\\n']       40\n",
              "['\\n1 cc\\n']           36\n",
              "['\\n1,998 cc\\n']       25\n",
              "['\\n2,480 cc\\n']       20\n",
              "['\\n1,200 cc\\n']       18\n",
              "['\\n1,984 cc\\n']       18\n",
              "['\\n1,397 cc\\n']       11\n",
              "['\\n899 cc\\n']         11\n",
              "['\\n160 cc\\n']          6\n",
              "['\\n929 cc\\n']          5\n",
              "['\\n1,499 cc\\n']        5\n",
              "['\\n997 cc\\n']          4\n",
              "['\\n1,596 cc\\n']        4\n",
              "['\\n139 cc\\n']          4\n",
              "['\\n900 cc\\n']          4\n",
              "['\\n1,599 cc\\n']        3\n",
              "['\\n1,199 cc\\n']        3\n",
              "['\\n1,396 cc\\n']        3\n",
              "['\\n1,495 cc\\n']        2\n",
              "['\\n1,589 cc\\n']        2\n",
              "['\\n1,300 cc\\n']        2\n",
              "['\\n2 cc\\n']            2\n",
              "['\\n995 cc\\n']          2\n",
              "['\\n1,496 cc\\n']        1\n",
              "['\\n890 cc\\n']          1\n",
              "['\\n1,580 cc\\n']        1\n",
              "['\\n1,995 cc\\n']        1\n",
              "['\\n1,333 cc\\n']        1\n",
              "['\\n54 cc\\n']           1\n",
              "['\\n1,533 cc\\n']        1\n",
              "['\\n1,100 cc\\n']        1\n",
              "['\\n1,350 cc\\n']        1\n",
              "['\\n16,000 cc\\n']       1\n",
              "['\\n1,856 cc\\n']        1\n",
              "['\\n1,568 cc\\n']        1\n",
              "['\\n1,896 cc\\n']        1\n",
              "['\\n1,584 cc\\n']        1\n",
              "['\\n996 cc\\n']          1\n",
              "['\\n1,696 cc\\n']        1\n",
              "['\\n1,686 cc\\n']        1\n",
              "['\\n15,898 cc\\n']       1\n",
              "['\\n1,368 cc\\n']        1\n",
              "['\\n140 cc\\n']          1\n",
              "['\\n973 cc\\n']          1\n",
              "['\\n1,239 cc\\n']        1\n",
              "['\\n1,369 cc\\n']        1\n",
              "['\\n1,390 cc\\n']        1\n",
              "['\\n122 cc\\n']          1\n",
              "['\\n1,198 cc\\n']        1\n",
              "['\\n1,195 cc\\n']        1\n",
              "['\\n2,967 cc\\n']        1\n",
              "['\\n1,800 cc\\n']        1\n",
              "Name: Displacement, dtype: int64"
            ]
          },
          "metadata": {},
          "execution_count": 319
        }
      ],
      "source": [
        "df[\"Displacement\"].astype('str').value_counts(dropna=False)"
      ]
    },
    {
      "cell_type": "code",
      "execution_count": 320,
      "metadata": {
        "id": "aAKepjmyaBUB"
      },
      "outputs": [],
      "source": [
        "df[\"Displacement_cc\"] = df.Displacement.str[0].str.strip('\\n').str.replace(',', '').str.extract('(\\d{1,5})').astype(\"float\")"
      ]
    },
    {
      "cell_type": "code",
      "execution_count": 321,
      "metadata": {
        "id": "f-FclsKPaBW8",
        "colab": {
          "base_uri": "https://localhost:8080/"
        },
        "outputId": "1e5360c6-b68e-4baf-f62d-9423434e8a26"
      },
      "outputs": [
        {
          "output_type": "execute_result",
          "data": {
            "text/plain": [
              "1598.00     4761\n",
              "999.00      2438\n",
              "1398.00     1314\n",
              "1399.00      749\n",
              "1229.00      677\n",
              "1956.00      670\n",
              "1461.00      595\n",
              "1490.00      559\n",
              "NaN          496\n",
              "1422.00      467\n",
              "1197.00      353\n",
              "898.00       351\n",
              "1395.00      320\n",
              "1968.00      301\n",
              "1149.00      288\n",
              "1618.00      212\n",
              "1798.00      210\n",
              "1498.00      196\n",
              "1600.00      130\n",
              "1248.00      110\n",
              "1997.00      103\n",
              "1364.00      102\n",
              "1400.00       90\n",
              "998.00        72\n",
              "1500.00       50\n",
              "2000.00       46\n",
              "1000.00       40\n",
              "1.00          36\n",
              "1998.00       25\n",
              "2480.00       20\n",
              "1200.00       18\n",
              "1984.00       18\n",
              "1397.00       11\n",
              "899.00        11\n",
              "160.00         6\n",
              "929.00         5\n",
              "1499.00        5\n",
              "997.00         4\n",
              "1596.00        4\n",
              "139.00         4\n",
              "900.00         4\n",
              "1599.00        3\n",
              "1199.00        3\n",
              "1396.00        3\n",
              "1495.00        2\n",
              "1589.00        2\n",
              "1300.00        2\n",
              "2.00           2\n",
              "995.00         2\n",
              "1496.00        1\n",
              "890.00         1\n",
              "1580.00        1\n",
              "1995.00        1\n",
              "1333.00        1\n",
              "54.00          1\n",
              "1533.00        1\n",
              "1100.00        1\n",
              "1350.00        1\n",
              "16000.00       1\n",
              "1856.00        1\n",
              "1568.00        1\n",
              "1896.00        1\n",
              "1584.00        1\n",
              "996.00         1\n",
              "1696.00        1\n",
              "1686.00        1\n",
              "15898.00       1\n",
              "1368.00        1\n",
              "140.00         1\n",
              "973.00         1\n",
              "1239.00        1\n",
              "1369.00        1\n",
              "1390.00        1\n",
              "122.00         1\n",
              "1198.00        1\n",
              "1195.00        1\n",
              "2967.00        1\n",
              "1800.00        1\n",
              "Name: Displacement_cc, dtype: int64"
            ]
          },
          "metadata": {},
          "execution_count": 321
        }
      ],
      "source": [
        "df[\"Displacement_cc\"].value_counts(dropna=False)"
      ]
    },
    {
      "cell_type": "code",
      "execution_count": 322,
      "metadata": {
        "id": "TDv8kwZYaBac"
      },
      "outputs": [],
      "source": [
        "df.drop(\"Displacement\", axis=1, inplace=True)"
      ]
    },
    {
      "cell_type": "code",
      "execution_count": 326,
      "metadata": {
        "id": "MHCun8K_abnJ",
        "colab": {
          "base_uri": "https://localhost:8080/"
        },
        "outputId": "fec53b5e-26ba-48d3-fc03-90e10a72ffdb"
      },
      "outputs": [
        {
          "output_type": "execute_result",
          "data": {
            "text/plain": [
              "['\\n4\\n']    8105\n",
              "nan          5680\n",
              "['\\n3\\n']    2104\n",
              "['\\n5\\n']      22\n",
              "['\\n6\\n']       3\n",
              "['\\n8\\n']       2\n",
              "['\\n2\\n']       2\n",
              "['\\n1\\n']       1\n",
              "Name: Cylinders, dtype: int64"
            ]
          },
          "metadata": {},
          "execution_count": 326
        }
      ],
      "source": [
        "df[\"Cylinders\"].astype('str').value_counts(dropna=False)"
      ]
    },
    {
      "cell_type": "code",
      "execution_count": 327,
      "metadata": {
        "id": "piO5cFBmabuy"
      },
      "outputs": [],
      "source": [
        "df[\"Cylinders\"] = df.Cylinders.str[0].str.strip('\\n').astype(\"float\")"
      ]
    },
    {
      "cell_type": "code",
      "execution_count": 328,
      "metadata": {
        "id": "nIfEDRlhabyI",
        "colab": {
          "base_uri": "https://localhost:8080/"
        },
        "outputId": "9f309ef3-003b-41fa-8313-a2417f63ff68"
      },
      "outputs": [
        {
          "output_type": "execute_result",
          "data": {
            "text/plain": [
              "4.00    8105\n",
              "NaN     5680\n",
              "3.00    2104\n",
              "5.00      22\n",
              "6.00       3\n",
              "8.00       2\n",
              "2.00       2\n",
              "1.00       1\n",
              "Name: Cylinders, dtype: int64"
            ]
          },
          "metadata": {},
          "execution_count": 328
        }
      ],
      "source": [
        "df[\"Cylinders\"].value_counts(dropna=False)"
      ]
    },
    {
      "cell_type": "code",
      "execution_count": 329,
      "metadata": {
        "id": "GgtdijSvab1n",
        "colab": {
          "base_uri": "https://localhost:8080/"
        },
        "outputId": "2e90ebef-7eb7-493e-bee5-540d05db9047"
      },
      "outputs": [
        {
          "output_type": "execute_result",
          "data": {
            "text/plain": [
              "nan                 6974\n",
              "['\\n1,163 kg\\n']     574\n",
              "['\\n1,360 kg\\n']     356\n",
              "['\\n1,165 kg\\n']     301\n",
              "['\\n1,335 kg\\n']     242\n",
              "                    ... \n",
              "['\\n1,960 kg\\n']       1\n",
              "['\\n1,258 kg\\n']       1\n",
              "['\\n1,167 kg\\n']       1\n",
              "['\\n1,331 kg\\n']       1\n",
              "['\\n2,037 kg\\n']       1\n",
              "Name: Weight, Length: 435, dtype: int64"
            ]
          },
          "metadata": {},
          "execution_count": 329
        }
      ],
      "source": [
        "df[\"Weight\"].astype('str').value_counts(dropna=False)"
      ]
    },
    {
      "cell_type": "code",
      "execution_count": 330,
      "metadata": {
        "id": "R9082HxAab5x"
      },
      "outputs": [],
      "source": [
        "df[\"Weight_kg\"] = df.Weight.str[0].str.strip('\\n').str.replace(',', '').str.extract('(\\d{1,6})').astype('float')"
      ]
    },
    {
      "cell_type": "code",
      "execution_count": 331,
      "metadata": {
        "id": "I62xhmalb3LA",
        "colab": {
          "base_uri": "https://localhost:8080/"
        },
        "outputId": "dd5687f7-2989-43a4-998a-7794edb953c4"
      },
      "outputs": [
        {
          "output_type": "execute_result",
          "data": {
            "text/plain": [
              "NaN        6974\n",
              "1163.00     574\n",
              "1360.00     356\n",
              "1165.00     301\n",
              "1335.00     242\n",
              "           ... \n",
              "1960.00       1\n",
              "1258.00       1\n",
              "1167.00       1\n",
              "1331.00       1\n",
              "2037.00       1\n",
              "Name: Weight_kg, Length: 435, dtype: int64"
            ]
          },
          "metadata": {},
          "execution_count": 331
        }
      ],
      "source": [
        "df[\"Weight_kg\"].value_counts(dropna=False)"
      ]
    },
    {
      "cell_type": "code",
      "execution_count": 332,
      "metadata": {
        "id": "kH-3A1KIb3P9"
      },
      "outputs": [],
      "source": [
        "df.drop(\"Weight\", axis=1, inplace=True)"
      ]
    },
    {
      "cell_type": "code",
      "execution_count": 335,
      "metadata": {
        "id": "Jz1Nsz21b3TY",
        "colab": {
          "base_uri": "https://localhost:8080/"
        },
        "outputId": "62297ea0-3189-476f-d4b8-72bda17ac4be"
      },
      "outputs": [
        {
          "output_type": "execute_result",
          "data": {
            "text/plain": [
              "['\\nfront\\n']    8886\n",
              "nan              6858\n",
              "['\\n4WD\\n']       171\n",
              "['\\nrear\\n']        4\n",
              "Name: Drive_chain, dtype: int64"
            ]
          },
          "metadata": {},
          "execution_count": 335
        }
      ],
      "source": [
        "df[\"Drive_chain\"].astype('str').value_counts(dropna=False)"
      ]
    },
    {
      "cell_type": "code",
      "execution_count": 337,
      "metadata": {
        "id": "P9Z0ERWJb3bK",
        "colab": {
          "base_uri": "https://localhost:8080/",
          "height": 317
        },
        "outputId": "3470489f-8ff2-44b7-fcb5-0c0ea3e9a31c"
      },
      "outputs": [
        {
          "output_type": "error",
          "ename": "TypeError",
          "evalue": "ignored",
          "traceback": [
            "\u001b[0;31m---------------------------------------------------------------------------\u001b[0m",
            "\u001b[0;31mTypeError\u001b[0m                                 Traceback (most recent call last)",
            "\u001b[0;32mpandas/_libs/hashtable_class_helper.pxi\u001b[0m in \u001b[0;36mpandas._libs.hashtable.PyObjectHashTable.map_locations\u001b[0;34m()\u001b[0m\n",
            "\u001b[0;31mTypeError\u001b[0m: unhashable type: 'list'"
          ]
        },
        {
          "output_type": "stream",
          "name": "stderr",
          "text": [
            "Exception ignored in: 'pandas._libs.index.IndexEngine._call_map_locations'\n",
            "Traceback (most recent call last):\n",
            "  File \"pandas/_libs/hashtable_class_helper.pxi\", line 5231, in pandas._libs.hashtable.PyObjectHashTable.map_locations\n",
            "TypeError: unhashable type: 'list'\n"
          ]
        },
        {
          "output_type": "execute_result",
          "data": {
            "text/plain": [
              "[\\nfront\\n]    8886\n",
              "NaN            6858\n",
              "[\\n4WD\\n]       171\n",
              "[\\nrear\\n]        4\n",
              "Name: Drive_chain, dtype: int64"
            ]
          },
          "metadata": {},
          "execution_count": 337
        }
      ],
      "source": [
        "df[\"Drive_chain\"].value_counts(dropna=False)"
      ]
    },
    {
      "cell_type": "code",
      "execution_count": 338,
      "metadata": {
        "id": "auQgtjAwcRqp",
        "colab": {
          "base_uri": "https://localhost:8080/"
        },
        "outputId": "2cab45d6-f313-47e3-e9d3-37e0d1f5d528"
      },
      "outputs": [
        {
          "output_type": "execute_result",
          "data": {
            "text/plain": [
              "['\\n', 'Diesel (Particulate Filter)', '\\n']                                                                                                       4315\n",
              "['\\n', 'Super 95', '\\n']                                                                                                                          3338\n",
              "['\\n', 'Gasoline', '\\n']                                                                                                                          3175\n",
              "['\\n', 'Diesel', '\\n']                                                                                                                            2984\n",
              "['\\n', 'Super 95 / Regular/Benzine 91', '\\n']                                                                                                      424\n",
              "['\\n', 'Regular/Benzine 91', '\\n']                                                                                                                 354\n",
              "['\\n', 'Super E10 95', '\\n']                                                                                                                       331\n",
              "['\\n', 'Super 95 (Particulate Filter)', '\\n']                                                                                                      268\n",
              "['\\n', 'Super 95 / Super E10 95', '\\n']                                                                                                            131\n",
              "['\\n', 'Regular/Benzine 91 (Particulate Filter)', '\\n']                                                                                            100\n",
              "['\\n', 'Super 95 / Super Plus 98', '\\n']                                                                                                            85\n",
              "['\\n', 'Gasoline (Particulate Filter)', '\\n']                                                                                                       77\n",
              "['\\n', 'Super 95 / Super Plus 98 / Super E10 95 / Super Plus E10 98', '\\n']                                                                         40\n",
              "['\\n', 'Super E10 95 / Super 95', '\\n']                                                                                                             38\n",
              "['\\n', 'CNG', '\\n']                                                                                                                                 33\n",
              "['\\n', 'Super 95 / Super E10 95 (Particulate Filter)', '\\n']                                                                                        25\n",
              "['\\n', 'Super E10 95 / Super 95 / Super Plus 98 / Super Plus E10 98', '\\n']                                                                         19\n",
              "['\\n', 'LPG', '\\n']                                                                                                                                 16\n",
              "['\\n', 'Super 95 / Super Plus 98 (Particulate Filter)', '\\n']                                                                                       14\n",
              "['\\n', 'Regular/Benzine 91 / Super 95 / Super Plus 98 / Regular/Benzine E10 91 / Super E10 95 / Super Plus E10 98', '\\n']                           13\n",
              "['\\n', 'Regular/Benzine E10 91', '\\n']                                                                                                              11\n",
              "['\\n', 'Liquid petroleum gas (LPG)', '\\n']                                                                                                          10\n",
              "['\\n', 'Super 95 / Super Plus 98 / Super E10 95', '\\n']                                                                                              8\n",
              "['\\n', 'Regular/Benzine 91 / Regular/Benzine E10 91', '\\n']                                                                                          7\n",
              "['\\n', 'Super 95 / Regular/Benzine 91 / Super Plus 98 / Regular/Benzine E10 91 / Super E10 95 / Super Plus E10 98', '\\n']                            7\n",
              "['\\n', 'Super Plus 98', '\\n']                                                                                                                        7\n",
              "['\\n', 'Super E10 95 (Particulate Filter)', '\\n']                                                                                                    7\n",
              "['\\n', 'Super 95 / Super Plus 98 / Super Plus E10 98 / Super E10 95', '\\n']                                                                          5\n",
              "['\\n', 'Others', '\\n']                                                                                                                               5\n",
              "['\\n', 'Super E10 95 / Super Plus E10 98', '\\n']                                                                                                     4\n",
              "['\\n', 'Electric/Gasoline', '\\n']                                                                                                                    4\n",
              "['\\n', 'Super 95 / Super Plus 98 / Super E10 95 / Super Plus E10 98 (Particulate Filter)', '\\n']                                                     4\n",
              "['\\n', 'Super 95 / Super E10 95 / Super Plus E10 98 / Super Plus 98', '\\n']                                                                          4\n",
              "['\\n', 'Regular/Benzine 91 / Super 95 / Super Plus 98 / Regular/Benzine E10 91 / Super Plus E10 98 / Super E10 95', '\\n']                            4\n",
              "['\\n', 'CNG (Particulate Filter)', '\\n']                                                                                                             3\n",
              "['\\n', 'Super E10 95 / Super 95 / Super Plus 98 / Super Plus E10 98 (Particulate Filter)', '\\n']                                                     3\n",
              "['\\n', 'Super E10 95 / Super 95 / Super Plus 98', '\\n']                                                                                              3\n",
              "['\\n', 'Super E10 95 / Regular/Benzine 91', '\\n']                                                                                                    2\n",
              "['\\n', 'Super 95 / Regular/Benzine 91 / Super Plus 98', '\\n']                                                                                        2\n",
              "['\\n', 'Regular/Benzine 91 / Super 95 / Super Plus 98 / Super Plus E10 98 / Super E10 95 / Regular/Benzine E10 91', '\\n']                            2\n",
              "['\\n', 'Regular/Benzine 91 / Super 95 / Super E10 95', '\\n']                                                                                         1\n",
              "['\\n', 'Electric', '\\n']                                                                                                                             1\n",
              "['\\n', 'Regular/Benzine 91 / Super 95 / Super E10 95 / Super Plus E10 98 / Super Plus 98 / Regular/Benzine E10 91', '\\n']                            1\n",
              "['\\n', 'Super 95 / Super E10 95 / Super Plus E10 98', '\\n']                                                                                          1\n",
              "['\\n', 'Super 95 / Super E10 95 / Super Plus 98', '\\n']                                                                                              1\n",
              "['\\n', 'Regular/Benzine 91 / Super 95 / Super Plus E10 98 / Super E10 95 / Regular/Benzine E10 91 / Super Plus 98', '\\n']                            1\n",
              "['\\n', 'Super 95 / Super Plus 98 / Regular/Benzine E10 91 / Super Plus E10 98 / Super E10 95 / Regular/Benzine 91', '\\n']                            1\n",
              "['\\n', 'Super 95 / Regular/Benzine E10 91', '\\n']                                                                                                    1\n",
              "['\\n', 'Super E10 95 / Regular/Benzine 91 / Regular/Benzine E10 91 / Super 95', '\\n']                                                                1\n",
              "['\\n', 'Super Plus 98 / Regular/Benzine 91', '\\n']                                                                                                   1\n",
              "['\\n', 'Super 95 / Regular/Benzine 91 / Super E10 95 / Super Plus 98 / Super Plus E10 98 / Regular/Benzine E10 91', '\\n']                            1\n",
              "['\\n', 'Super 95 / Super Plus 98 / Super Plus E10 98', '\\n']                                                                                         1\n",
              "['\\n', 'Super 95 / Regular/Benzine 91 (Particulate Filter)', '\\n']                                                                                   1\n",
              "['\\n', 'Super 95 / Super E10 95 / Regular/Benzine 91', '\\n']                                                                                         1\n",
              "['\\n', 'Regular/Benzine 91 / Super 95 / Super E10 95 / Regular/Benzine E10 91', '\\n']                                                                1\n",
              "['\\n', 'Super 95 / Regular/Benzine E10 91 / Super E10 95', '\\n']                                                                                     1\n",
              "['\\n', 'Super 95 / Regular/Benzine 91 / Super Plus 98 / Regular/Benzine E10 91 / Super Plus E10 98 / Super E10 95', '\\n']                            1\n",
              "['\\n', 'Regular/Benzine E10 91 / Super E10 95 / Super Plus E10 98 / Super Plus 98 / Super 95 / Regular/Benzine 91', '\\n']                            1\n",
              "['\\n', 'Super 95 / Regular/Benzine 91 / Super E10 95 / Super Plus E10 98 / Super Plus 98', '\\n']                                                     1\n",
              "['\\n', 'Others (Particulate Filter)', '\\n']                                                                                                          1\n",
              "['\\n', 'Biogas', '\\n']                                                                                                                               1\n",
              "['\\n', 'Super 95 / Biodiesel', '\\n']                                                                                                                 1\n",
              "['\\n', 'Regular/Benzine 91 / Super 95 / Super Plus 98 / Super Plus E10 98 / Super E10 95 / Regular/Benzine E10 91 (Particulate Filter)', '\\n']       1\n",
              "['\\n', 'Regular/Benzine 91 / Super 95 / Super Plus 98', '\\n']                                                                                        1\n",
              "['\\n', 'Regular/Benzine 91 / Super 95', '\\n']                                                                                                        1\n",
              "['\\n', 'Regular/Benzine E10 91 / Regular/Benzine 91 / Super 95 / Super Plus 98 / Super E10 95 / Super Plus E10 98', '\\n']                            1\n",
              "['\\n', 'Domestic gas H', '\\n']                                                                                                                       1\n",
              "['\\n', 'Super E10 95 / Regular/Benzine 91 / Super 95 / Super Plus 98 / Regular/Benzine E10 91 / Super Plus E10 98', '\\n']                            1\n",
              "['\\n', 'Super Plus E10 98 / Super 95 / Super Plus 98 / Super E10 95', '\\n']                                                                          1\n",
              "['\\n', 'Super 95 / Regular/Benzine 91 / Super E10 95 / Super Plus E10 98 / Super Plus 98 / Regular/Benzine E10 91', '\\n']                            1\n",
              "['\\n', 'Super Plus 98 / Super 95 / Super E10 95', '\\n']                                                                                              1\n",
              "['\\n', 'Super Plus E10 98', '\\n']                                                                                                                    1\n",
              "['\\n', 'Regular/Benzine 91 / Super 95 / Regular/Benzine E10 91', '\\n']                                                                               1\n",
              "['\\n', 'Super Plus 98 / Super E10 95', '\\n']                                                                                                         1\n",
              "['\\n', 'Regular/Benzine 91 / Super 95 / Regular/Benzine E10 91 / Super E10 95 / Super Plus 98 / Super Plus E10 98', '\\n']                            1\n",
              "['\\n', 'Regular/Benzine 91 / Super Plus 98 / Regular/Benzine E10 91 / Super 95 / Super E10 95 / Super Plus E10 98', '\\n']                            1\n",
              "['\\n', 'Super Plus 98 / Super 95 / Super Plus E10 98', '\\n']                                                                                         1\n",
              "Name: Fuel, dtype: int64"
            ]
          },
          "metadata": {},
          "execution_count": 338
        }
      ],
      "source": [
        "df[\"Fuel\"].astype('str').value_counts(dropna=False)"
      ]
    },
    {
      "cell_type": "code",
      "execution_count": 339,
      "metadata": {
        "id": "niH-j8ROcRu0"
      },
      "outputs": [],
      "source": [
        "df[\"Fuel\"] = df.Fuel.str[1].str.split(\"/\").str[0].str.strip()"
      ]
    },
    {
      "cell_type": "code",
      "execution_count": 340,
      "metadata": {
        "id": "Nkj2EIA5cRyi",
        "colab": {
          "base_uri": "https://localhost:8080/"
        },
        "outputId": "52ce2224-aab7-4fde-d8ee-082f7ac5e574"
      },
      "outputs": [
        {
          "output_type": "execute_result",
          "data": {
            "text/plain": [
              "Diesel (Particulate Filter)          4315\n",
              "Super 95                             4100\n",
              "Gasoline                             3175\n",
              "Diesel                               2984\n",
              "Regular                               503\n",
              "Super E10 95                          402\n",
              "Super 95 (Particulate Filter)         268\n",
              "Gasoline (Particulate Filter)          77\n",
              "CNG                                    33\n",
              "LPG                                    16\n",
              "Super Plus 98                          11\n",
              "Liquid petroleum gas (LPG)             10\n",
              "Super E10 95 (Particulate Filter)       7\n",
              "Electric                                5\n",
              "Others                                  5\n",
              "CNG (Particulate Filter)                3\n",
              "Super Plus E10 98                       2\n",
              "Others (Particulate Filter)             1\n",
              "Biogas                                  1\n",
              "Domestic gas H                          1\n",
              "Name: Fuel, dtype: int64"
            ]
          },
          "metadata": {},
          "execution_count": 340
        }
      ],
      "source": [
        "df[\"Fuel\"].value_counts(dropna=False)"
      ]
    },
    {
      "cell_type": "code",
      "execution_count": 341,
      "metadata": {
        "id": "HXOGd3UxcR26"
      },
      "outputs": [],
      "source": [
        "df[\"Fuel\"] = df.Fuel.str.split(\"(\").str[0].str.strip()"
      ]
    },
    {
      "cell_type": "code",
      "execution_count": 342,
      "metadata": {
        "id": "sXeocurPczxo",
        "colab": {
          "base_uri": "https://localhost:8080/"
        },
        "outputId": "8267805e-0172-4fc3-ecc9-f19aa7ff505e"
      },
      "outputs": [
        {
          "output_type": "execute_result",
          "data": {
            "text/plain": [
              "Diesel                  7299\n",
              "Super 95                4368\n",
              "Gasoline                3252\n",
              "Regular                  503\n",
              "Super E10 95             409\n",
              "CNG                       36\n",
              "LPG                       16\n",
              "Super Plus 98             11\n",
              "Liquid petroleum gas      10\n",
              "Others                     6\n",
              "Electric                   5\n",
              "Super Plus E10 98          2\n",
              "Biogas                     1\n",
              "Domestic gas H             1\n",
              "Name: Fuel, dtype: int64"
            ]
          },
          "metadata": {},
          "execution_count": 342
        }
      ],
      "source": [
        "df[\"Fuel\"].value_counts(dropna=False)"
      ]
    },
    {
      "cell_type": "code",
      "execution_count": 343,
      "metadata": {
        "id": "SxuoiytLcz1P"
      },
      "outputs": [],
      "source": [
        "benzine = [\"Gasoline\", \"Super 95\", \"Regular\", \"Super E10 95\", \"Super Plus 98\", \"Super Plus E10 98\", \"Others\"]\n",
        "lpg = [\"LPG\", \"Liquid petroleum gas\", \"CNG\", \"Biogas\", \"Domestic gas H\"]\n",
        "\n",
        "def fueltype(x):\n",
        "    if x in benzine:\n",
        "        return \"Benzine\"\n",
        "    elif x in lpg:\n",
        "        return \"LPG/CNG\"\n",
        "    else:\n",
        "        return x\n",
        "\n",
        "df[\"Fuel\"] = df.Fuel.apply(fueltype)"
      ]
    },
    {
      "cell_type": "code",
      "execution_count": 344,
      "metadata": {
        "id": "zj3-wM0icz47",
        "colab": {
          "base_uri": "https://localhost:8080/"
        },
        "outputId": "fb2cadc7-95a6-42a3-eb09-9217bf0def07"
      },
      "outputs": [
        {
          "output_type": "execute_result",
          "data": {
            "text/plain": [
              "Benzine     8551\n",
              "Diesel      7299\n",
              "LPG/CNG       64\n",
              "Electric       5\n",
              "Name: Fuel, dtype: int64"
            ]
          },
          "metadata": {},
          "execution_count": 344
        }
      ],
      "source": [
        "df.Fuel.value_counts(dropna=False)"
      ]
    },
    {
      "cell_type": "code",
      "execution_count": 347,
      "metadata": {
        "id": "JdVb-zeBcz8Y",
        "colab": {
          "base_uri": "https://localhost:8080/",
          "height": 206
        },
        "outputId": "26371328-bf48-4a39-c66e-157cf0e28263"
      },
      "outputs": [
        {
          "output_type": "execute_result",
          "data": {
            "text/plain": [
              "         make_model body_type              CO2_Emission    Gears  hp_kW  \\\n",
              "3356        Audi A3   Compact                       NaN  [\\n6\\n] 150.00   \n",
              "3612        Audi A3    Sedans  [\\n36 g CO2/km (comb)\\n]  [\\n6\\n] 110.00   \n",
              "3615        Audi A3    Sedans  [\\n36 g CO2/km (comb)\\n]  [\\n6\\n] 110.00   \n",
              "3617        Audi A3    Sedans  [\\n36 g CO2/km (comb)\\n]  [\\n6\\n] 110.00   \n",
              "13397  Renault Clio    Sedans              [[], [], []]      NaN    NaN   \n",
              "\n",
              "                                 Consumption  price  \n",
              "3356                                     NaN  24950  \n",
              "3612   [\\n, 1.6 l/100 km (comb), \\n, \\n, \\n]  38450  \n",
              "3615   [\\n, 1.6 l/100 km (comb), \\n, \\n, \\n]  35899  \n",
              "3617   [\\n, 1.6 l/100 km (comb), \\n, \\n, \\n]  38000  \n",
              "13397                                    NaN   8490  "
            ],
            "text/html": [
              "\n",
              "  <div id=\"df-1cbbff2a-2568-4627-b883-3670673e4182\">\n",
              "    <div class=\"colab-df-container\">\n",
              "      <div>\n",
              "<style scoped>\n",
              "    .dataframe tbody tr th:only-of-type {\n",
              "        vertical-align: middle;\n",
              "    }\n",
              "\n",
              "    .dataframe tbody tr th {\n",
              "        vertical-align: top;\n",
              "    }\n",
              "\n",
              "    .dataframe thead th {\n",
              "        text-align: right;\n",
              "    }\n",
              "</style>\n",
              "<table border=\"1\" class=\"dataframe\">\n",
              "  <thead>\n",
              "    <tr style=\"text-align: right;\">\n",
              "      <th></th>\n",
              "      <th>make_model</th>\n",
              "      <th>body_type</th>\n",
              "      <th>CO2_Emission</th>\n",
              "      <th>Gears</th>\n",
              "      <th>hp_kW</th>\n",
              "      <th>Consumption</th>\n",
              "      <th>price</th>\n",
              "    </tr>\n",
              "  </thead>\n",
              "  <tbody>\n",
              "    <tr>\n",
              "      <th>3356</th>\n",
              "      <td>Audi A3</td>\n",
              "      <td>Compact</td>\n",
              "      <td>NaN</td>\n",
              "      <td>[\\n6\\n]</td>\n",
              "      <td>150.00</td>\n",
              "      <td>NaN</td>\n",
              "      <td>24950</td>\n",
              "    </tr>\n",
              "    <tr>\n",
              "      <th>3612</th>\n",
              "      <td>Audi A3</td>\n",
              "      <td>Sedans</td>\n",
              "      <td>[\\n36 g CO2/km (comb)\\n]</td>\n",
              "      <td>[\\n6\\n]</td>\n",
              "      <td>110.00</td>\n",
              "      <td>[\\n, 1.6 l/100 km (comb), \\n, \\n, \\n]</td>\n",
              "      <td>38450</td>\n",
              "    </tr>\n",
              "    <tr>\n",
              "      <th>3615</th>\n",
              "      <td>Audi A3</td>\n",
              "      <td>Sedans</td>\n",
              "      <td>[\\n36 g CO2/km (comb)\\n]</td>\n",
              "      <td>[\\n6\\n]</td>\n",
              "      <td>110.00</td>\n",
              "      <td>[\\n, 1.6 l/100 km (comb), \\n, \\n, \\n]</td>\n",
              "      <td>35899</td>\n",
              "    </tr>\n",
              "    <tr>\n",
              "      <th>3617</th>\n",
              "      <td>Audi A3</td>\n",
              "      <td>Sedans</td>\n",
              "      <td>[\\n36 g CO2/km (comb)\\n]</td>\n",
              "      <td>[\\n6\\n]</td>\n",
              "      <td>110.00</td>\n",
              "      <td>[\\n, 1.6 l/100 km (comb), \\n, \\n, \\n]</td>\n",
              "      <td>38000</td>\n",
              "    </tr>\n",
              "    <tr>\n",
              "      <th>13397</th>\n",
              "      <td>Renault Clio</td>\n",
              "      <td>Sedans</td>\n",
              "      <td>[[], [], []]</td>\n",
              "      <td>NaN</td>\n",
              "      <td>NaN</td>\n",
              "      <td>NaN</td>\n",
              "      <td>8490</td>\n",
              "    </tr>\n",
              "  </tbody>\n",
              "</table>\n",
              "</div>\n",
              "      <button class=\"colab-df-convert\" onclick=\"convertToInteractive('df-1cbbff2a-2568-4627-b883-3670673e4182')\"\n",
              "              title=\"Convert this dataframe to an interactive table.\"\n",
              "              style=\"display:none;\">\n",
              "        \n",
              "  <svg xmlns=\"http://www.w3.org/2000/svg\" height=\"24px\"viewBox=\"0 0 24 24\"\n",
              "       width=\"24px\">\n",
              "    <path d=\"M0 0h24v24H0V0z\" fill=\"none\"/>\n",
              "    <path d=\"M18.56 5.44l.94 2.06.94-2.06 2.06-.94-2.06-.94-.94-2.06-.94 2.06-2.06.94zm-11 1L8.5 8.5l.94-2.06 2.06-.94-2.06-.94L8.5 2.5l-.94 2.06-2.06.94zm10 10l.94 2.06.94-2.06 2.06-.94-2.06-.94-.94-2.06-.94 2.06-2.06.94z\"/><path d=\"M17.41 7.96l-1.37-1.37c-.4-.4-.92-.59-1.43-.59-.52 0-1.04.2-1.43.59L10.3 9.45l-7.72 7.72c-.78.78-.78 2.05 0 2.83L4 21.41c.39.39.9.59 1.41.59.51 0 1.02-.2 1.41-.59l7.78-7.78 2.81-2.81c.8-.78.8-2.07 0-2.86zM5.41 20L4 18.59l7.72-7.72 1.47 1.35L5.41 20z\"/>\n",
              "  </svg>\n",
              "      </button>\n",
              "      \n",
              "  <style>\n",
              "    .colab-df-container {\n",
              "      display:flex;\n",
              "      flex-wrap:wrap;\n",
              "      gap: 12px;\n",
              "    }\n",
              "\n",
              "    .colab-df-convert {\n",
              "      background-color: #E8F0FE;\n",
              "      border: none;\n",
              "      border-radius: 50%;\n",
              "      cursor: pointer;\n",
              "      display: none;\n",
              "      fill: #1967D2;\n",
              "      height: 32px;\n",
              "      padding: 0 0 0 0;\n",
              "      width: 32px;\n",
              "    }\n",
              "\n",
              "    .colab-df-convert:hover {\n",
              "      background-color: #E2EBFA;\n",
              "      box-shadow: 0px 1px 2px rgba(60, 64, 67, 0.3), 0px 1px 3px 1px rgba(60, 64, 67, 0.15);\n",
              "      fill: #174EA6;\n",
              "    }\n",
              "\n",
              "    [theme=dark] .colab-df-convert {\n",
              "      background-color: #3B4455;\n",
              "      fill: #D2E3FC;\n",
              "    }\n",
              "\n",
              "    [theme=dark] .colab-df-convert:hover {\n",
              "      background-color: #434B5C;\n",
              "      box-shadow: 0px 1px 3px 1px rgba(0, 0, 0, 0.15);\n",
              "      filter: drop-shadow(0px 1px 2px rgba(0, 0, 0, 0.3));\n",
              "      fill: #FFFFFF;\n",
              "    }\n",
              "  </style>\n",
              "\n",
              "      <script>\n",
              "        const buttonEl =\n",
              "          document.querySelector('#df-1cbbff2a-2568-4627-b883-3670673e4182 button.colab-df-convert');\n",
              "        buttonEl.style.display =\n",
              "          google.colab.kernel.accessAllowed ? 'block' : 'none';\n",
              "\n",
              "        async function convertToInteractive(key) {\n",
              "          const element = document.querySelector('#df-1cbbff2a-2568-4627-b883-3670673e4182');\n",
              "          const dataTable =\n",
              "            await google.colab.kernel.invokeFunction('convertToInteractive',\n",
              "                                                     [key], {});\n",
              "          if (!dataTable) return;\n",
              "\n",
              "          const docLinkHtml = 'Like what you see? Visit the ' +\n",
              "            '<a target=\"_blank\" href=https://colab.research.google.com/notebooks/data_table.ipynb>data table notebook</a>'\n",
              "            + ' to learn more about interactive tables.';\n",
              "          element.innerHTML = '';\n",
              "          dataTable['output_type'] = 'display_data';\n",
              "          await google.colab.output.renderOutput(dataTable, element);\n",
              "          const docLink = document.createElement('div');\n",
              "          docLink.innerHTML = docLinkHtml;\n",
              "          element.appendChild(docLink);\n",
              "        }\n",
              "      </script>\n",
              "    </div>\n",
              "  </div>\n",
              "  "
            ]
          },
          "metadata": {},
          "execution_count": 347
        }
      ],
      "source": [
        "df[df.Fuel == \"Electric\"][[\"make_model\", \"body_type\", \"CO2_Emission\", \"Gears\", \"hp_kW\", \"Consumption\", \"price\"]]"
      ]
    },
    {
      "cell_type": "code",
      "execution_count": 346,
      "metadata": {
        "id": "U4TXq_ibdA2T",
        "colab": {
          "base_uri": "https://localhost:8080/"
        },
        "outputId": "7606377a-0609-4418-aec4-f80c16bb4921"
      },
      "outputs": [
        {
          "output_type": "execute_result",
          "data": {
            "text/plain": [
              "nan                                                                                                 1906\n",
              "[['3.9 l/100 km (comb)'], ['4.1 l/100 km (city)'], ['3.7 l/100 km (country)']]                       304\n",
              "[['4.2 l/100 km (comb)'], ['5 l/100 km (city)'], ['3.7 l/100 km (country)']]                         276\n",
              "[['5.4 l/100 km (comb)'], ['6.8 l/100 km (city)'], ['4.5 l/100 km (country)']]                       257\n",
              "[['3.8 l/100 km (comb)'], ['4.3 l/100 km (city)'], ['3.5 l/100 km (country)']]                       253\n",
              "                                                                                                    ... \n",
              "[['4.2 l/100 km (comb)'], ['5.3 l/100 km (city)'], ['3.6 l/100 km (country)']]                         1\n",
              "['\\n', '5.1 l/100 km (comb)', '\\n', '6.4 l/100 km (city)', '\\n', '4.3 l/100 km (country)', '\\n']       1\n",
              "[['4.6 l/100 km (comb)'], ['5.4 l/100 km (city)'], ['6.7 l/100 km (country)']]                         1\n",
              "['\\n', '6.3 l/100 km (comb)', '\\n', '\\n', '\\n']                                                        1\n",
              "['\\n', '7.4 l/100 km (comb)', '\\n', '9.6 l/100 km (city)', '\\n', '6 l/100 km (country)', '\\n']         1\n",
              "Name: Consumption, Length: 882, dtype: int64"
            ]
          },
          "metadata": {},
          "execution_count": 346
        }
      ],
      "source": [
        "df[\"Consumption\"].astype('str').value_counts(dropna=False)"
      ]
    },
    {
      "cell_type": "code",
      "execution_count": 348,
      "metadata": {
        "id": "gO6nTZRxdA_k"
      },
      "outputs": [],
      "source": [
        "# Ortalama yakit\n",
        "def cons_comb(x):\n",
        "    \n",
        "    if type(x)==list and len(x)==3:\n",
        "        if x[0] != []: return x[0][0]\n",
        "        else: return None\n",
        "        \n",
        "    if type(x)==list and len(x)==5:\n",
        "        return x[1]\n",
        "    \n",
        "    if type(x)==list and len(x)==7:\n",
        "        return x[1]\n",
        "    \n",
        "    else:\n",
        "        return None\n"
      ]
    },
    {
      "cell_type": "code",
      "execution_count": 349,
      "metadata": {
        "id": "vqrhcCZzdBMZ"
      },
      "outputs": [],
      "source": [
        "def cons_city(x):\n",
        "    \n",
        "    if type(x)==list and len(x)==3:\n",
        "        if x[1] != []: return x[1][0]\n",
        "        else: return None\n",
        "        \n",
        "    if type(x)==list and len(x)==5:\n",
        "        return None\n",
        "    \n",
        "    if type(x)==list and len(x)==7:\n",
        "        return x[3]\n",
        "    \n",
        "    else:\n",
        "        return None\n"
      ]
    },
    {
      "cell_type": "code",
      "execution_count": 350,
      "metadata": {
        "id": "R1X1rmNldBU-"
      },
      "outputs": [],
      "source": [
        "def cons_country(x):\n",
        "    \n",
        "    if type(x)==list and len(x)==3:\n",
        "        if x[2] != []: return x[2][0]\n",
        "        else: return None\n",
        "        \n",
        "    if type(x)==list and len(x)==5:\n",
        "        return None\n",
        "    \n",
        "    if type(x)==list and len(x)==7:\n",
        "        return x[5]\n",
        "    \n",
        "    else:\n",
        "        return None"
      ]
    },
    {
      "cell_type": "code",
      "execution_count": 351,
      "metadata": {
        "id": "gStsfHqZdBae"
      },
      "outputs": [],
      "source": [
        "def cons_country(x):\n",
        "    \n",
        "    if type(x)==list and len(x)==3:\n",
        "        if x[2] != []: return x[2][0]\n",
        "        else: return None\n",
        "        \n",
        "    if type(x)==list and len(x)==5:\n",
        "        return None\n",
        "    \n",
        "    if type(x)==list and len(x)==7:\n",
        "        return x[5]\n",
        "    \n",
        "    else:\n",
        "        return None"
      ]
    },
    {
      "cell_type": "code",
      "execution_count": 352,
      "metadata": {
        "id": "xlCvy_ExdBfL"
      },
      "outputs": [],
      "source": [
        "df['cons_comb'] = df.Consumption.apply(cons_comb).str.extract('(\\d{1,2}.\\d|\\d{1,3})').astype(\"float\") \n",
        "df['cons_city'] = df.Consumption.apply(cons_city).str.extract('(\\d{1,2}.\\d|\\d{1,3})').astype(\"float\")\n",
        "df['cons_country'] = df.Consumption.apply(cons_country).str.extract('(\\d{1,2}.\\d|\\d{1,3})').astype(\"float\")"
      ]
    },
    {
      "cell_type": "code",
      "execution_count": 353,
      "metadata": {
        "id": "6zpVPMzEdBke",
        "colab": {
          "base_uri": "https://localhost:8080/"
        },
        "outputId": "21564537-c826-42c6-a85b-63090b96245a"
      },
      "outputs": [
        {
          "output_type": "execute_result",
          "data": {
            "text/plain": [
              "NaN     2033\n",
              "5.40     770\n",
              "3.90     733\n",
              "4.00     713\n",
              "5.10     657\n",
              "Name: cons_comb, dtype: int64"
            ]
          },
          "metadata": {},
          "execution_count": 353
        }
      ],
      "source": [
        "df[\"cons_comb\"].value_counts(dropna=False).head()"
      ]
    },
    {
      "cell_type": "code",
      "execution_count": 354,
      "metadata": {
        "id": "pOkyspA7dBqL",
        "colab": {
          "base_uri": "https://localhost:8080/"
        },
        "outputId": "559f6d2a-bce3-41af-ee8d-8bd834f920f9"
      },
      "outputs": [
        {
          "output_type": "execute_result",
          "data": {
            "text/plain": [
              "NaN     2436\n",
              "5.00     669\n",
              "5.80     633\n",
              "4.50     580\n",
              "4.30     533\n",
              "Name: cons_city, dtype: int64"
            ]
          },
          "metadata": {},
          "execution_count": 354
        }
      ],
      "source": [
        "df[\"cons_city\"].value_counts(dropna=False).head()"
      ]
    },
    {
      "cell_type": "code",
      "execution_count": 355,
      "metadata": {
        "id": "kUjqUtNzdBwh",
        "colab": {
          "base_uri": "https://localhost:8080/"
        },
        "outputId": "49fc12ee-1f67-4e05-a6d3-835314394d7f"
      },
      "outputs": [
        {
          "output_type": "execute_result",
          "data": {
            "text/plain": [
              "NaN     2376\n",
              "4.20    1178\n",
              "3.70    1089\n",
              "4.40     898\n",
              "4.50     848\n",
              "Name: cons_country, dtype: int64"
            ]
          },
          "metadata": {},
          "execution_count": 355
        }
      ],
      "source": [
        "df[\"cons_country\"].value_counts(dropna=False).head()"
      ]
    },
    {
      "cell_type": "code",
      "execution_count": 356,
      "metadata": {
        "id": "L43q-6Awdt7b"
      },
      "outputs": [],
      "source": [
        "df.drop('Consumption', axis=1,inplace=True)"
      ]
    },
    {
      "cell_type": "code",
      "execution_count": 358,
      "metadata": {
        "id": "Z8nCdtRudt_J",
        "colab": {
          "base_uri": "https://localhost:8080/"
        },
        "outputId": "04cd3f1f-dd77-4313-dca5-8ddaa57d2835"
      },
      "outputs": [
        {
          "output_type": "execute_result",
          "data": {
            "text/plain": [
              "nan                              1808\n",
              "['\\n120 g CO2/km (comb)\\n']       740\n",
              "[[], [], []]                      628\n",
              "['\\n99 g CO2/km (comb)\\n']        545\n",
              "['\\n97 g CO2/km (comb)\\n']        537\n",
              "                                 ... \n",
              "['\\n14 g CO2/km (comb)\\n']          1\n",
              "['\\n1,060 g CO2/km (comb)\\n']       1\n",
              "['\\n51 g CO2/km (comb)\\n']          1\n",
              "['\\n165 g CO2/km (comb)\\n']         1\n",
              "['\\n193 g CO2/km (comb)\\n']         1\n",
              "Name: CO2_Emission, Length: 124, dtype: int64"
            ]
          },
          "metadata": {},
          "execution_count": 358
        }
      ],
      "source": [
        "df[\"CO2_Emission\"].astype('str').value_counts(dropna=False)"
      ]
    },
    {
      "cell_type": "code",
      "execution_count": 361,
      "metadata": {
        "id": "z2zDT35nduC6"
      },
      "outputs": [],
      "source": [
        "df[\"CO2_Emission\"] = df['CO2_Emission'].str[0].str.strip().str.replace(',', '').str.extract('(\\d+)').astype('float')"
      ]
    },
    {
      "cell_type": "code",
      "execution_count": 362,
      "metadata": {
        "id": "6yTBQutYduGH",
        "colab": {
          "base_uri": "https://localhost:8080/"
        },
        "outputId": "8ad0e920-f29a-4da1-a64b-a0ed1cd2b73d"
      },
      "outputs": [
        {
          "output_type": "execute_result",
          "data": {
            "text/plain": [
              "NaN        2436\n",
              "120.00      740\n",
              "99.00       545\n",
              "97.00       537\n",
              "104.00      501\n",
              "           ... \n",
              "14.00         1\n",
              "1060.00       1\n",
              "51.00         1\n",
              "165.00        1\n",
              "193.00        1\n",
              "Name: CO2_Emission, Length: 123, dtype: int64"
            ]
          },
          "metadata": {},
          "execution_count": 362
        }
      ],
      "source": [
        "df[\"CO2_Emission\"].value_counts(dropna=False)"
      ]
    },
    {
      "cell_type": "code",
      "execution_count": 363,
      "metadata": {
        "id": "xhyTk7WlduOO"
      },
      "outputs": [],
      "source": [
        "df.drop(\"CO2_Emission\", axis=1, inplace=True)"
      ]
    },
    {
      "cell_type": "code",
      "execution_count": 365,
      "metadata": {
        "id": "U6CpXpMyeAP3",
        "colab": {
          "base_uri": "https://localhost:8080/"
        },
        "outputId": "16ffefc2-70d2-43df-d259-f0d462953e4c"
      },
      "outputs": [
        {
          "output_type": "execute_result",
          "data": {
            "text/plain": [
              "['\\nEuro 6\\n']          10139\n",
              "nan                      3021\n",
              "['\\nEuro 6d-TEMP\\n']     1845\n",
              "[[], [], []]              607\n",
              "['\\nEuro 6c\\n']           127\n",
              "['\\nEuro 5\\n']             78\n",
              "['\\nEuro 6d\\n']            62\n",
              "['\\nEuro 4\\n']             40\n",
              "Name: Emission_Class, dtype: int64"
            ]
          },
          "metadata": {},
          "execution_count": 365
        }
      ],
      "source": [
        "df[\"Emission_Class\"].astype('str').value_counts(dropna=False)"
      ]
    },
    {
      "cell_type": "code",
      "execution_count": 367,
      "metadata": {
        "id": "rRiUgmLFeAVy"
      },
      "outputs": [],
      "source": [
        "df[\"Emission_Class\"] = [item[0] if type(item) == list else item for item in df[\"Emission_Class\"]]\n",
        "df[\"Emission_Class\"] = df[\"Emission_Class\"].str.strip(\"\\n\")"
      ]
    },
    {
      "cell_type": "code",
      "execution_count": 368,
      "metadata": {
        "id": "Xeek3U-YeAbs",
        "colab": {
          "base_uri": "https://localhost:8080/"
        },
        "outputId": "f53fcd21-0f36-4858-cde1-e808a42ef55e"
      },
      "outputs": [
        {
          "output_type": "execute_result",
          "data": {
            "text/plain": [
              "Euro 6          10139\n",
              "NaN              3628\n",
              "Euro 6d-TEMP     1845\n",
              "Euro 6c           127\n",
              "Euro 5             78\n",
              "Euro 6d            62\n",
              "Euro 4             40\n",
              "Name: Emission_Class, dtype: int64"
            ]
          },
          "metadata": {},
          "execution_count": 368
        }
      ],
      "source": [
        "df[\"Emission_Class\"].value_counts(dropna=False)"
      ]
    },
    {
      "cell_type": "code",
      "execution_count": 369,
      "metadata": {
        "id": "FQ-ELqLceAg9"
      },
      "outputs": [],
      "source": [
        "df.replace({\"Emission_Class\" : {\"Euro 6d-TEMP\": \"Euro 6\", \"Euro 6c\": \"Euro 6\", \"Euro 6d\": \"Euro 6\"}}, regex=True, inplace=True)"
      ]
    },
    {
      "cell_type": "code",
      "execution_count": 370,
      "metadata": {
        "id": "0RGISWoAeArs",
        "colab": {
          "base_uri": "https://localhost:8080/"
        },
        "outputId": "7d134c43-9d27-4499-9790-095dbbc2e0d3"
      },
      "outputs": [
        {
          "output_type": "execute_result",
          "data": {
            "text/plain": [
              "Euro 6    12173\n",
              "NaN        3628\n",
              "Euro 5       78\n",
              "Euro 4       40\n",
              "Name: Emission_Class, dtype: int64"
            ]
          },
          "metadata": {},
          "execution_count": 370
        }
      ],
      "source": [
        "df[\"Emission_Class\"].value_counts(dropna=False)"
      ]
    },
    {
      "cell_type": "code",
      "execution_count": 372,
      "metadata": {
        "id": "4F-udBzYduS9"
      },
      "outputs": [],
      "source": [
        "df.drop(\"Emission_Class\", axis=1, inplace=True)"
      ]
    },
    {
      "cell_type": "code",
      "execution_count": 373,
      "metadata": {
        "id": "VsnBmlzaeZgL",
        "colab": {
          "base_uri": "https://localhost:8080/"
        },
        "outputId": "0f0174eb-b19b-41a4-8cc9-4998e324bd64"
      },
      "outputs": [
        {
          "output_type": "execute_result",
          "data": {
            "text/plain": [
              "nan                       11934\n",
              "['\\n4 (Green)\\n']          3553\n",
              "['\\n1 (No sticker)\\n']      381\n",
              "[[], [], []]                 40\n",
              "['\\n5 (Blue)\\n']              8\n",
              "['\\n3 (Yellow)\\n']            2\n",
              "['\\n2 (Red)\\n']               1\n",
              "Name: Emission_Label, dtype: int64"
            ]
          },
          "metadata": {},
          "execution_count": 373
        }
      ],
      "source": [
        "df[\"Emission_Label\"].astype('str').value_counts(dropna=False)"
      ]
    },
    {
      "cell_type": "code",
      "execution_count": 374,
      "metadata": {
        "id": "-JOTNlx0eZoj"
      },
      "outputs": [],
      "source": [
        "df.drop(\"Emission_Label\", axis=1, inplace=True)"
      ]
    },
    {
      "cell_type": "code",
      "execution_count": 375,
      "metadata": {
        "id": "-0vwdJxReZsh",
        "colab": {
          "base_uri": "https://localhost:8080/"
        },
        "outputId": "56509baf-83eb-410d-ae81-c5143527d34f"
      },
      "outputs": [
        {
          "output_type": "execute_result",
          "data": {
            "text/plain": [
              "['\\n6\\n']     5822\n",
              "nan           4712\n",
              "['\\n5\\n']     3239\n",
              "['\\n7\\n']     1908\n",
              "['\\n8\\n']      224\n",
              "['\\n9\\n']        6\n",
              "['\\n1\\n']        2\n",
              "['\\n3\\n']        2\n",
              "['\\n4\\n']        2\n",
              "['\\n2\\n']        1\n",
              "['\\n50\\n']       1\n",
              "Name: Gears, dtype: int64"
            ]
          },
          "metadata": {},
          "execution_count": 375
        }
      ],
      "source": [
        "df[\"Gears\"].astype('str').value_counts(dropna=False)"
      ]
    },
    {
      "cell_type": "code",
      "execution_count": 376,
      "metadata": {
        "id": "Za2ibrDCeZxD"
      },
      "outputs": [],
      "source": [
        "df[\"Gears\"] = df.Gears.str[0].str.strip('\\n')"
      ]
    },
    {
      "cell_type": "code",
      "execution_count": 377,
      "metadata": {
        "id": "iNlUg3j6eZ1q",
        "colab": {
          "base_uri": "https://localhost:8080/"
        },
        "outputId": "6f71bd15-2f79-458e-fff7-69f8ddc0ca5b"
      },
      "outputs": [
        {
          "output_type": "execute_result",
          "data": {
            "text/plain": [
              "6      5822\n",
              "NaN    4712\n",
              "5      3239\n",
              "7      1908\n",
              "8       224\n",
              "9         6\n",
              "1         2\n",
              "3         2\n",
              "4         2\n",
              "2         1\n",
              "50        1\n",
              "Name: Gears, dtype: int64"
            ]
          },
          "metadata": {},
          "execution_count": 377
        }
      ],
      "source": [
        "df[\"Gears\"].value_counts(dropna=False)"
      ]
    },
    {
      "cell_type": "code",
      "execution_count": 379,
      "metadata": {
        "id": "a_ZQUytfeZ6F",
        "colab": {
          "base_uri": "https://localhost:8080/"
        },
        "outputId": "ef3c31fd-ba66-455b-fba4-cf1bf9cb6763"
      },
      "outputs": [
        {
          "output_type": "execute_result",
          "data": {
            "text/plain": [
              "nan                       8333\n",
              "['\\nGermany\\n']           4502\n",
              "['\\nItaly\\n']             1038\n",
              "['\\nEuropean Union\\n']     507\n",
              "['\\nNetherlands\\n']        464\n",
              "['\\nSpain\\n']              325\n",
              "['\\nBelgium\\n']            314\n",
              "['\\nAustria\\n']            208\n",
              "['\\nCzech Republic\\n']      52\n",
              "['\\nPoland\\n']              49\n",
              "['\\nFrance\\n']              38\n",
              "['\\nDenmark\\n']             33\n",
              "['\\nHungary\\n']             28\n",
              "['\\nJapan\\n']                8\n",
              "['\\nSlovakia\\n']             4\n",
              "['\\nCroatia\\n']              4\n",
              "['\\nSweden\\n']               3\n",
              "['\\nRomania\\n']              2\n",
              "['\\nBulgaria\\n']             2\n",
              "['\\nLuxembourg\\n']           1\n",
              "['\\nSwitzerland\\n']          1\n",
              "['\\nSlovenia\\n']             1\n",
              "['\\nEgypt\\n']                1\n",
              "['\\nSerbia\\n']               1\n",
              "Name: Country_version, dtype: int64"
            ]
          },
          "metadata": {},
          "execution_count": 379
        }
      ],
      "source": [
        "df[\"Country_version\"].astype('str').value_counts(dropna=False)"
      ]
    },
    {
      "cell_type": "code",
      "execution_count": 380,
      "metadata": {
        "id": "XLQn6VJ7eZ--"
      },
      "outputs": [],
      "source": [
        "df.drop(\"Country_version\", axis=1, inplace=True)"
      ]
    },
    {
      "cell_type": "code",
      "execution_count": 381,
      "metadata": {
        "id": "NXAYg8sifXpw",
        "colab": {
          "base_uri": "https://localhost:8080/"
        },
        "outputId": "f3911944-536d-4612-b978-5a0b30b07fa6"
      },
      "outputs": [
        {
          "output_type": "execute_result",
          "data": {
            "text/plain": [
              "nan                                                                                                                                                                                                                                                                                                                                                                                                       920\n",
              "['Air conditioning', 'Electrical side mirrors', 'Hill Holder', 'Power windows']                                                                                                                                                                                                                                                                                                                           216\n",
              "['Air conditioning', 'Electrical side mirrors', 'Power windows']                                                                                                                                                                                                                                                                                                                                          134\n",
              "['Air conditioning', 'Power windows']                                                                                                                                                                                                                                                                                                                                                                     130\n",
              "['Air conditioning', 'Armrest', 'Automatic climate control', 'Cruise control', 'Electrical side mirrors', 'Leather steering wheel', 'Light sensor', 'Lumbar support', 'Multi-function steering wheel', 'Navigation system', 'Park Distance Control', 'Parking assist system sensors front', 'Parking assist system sensors rear', 'Power windows', 'Rain sensor', 'Seat heating', 'Start-stop system']    105\n",
              "Name: Comfort_Convenience, dtype: int64"
            ]
          },
          "metadata": {},
          "execution_count": 381
        }
      ],
      "source": [
        "df[\"Comfort_Convenience\"].astype('str').value_counts(dropna=False).head()"
      ]
    },
    {
      "cell_type": "code",
      "execution_count": 382,
      "metadata": {
        "id": "fOJb_VW3fXuG"
      },
      "outputs": [],
      "source": [
        "df[\"Comfort_Convenience\"] = [\",\".join(item) if type(item) == list else item for item in df[\"Comfort_Convenience\"]]"
      ]
    },
    {
      "cell_type": "code",
      "execution_count": 383,
      "metadata": {
        "id": "Nkpbro1GfXyb",
        "colab": {
          "base_uri": "https://localhost:8080/"
        },
        "outputId": "0e69bd54-0614-44a0-c482-c96f64b2aa7b"
      },
      "outputs": [
        {
          "output_type": "execute_result",
          "data": {
            "text/plain": [
              "NaN                                                                                                                                                                                                                                                                                                                                                   920\n",
              "Air conditioning,Electrical side mirrors,Hill Holder,Power windows                                                                                                                                                                                                                                                                                    216\n",
              "Air conditioning,Electrical side mirrors,Power windows                                                                                                                                                                                                                                                                                                134\n",
              "Air conditioning,Power windows                                                                                                                                                                                                                                                                                                                        130\n",
              "Air conditioning,Armrest,Automatic climate control,Cruise control,Electrical side mirrors,Leather steering wheel,Light sensor,Lumbar support,Multi-function steering wheel,Navigation system,Park Distance Control,Parking assist system sensors front,Parking assist system sensors rear,Power windows,Rain sensor,Seat heating,Start-stop system    105\n",
              "Name: Comfort_Convenience, dtype: int64"
            ]
          },
          "metadata": {},
          "execution_count": 383
        }
      ],
      "source": [
        "df[\"Comfort_Convenience\"].value_counts(dropna=False).head()"
      ]
    },
    {
      "cell_type": "code",
      "execution_count": 384,
      "metadata": {
        "id": "92geEtBKfX3i",
        "colab": {
          "base_uri": "https://localhost:8080/"
        },
        "outputId": "54bd246b-b372-4266-b219-989228e08b00"
      },
      "outputs": [
        {
          "output_type": "execute_result",
          "data": {
            "text/plain": [
              "nan                                                                                               1374\n",
              "['Bluetooth', 'Hands-free equipment', 'On-board computer', 'Radio', 'USB']                        1282\n",
              "['Bluetooth', 'Hands-free equipment', 'MP3', 'On-board computer', 'Radio', 'USB']                  982\n",
              "['Bluetooth', 'CD player', 'Hands-free equipment', 'MP3', 'On-board computer', 'Radio', 'USB']     783\n",
              "['On-board computer', 'Radio']                                                                     487\n",
              "Name: Entertainment_Media, dtype: int64"
            ]
          },
          "metadata": {},
          "execution_count": 384
        }
      ],
      "source": [
        "df[\"Entertainment_Media\"].astype('str').value_counts(dropna=False).head()"
      ]
    },
    {
      "cell_type": "code",
      "execution_count": 385,
      "metadata": {
        "id": "xF5-eQHAfX-4"
      },
      "outputs": [],
      "source": [
        "df[\"Entertainment_Media\"] = [\",\".join(item) if type(item) == list else item for item in df[\"Entertainment_Media\"]]"
      ]
    },
    {
      "cell_type": "code",
      "execution_count": 386,
      "metadata": {
        "id": "NpyW19N1fnAA",
        "colab": {
          "base_uri": "https://localhost:8080/"
        },
        "outputId": "613692f2-a0b9-4836-bfdd-e0b91034ad09"
      },
      "outputs": [
        {
          "output_type": "execute_result",
          "data": {
            "text/plain": [
              "NaN                                                                         1374\n",
              "Bluetooth,Hands-free equipment,On-board computer,Radio,USB                  1282\n",
              "Bluetooth,Hands-free equipment,MP3,On-board computer,Radio,USB               982\n",
              "Bluetooth,CD player,Hands-free equipment,MP3,On-board computer,Radio,USB     783\n",
              "On-board computer,Radio                                                      487\n",
              "Name: Entertainment_Media, dtype: int64"
            ]
          },
          "metadata": {},
          "execution_count": 386
        }
      ],
      "source": [
        "df[\"Entertainment_Media\"].value_counts(dropna=False).head()"
      ]
    },
    {
      "cell_type": "code",
      "execution_count": 387,
      "metadata": {
        "id": "sIQfEFoufnDr",
        "colab": {
          "base_uri": "https://localhost:8080/"
        },
        "outputId": "15a65dbd-8cb3-485b-99ab-8ba58cbdf772"
      },
      "outputs": [
        {
          "output_type": "execute_result",
          "data": {
            "text/plain": [
              "['Alloy wheels']                                     3245\n",
              "nan                                                  2962\n",
              "['Alloy wheels', 'Touch screen']                      697\n",
              "['Alloy wheels', 'Voice Control']                     577\n",
              "['Alloy wheels', 'Touch screen', 'Voice Control']     541\n",
              "Name: Extras, dtype: int64"
            ]
          },
          "metadata": {},
          "execution_count": 387
        }
      ],
      "source": [
        "df[\"Extras\"].astype('str').value_counts(dropna=False).head()"
      ]
    },
    {
      "cell_type": "code",
      "execution_count": 388,
      "metadata": {
        "id": "wAC58-UifnId"
      },
      "outputs": [],
      "source": [
        "df[\"Extras\"] = [\",\".join(item) if type(item) == list else item for item in df[\"Extras\"]]"
      ]
    },
    {
      "cell_type": "code",
      "execution_count": 389,
      "metadata": {
        "id": "ORQPjO9WfnNx",
        "colab": {
          "base_uri": "https://localhost:8080/"
        },
        "outputId": "fa9cff7f-2c04-4ec7-bd58-b9b903116707"
      },
      "outputs": [
        {
          "output_type": "execute_result",
          "data": {
            "text/plain": [
              "Alloy wheels                               3245\n",
              "NaN                                        2962\n",
              "Alloy wheels,Touch screen                   697\n",
              "Alloy wheels,Voice Control                  577\n",
              "Alloy wheels,Touch screen,Voice Control     541\n",
              "Name: Extras, dtype: int64"
            ]
          },
          "metadata": {},
          "execution_count": 389
        }
      ],
      "source": [
        "df[\"Extras\"].value_counts(dropna=False).head()"
      ]
    },
    {
      "cell_type": "code",
      "execution_count": 390,
      "metadata": {
        "id": "wOfRmhN2fnRw",
        "colab": {
          "base_uri": "https://localhost:8080/"
        },
        "outputId": "c5dfda58-bf38-48cd-c8d4-8159dfd131e5"
      },
      "outputs": [
        {
          "output_type": "execute_result",
          "data": {
            "text/plain": [
              "nan                                                                                                                                                                                                                                                                                                   982\n",
              "['ABS', 'Central door lock', 'Daytime running lights', 'Driver-side airbag', 'Electronic stability control', 'Fog lights', 'Immobilizer', 'Isofix', 'Passenger-side airbag', 'Power steering', 'Side airbag', 'Tire pressure monitoring system', 'Traction control']                                  538\n",
              "['ABS', 'Central door lock', 'Daytime running lights', 'Driver-side airbag', 'Electronic stability control', 'Immobilizer', 'Isofix', 'Passenger-side airbag', 'Power steering', 'Side airbag', 'Tire pressure monitoring system', 'Traction control']                                                480\n",
              "['ABS', 'Central door lock', 'Daytime running lights', 'Driver-side airbag', 'Electronic stability control', 'Immobilizer', 'Isofix', 'Passenger-side airbag', 'Power steering', 'Side airbag', 'Tire pressure monitoring system', 'Traction control', 'Xenon headlights']                            275\n",
              "['ABS', 'Central door lock', 'Daytime running lights', 'Driver-side airbag', 'Electronic stability control', 'Fog lights', 'Immobilizer', 'Isofix', 'LED Daytime Running Lights', 'Passenger-side airbag', 'Power steering', 'Side airbag', 'Tire pressure monitoring system', 'Traction control']    272\n",
              "Name: Safety_Security, dtype: int64"
            ]
          },
          "metadata": {},
          "execution_count": 390
        }
      ],
      "source": [
        "df[\"Safety_Security\"].astype('str').value_counts(dropna=False).head()"
      ]
    },
    {
      "cell_type": "code",
      "execution_count": 391,
      "metadata": {
        "id": "W9MqXy25fnYj"
      },
      "outputs": [],
      "source": [
        "df[\"Safety_Security\"] = [\",\".join(item) if type(item) == list else item for item in df[\"Safety_Security\"]]"
      ]
    },
    {
      "cell_type": "code",
      "execution_count": 392,
      "metadata": {
        "id": "N4V5Rt7Nf7BW",
        "colab": {
          "base_uri": "https://localhost:8080/"
        },
        "outputId": "95e5b479-a1ab-4099-ae3b-7210943b3603"
      },
      "outputs": [
        {
          "output_type": "execute_result",
          "data": {
            "text/plain": [
              "NaN                                                                                                                                                                                                                                                        982\n",
              "ABS,Central door lock,Daytime running lights,Driver-side airbag,Electronic stability control,Fog lights,Immobilizer,Isofix,Passenger-side airbag,Power steering,Side airbag,Tire pressure monitoring system,Traction control                               538\n",
              "ABS,Central door lock,Daytime running lights,Driver-side airbag,Electronic stability control,Immobilizer,Isofix,Passenger-side airbag,Power steering,Side airbag,Tire pressure monitoring system,Traction control                                          480\n",
              "ABS,Central door lock,Daytime running lights,Driver-side airbag,Electronic stability control,Immobilizer,Isofix,Passenger-side airbag,Power steering,Side airbag,Tire pressure monitoring system,Traction control,Xenon headlights                         275\n",
              "ABS,Central door lock,Daytime running lights,Driver-side airbag,Electronic stability control,Fog lights,Immobilizer,Isofix,LED Daytime Running Lights,Passenger-side airbag,Power steering,Side airbag,Tire pressure monitoring system,Traction control    272\n",
              "Name: Safety_Security, dtype: int64"
            ]
          },
          "metadata": {},
          "execution_count": 392
        }
      ],
      "source": [
        "df[\"Safety_Security\"].value_counts(dropna=False).head()"
      ]
    },
    {
      "cell_type": "code",
      "execution_count": 398,
      "metadata": {
        "id": "fNb592x3f7Fm"
      },
      "outputs": [],
      "source": [
        "df.to_csv(\"clean_scout.csv\", index=False)"
      ]
    }
  ],
  "metadata": {
    "colab": {
      "collapsed_sections": [],
      "name": "DAwPy_Capstone_Project_(AutoScout)_Student (1-DATA CLEANING F 1218 B USTA) (1).ipynb",
      "provenance": [],
      "include_colab_link": true
    },
    "kernelspec": {
      "display_name": "Python 3 (ipykernel)",
      "language": "python",
      "name": "python3"
    },
    "language_info": {
      "codemirror_mode": {
        "name": "ipython",
        "version": 3
      },
      "file_extension": ".py",
      "mimetype": "text/x-python",
      "name": "python",
      "nbconvert_exporter": "python",
      "pygments_lexer": "ipython3",
      "version": "3.9.12"
    },
    "toc": {
      "base_numbering": 1,
      "nav_menu": {},
      "number_sections": false,
      "sideBar": true,
      "skip_h1_title": false,
      "title_cell": "Table of Contents",
      "title_sidebar": "Contents",
      "toc_cell": false,
      "toc_position": {},
      "toc_section_display": true,
      "toc_window_display": false
    }
  },
  "nbformat": 4,
  "nbformat_minor": 0
}